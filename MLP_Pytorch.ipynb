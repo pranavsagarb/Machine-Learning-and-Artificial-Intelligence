{
  "nbformat": 4,
  "nbformat_minor": 0,
  "metadata": {
    "colab": {
      "provenance": []
    },
    "kernelspec": {
      "name": "python3",
      "display_name": "Python 3"
    },
    "accelerator": "GPU",
    "widgets": {
      "application/vnd.jupyter.widget-state+json": {
        "b3fbf98f17774e15ad696a7d08b8746c": {
          "model_module": "@jupyter-widgets/controls",
          "model_name": "HBoxModel",
          "state": {
            "_view_name": "HBoxView",
            "_dom_classes": [],
            "_model_name": "HBoxModel",
            "_view_module": "@jupyter-widgets/controls",
            "_model_module_version": "1.5.0",
            "_view_count": null,
            "_view_module_version": "1.5.0",
            "box_style": "",
            "layout": "IPY_MODEL_9a3b81d0cfd24f84b7882d53f6344212",
            "_model_module": "@jupyter-widgets/controls",
            "children": [
              "IPY_MODEL_1462af08bf91489ea7b5b56babb152d3",
              "IPY_MODEL_408ff9452cae4fdda097917b1ef31190"
            ]
          },
          "model_module_version": "1.5.0"
        },
        "9a3b81d0cfd24f84b7882d53f6344212": {
          "model_module": "@jupyter-widgets/base",
          "model_name": "LayoutModel",
          "state": {
            "_view_name": "LayoutView",
            "grid_template_rows": null,
            "right": null,
            "justify_content": null,
            "_view_module": "@jupyter-widgets/base",
            "overflow": null,
            "_model_module_version": "1.2.0",
            "_view_count": null,
            "flex_flow": null,
            "width": null,
            "min_width": null,
            "border": null,
            "align_items": null,
            "bottom": null,
            "_model_module": "@jupyter-widgets/base",
            "top": null,
            "grid_column": null,
            "overflow_y": null,
            "overflow_x": null,
            "grid_auto_flow": null,
            "grid_area": null,
            "grid_template_columns": null,
            "flex": null,
            "_model_name": "LayoutModel",
            "justify_items": null,
            "grid_row": null,
            "max_height": null,
            "align_content": null,
            "visibility": null,
            "align_self": null,
            "height": null,
            "min_height": null,
            "padding": null,
            "grid_auto_rows": null,
            "grid_gap": null,
            "max_width": null,
            "order": null,
            "_view_module_version": "1.2.0",
            "grid_template_areas": null,
            "object_position": null,
            "object_fit": null,
            "grid_auto_columns": null,
            "margin": null,
            "display": null,
            "left": null
          },
          "model_module_version": "1.2.0"
        },
        "1462af08bf91489ea7b5b56babb152d3": {
          "model_module": "@jupyter-widgets/controls",
          "model_name": "IntProgressModel",
          "state": {
            "_view_name": "ProgressView",
            "style": "IPY_MODEL_ebdcfe2f285d46c482d56e4d9806a812",
            "_dom_classes": [],
            "description": "",
            "_model_name": "IntProgressModel",
            "bar_style": "success",
            "max": 1,
            "_view_module": "@jupyter-widgets/controls",
            "_model_module_version": "1.5.0",
            "value": 1,
            "_view_count": null,
            "_view_module_version": "1.5.0",
            "orientation": "horizontal",
            "min": 0,
            "description_tooltip": null,
            "_model_module": "@jupyter-widgets/controls",
            "layout": "IPY_MODEL_7227ab07c58f498ba539f83a9bd5ea9a"
          },
          "model_module_version": "1.5.0"
        },
        "408ff9452cae4fdda097917b1ef31190": {
          "model_module": "@jupyter-widgets/controls",
          "model_name": "HTMLModel",
          "state": {
            "_view_name": "HTMLView",
            "style": "IPY_MODEL_b92730439af248a9bd9bfecf81a6bbb8",
            "_dom_classes": [],
            "description": "",
            "_model_name": "HTMLModel",
            "placeholder": "​",
            "_view_module": "@jupyter-widgets/controls",
            "_model_module_version": "1.5.0",
            "value": "9920512it [00:00, 10347972.69it/s]",
            "_view_count": null,
            "_view_module_version": "1.5.0",
            "description_tooltip": null,
            "_model_module": "@jupyter-widgets/controls",
            "layout": "IPY_MODEL_3924782560a546fea1e711c16b8a1942"
          },
          "model_module_version": "1.5.0"
        },
        "ebdcfe2f285d46c482d56e4d9806a812": {
          "model_module": "@jupyter-widgets/controls",
          "model_name": "ProgressStyleModel",
          "state": {
            "_view_name": "StyleView",
            "_model_name": "ProgressStyleModel",
            "description_width": "",
            "_view_module": "@jupyter-widgets/base",
            "_model_module_version": "1.5.0",
            "_view_count": null,
            "_view_module_version": "1.2.0",
            "bar_color": null,
            "_model_module": "@jupyter-widgets/controls"
          },
          "model_module_version": "1.5.0"
        },
        "7227ab07c58f498ba539f83a9bd5ea9a": {
          "model_module": "@jupyter-widgets/base",
          "model_name": "LayoutModel",
          "state": {
            "_view_name": "LayoutView",
            "grid_template_rows": null,
            "right": null,
            "justify_content": null,
            "_view_module": "@jupyter-widgets/base",
            "overflow": null,
            "_model_module_version": "1.2.0",
            "_view_count": null,
            "flex_flow": null,
            "width": null,
            "min_width": null,
            "border": null,
            "align_items": null,
            "bottom": null,
            "_model_module": "@jupyter-widgets/base",
            "top": null,
            "grid_column": null,
            "overflow_y": null,
            "overflow_x": null,
            "grid_auto_flow": null,
            "grid_area": null,
            "grid_template_columns": null,
            "flex": null,
            "_model_name": "LayoutModel",
            "justify_items": null,
            "grid_row": null,
            "max_height": null,
            "align_content": null,
            "visibility": null,
            "align_self": null,
            "height": null,
            "min_height": null,
            "padding": null,
            "grid_auto_rows": null,
            "grid_gap": null,
            "max_width": null,
            "order": null,
            "_view_module_version": "1.2.0",
            "grid_template_areas": null,
            "object_position": null,
            "object_fit": null,
            "grid_auto_columns": null,
            "margin": null,
            "display": null,
            "left": null
          },
          "model_module_version": "1.2.0"
        },
        "b92730439af248a9bd9bfecf81a6bbb8": {
          "model_module": "@jupyter-widgets/controls",
          "model_name": "DescriptionStyleModel",
          "state": {
            "_view_name": "StyleView",
            "_model_name": "DescriptionStyleModel",
            "description_width": "",
            "_view_module": "@jupyter-widgets/base",
            "_model_module_version": "1.5.0",
            "_view_count": null,
            "_view_module_version": "1.2.0",
            "_model_module": "@jupyter-widgets/controls"
          },
          "model_module_version": "1.5.0"
        },
        "3924782560a546fea1e711c16b8a1942": {
          "model_module": "@jupyter-widgets/base",
          "model_name": "LayoutModel",
          "state": {
            "_view_name": "LayoutView",
            "grid_template_rows": null,
            "right": null,
            "justify_content": null,
            "_view_module": "@jupyter-widgets/base",
            "overflow": null,
            "_model_module_version": "1.2.0",
            "_view_count": null,
            "flex_flow": null,
            "width": null,
            "min_width": null,
            "border": null,
            "align_items": null,
            "bottom": null,
            "_model_module": "@jupyter-widgets/base",
            "top": null,
            "grid_column": null,
            "overflow_y": null,
            "overflow_x": null,
            "grid_auto_flow": null,
            "grid_area": null,
            "grid_template_columns": null,
            "flex": null,
            "_model_name": "LayoutModel",
            "justify_items": null,
            "grid_row": null,
            "max_height": null,
            "align_content": null,
            "visibility": null,
            "align_self": null,
            "height": null,
            "min_height": null,
            "padding": null,
            "grid_auto_rows": null,
            "grid_gap": null,
            "max_width": null,
            "order": null,
            "_view_module_version": "1.2.0",
            "grid_template_areas": null,
            "object_position": null,
            "object_fit": null,
            "grid_auto_columns": null,
            "margin": null,
            "display": null,
            "left": null
          },
          "model_module_version": "1.2.0"
        },
        "59a8e704e962498d86f60c2814980712": {
          "model_module": "@jupyter-widgets/controls",
          "model_name": "HBoxModel",
          "state": {
            "_view_name": "HBoxView",
            "_dom_classes": [],
            "_model_name": "HBoxModel",
            "_view_module": "@jupyter-widgets/controls",
            "_model_module_version": "1.5.0",
            "_view_count": null,
            "_view_module_version": "1.5.0",
            "box_style": "",
            "layout": "IPY_MODEL_faf7ccb0ae8e4f1eb7dc1c16496db53f",
            "_model_module": "@jupyter-widgets/controls",
            "children": [
              "IPY_MODEL_4fb694c61a744b549982fa6993b743d1",
              "IPY_MODEL_104b5ec3613e44c481157f496c19fc3f"
            ]
          },
          "model_module_version": "1.5.0"
        },
        "faf7ccb0ae8e4f1eb7dc1c16496db53f": {
          "model_module": "@jupyter-widgets/base",
          "model_name": "LayoutModel",
          "state": {
            "_view_name": "LayoutView",
            "grid_template_rows": null,
            "right": null,
            "justify_content": null,
            "_view_module": "@jupyter-widgets/base",
            "overflow": null,
            "_model_module_version": "1.2.0",
            "_view_count": null,
            "flex_flow": null,
            "width": null,
            "min_width": null,
            "border": null,
            "align_items": null,
            "bottom": null,
            "_model_module": "@jupyter-widgets/base",
            "top": null,
            "grid_column": null,
            "overflow_y": null,
            "overflow_x": null,
            "grid_auto_flow": null,
            "grid_area": null,
            "grid_template_columns": null,
            "flex": null,
            "_model_name": "LayoutModel",
            "justify_items": null,
            "grid_row": null,
            "max_height": null,
            "align_content": null,
            "visibility": null,
            "align_self": null,
            "height": null,
            "min_height": null,
            "padding": null,
            "grid_auto_rows": null,
            "grid_gap": null,
            "max_width": null,
            "order": null,
            "_view_module_version": "1.2.0",
            "grid_template_areas": null,
            "object_position": null,
            "object_fit": null,
            "grid_auto_columns": null,
            "margin": null,
            "display": null,
            "left": null
          },
          "model_module_version": "1.2.0"
        },
        "4fb694c61a744b549982fa6993b743d1": {
          "model_module": "@jupyter-widgets/controls",
          "model_name": "IntProgressModel",
          "state": {
            "_view_name": "ProgressView",
            "style": "IPY_MODEL_c87e8cf0a1594f71b8d53543a7d43bf5",
            "_dom_classes": [],
            "description": "",
            "_model_name": "IntProgressModel",
            "bar_style": "success",
            "max": 1,
            "_view_module": "@jupyter-widgets/controls",
            "_model_module_version": "1.5.0",
            "value": 1,
            "_view_count": null,
            "_view_module_version": "1.5.0",
            "orientation": "horizontal",
            "min": 0,
            "description_tooltip": null,
            "_model_module": "@jupyter-widgets/controls",
            "layout": "IPY_MODEL_c443df94a51945c8a30dd33fb809a35a"
          },
          "model_module_version": "1.5.0"
        },
        "104b5ec3613e44c481157f496c19fc3f": {
          "model_module": "@jupyter-widgets/controls",
          "model_name": "HTMLModel",
          "state": {
            "_view_name": "HTMLView",
            "style": "IPY_MODEL_acc2a7d90f6e409e94de7b856dda3422",
            "_dom_classes": [],
            "description": "",
            "_model_name": "HTMLModel",
            "placeholder": "​",
            "_view_module": "@jupyter-widgets/controls",
            "_model_module_version": "1.5.0",
            "value": "32768it [00:00, 120657.96it/s]",
            "_view_count": null,
            "_view_module_version": "1.5.0",
            "description_tooltip": null,
            "_model_module": "@jupyter-widgets/controls",
            "layout": "IPY_MODEL_5ade853a1c7e4033ade3e58f3317c6e0"
          },
          "model_module_version": "1.5.0"
        },
        "c87e8cf0a1594f71b8d53543a7d43bf5": {
          "model_module": "@jupyter-widgets/controls",
          "model_name": "ProgressStyleModel",
          "state": {
            "_view_name": "StyleView",
            "_model_name": "ProgressStyleModel",
            "description_width": "",
            "_view_module": "@jupyter-widgets/base",
            "_model_module_version": "1.5.0",
            "_view_count": null,
            "_view_module_version": "1.2.0",
            "bar_color": null,
            "_model_module": "@jupyter-widgets/controls"
          },
          "model_module_version": "1.5.0"
        },
        "c443df94a51945c8a30dd33fb809a35a": {
          "model_module": "@jupyter-widgets/base",
          "model_name": "LayoutModel",
          "state": {
            "_view_name": "LayoutView",
            "grid_template_rows": null,
            "right": null,
            "justify_content": null,
            "_view_module": "@jupyter-widgets/base",
            "overflow": null,
            "_model_module_version": "1.2.0",
            "_view_count": null,
            "flex_flow": null,
            "width": null,
            "min_width": null,
            "border": null,
            "align_items": null,
            "bottom": null,
            "_model_module": "@jupyter-widgets/base",
            "top": null,
            "grid_column": null,
            "overflow_y": null,
            "overflow_x": null,
            "grid_auto_flow": null,
            "grid_area": null,
            "grid_template_columns": null,
            "flex": null,
            "_model_name": "LayoutModel",
            "justify_items": null,
            "grid_row": null,
            "max_height": null,
            "align_content": null,
            "visibility": null,
            "align_self": null,
            "height": null,
            "min_height": null,
            "padding": null,
            "grid_auto_rows": null,
            "grid_gap": null,
            "max_width": null,
            "order": null,
            "_view_module_version": "1.2.0",
            "grid_template_areas": null,
            "object_position": null,
            "object_fit": null,
            "grid_auto_columns": null,
            "margin": null,
            "display": null,
            "left": null
          },
          "model_module_version": "1.2.0"
        },
        "acc2a7d90f6e409e94de7b856dda3422": {
          "model_module": "@jupyter-widgets/controls",
          "model_name": "DescriptionStyleModel",
          "state": {
            "_view_name": "StyleView",
            "_model_name": "DescriptionStyleModel",
            "description_width": "",
            "_view_module": "@jupyter-widgets/base",
            "_model_module_version": "1.5.0",
            "_view_count": null,
            "_view_module_version": "1.2.0",
            "_model_module": "@jupyter-widgets/controls"
          },
          "model_module_version": "1.5.0"
        },
        "5ade853a1c7e4033ade3e58f3317c6e0": {
          "model_module": "@jupyter-widgets/base",
          "model_name": "LayoutModel",
          "state": {
            "_view_name": "LayoutView",
            "grid_template_rows": null,
            "right": null,
            "justify_content": null,
            "_view_module": "@jupyter-widgets/base",
            "overflow": null,
            "_model_module_version": "1.2.0",
            "_view_count": null,
            "flex_flow": null,
            "width": null,
            "min_width": null,
            "border": null,
            "align_items": null,
            "bottom": null,
            "_model_module": "@jupyter-widgets/base",
            "top": null,
            "grid_column": null,
            "overflow_y": null,
            "overflow_x": null,
            "grid_auto_flow": null,
            "grid_area": null,
            "grid_template_columns": null,
            "flex": null,
            "_model_name": "LayoutModel",
            "justify_items": null,
            "grid_row": null,
            "max_height": null,
            "align_content": null,
            "visibility": null,
            "align_self": null,
            "height": null,
            "min_height": null,
            "padding": null,
            "grid_auto_rows": null,
            "grid_gap": null,
            "max_width": null,
            "order": null,
            "_view_module_version": "1.2.0",
            "grid_template_areas": null,
            "object_position": null,
            "object_fit": null,
            "grid_auto_columns": null,
            "margin": null,
            "display": null,
            "left": null
          },
          "model_module_version": "1.2.0"
        },
        "ead8267af8aa4cd996e390ce6e6a3333": {
          "model_module": "@jupyter-widgets/controls",
          "model_name": "HBoxModel",
          "state": {
            "_view_name": "HBoxView",
            "_dom_classes": [],
            "_model_name": "HBoxModel",
            "_view_module": "@jupyter-widgets/controls",
            "_model_module_version": "1.5.0",
            "_view_count": null,
            "_view_module_version": "1.5.0",
            "box_style": "",
            "layout": "IPY_MODEL_03c2c1191d5c42728784980c314bea64",
            "_model_module": "@jupyter-widgets/controls",
            "children": [
              "IPY_MODEL_f1382d2e4b8a42f6bf595d05a1f9e0e2",
              "IPY_MODEL_c58bffd81831422d88b6a7b5c15649f3"
            ]
          },
          "model_module_version": "1.5.0"
        },
        "03c2c1191d5c42728784980c314bea64": {
          "model_module": "@jupyter-widgets/base",
          "model_name": "LayoutModel",
          "state": {
            "_view_name": "LayoutView",
            "grid_template_rows": null,
            "right": null,
            "justify_content": null,
            "_view_module": "@jupyter-widgets/base",
            "overflow": null,
            "_model_module_version": "1.2.0",
            "_view_count": null,
            "flex_flow": null,
            "width": null,
            "min_width": null,
            "border": null,
            "align_items": null,
            "bottom": null,
            "_model_module": "@jupyter-widgets/base",
            "top": null,
            "grid_column": null,
            "overflow_y": null,
            "overflow_x": null,
            "grid_auto_flow": null,
            "grid_area": null,
            "grid_template_columns": null,
            "flex": null,
            "_model_name": "LayoutModel",
            "justify_items": null,
            "grid_row": null,
            "max_height": null,
            "align_content": null,
            "visibility": null,
            "align_self": null,
            "height": null,
            "min_height": null,
            "padding": null,
            "grid_auto_rows": null,
            "grid_gap": null,
            "max_width": null,
            "order": null,
            "_view_module_version": "1.2.0",
            "grid_template_areas": null,
            "object_position": null,
            "object_fit": null,
            "grid_auto_columns": null,
            "margin": null,
            "display": null,
            "left": null
          },
          "model_module_version": "1.2.0"
        },
        "f1382d2e4b8a42f6bf595d05a1f9e0e2": {
          "model_module": "@jupyter-widgets/controls",
          "model_name": "IntProgressModel",
          "state": {
            "_view_name": "ProgressView",
            "style": "IPY_MODEL_1c0d38aeebcf42f5b1c25206afe33480",
            "_dom_classes": [],
            "description": "",
            "_model_name": "IntProgressModel",
            "bar_style": "success",
            "max": 1,
            "_view_module": "@jupyter-widgets/controls",
            "_model_module_version": "1.5.0",
            "value": 1,
            "_view_count": null,
            "_view_module_version": "1.5.0",
            "orientation": "horizontal",
            "min": 0,
            "description_tooltip": null,
            "_model_module": "@jupyter-widgets/controls",
            "layout": "IPY_MODEL_651bc07b9b954af292757a3c3ef7a8cf"
          },
          "model_module_version": "1.5.0"
        },
        "c58bffd81831422d88b6a7b5c15649f3": {
          "model_module": "@jupyter-widgets/controls",
          "model_name": "HTMLModel",
          "state": {
            "_view_name": "HTMLView",
            "style": "IPY_MODEL_b7299e7a6fd643ffb98928f58dd3e55e",
            "_dom_classes": [],
            "description": "",
            "_model_name": "HTMLModel",
            "placeholder": "​",
            "_view_module": "@jupyter-widgets/controls",
            "_model_module_version": "1.5.0",
            "value": "1654784it [00:00, 2550057.39it/s]",
            "_view_count": null,
            "_view_module_version": "1.5.0",
            "description_tooltip": null,
            "_model_module": "@jupyter-widgets/controls",
            "layout": "IPY_MODEL_90c0ebbc87914102aace3350f417873c"
          },
          "model_module_version": "1.5.0"
        },
        "1c0d38aeebcf42f5b1c25206afe33480": {
          "model_module": "@jupyter-widgets/controls",
          "model_name": "ProgressStyleModel",
          "state": {
            "_view_name": "StyleView",
            "_model_name": "ProgressStyleModel",
            "description_width": "",
            "_view_module": "@jupyter-widgets/base",
            "_model_module_version": "1.5.0",
            "_view_count": null,
            "_view_module_version": "1.2.0",
            "bar_color": null,
            "_model_module": "@jupyter-widgets/controls"
          },
          "model_module_version": "1.5.0"
        },
        "651bc07b9b954af292757a3c3ef7a8cf": {
          "model_module": "@jupyter-widgets/base",
          "model_name": "LayoutModel",
          "state": {
            "_view_name": "LayoutView",
            "grid_template_rows": null,
            "right": null,
            "justify_content": null,
            "_view_module": "@jupyter-widgets/base",
            "overflow": null,
            "_model_module_version": "1.2.0",
            "_view_count": null,
            "flex_flow": null,
            "width": null,
            "min_width": null,
            "border": null,
            "align_items": null,
            "bottom": null,
            "_model_module": "@jupyter-widgets/base",
            "top": null,
            "grid_column": null,
            "overflow_y": null,
            "overflow_x": null,
            "grid_auto_flow": null,
            "grid_area": null,
            "grid_template_columns": null,
            "flex": null,
            "_model_name": "LayoutModel",
            "justify_items": null,
            "grid_row": null,
            "max_height": null,
            "align_content": null,
            "visibility": null,
            "align_self": null,
            "height": null,
            "min_height": null,
            "padding": null,
            "grid_auto_rows": null,
            "grid_gap": null,
            "max_width": null,
            "order": null,
            "_view_module_version": "1.2.0",
            "grid_template_areas": null,
            "object_position": null,
            "object_fit": null,
            "grid_auto_columns": null,
            "margin": null,
            "display": null,
            "left": null
          },
          "model_module_version": "1.2.0"
        },
        "b7299e7a6fd643ffb98928f58dd3e55e": {
          "model_module": "@jupyter-widgets/controls",
          "model_name": "DescriptionStyleModel",
          "state": {
            "_view_name": "StyleView",
            "_model_name": "DescriptionStyleModel",
            "description_width": "",
            "_view_module": "@jupyter-widgets/base",
            "_model_module_version": "1.5.0",
            "_view_count": null,
            "_view_module_version": "1.2.0",
            "_model_module": "@jupyter-widgets/controls"
          },
          "model_module_version": "1.5.0"
        },
        "90c0ebbc87914102aace3350f417873c": {
          "model_module": "@jupyter-widgets/base",
          "model_name": "LayoutModel",
          "state": {
            "_view_name": "LayoutView",
            "grid_template_rows": null,
            "right": null,
            "justify_content": null,
            "_view_module": "@jupyter-widgets/base",
            "overflow": null,
            "_model_module_version": "1.2.0",
            "_view_count": null,
            "flex_flow": null,
            "width": null,
            "min_width": null,
            "border": null,
            "align_items": null,
            "bottom": null,
            "_model_module": "@jupyter-widgets/base",
            "top": null,
            "grid_column": null,
            "overflow_y": null,
            "overflow_x": null,
            "grid_auto_flow": null,
            "grid_area": null,
            "grid_template_columns": null,
            "flex": null,
            "_model_name": "LayoutModel",
            "justify_items": null,
            "grid_row": null,
            "max_height": null,
            "align_content": null,
            "visibility": null,
            "align_self": null,
            "height": null,
            "min_height": null,
            "padding": null,
            "grid_auto_rows": null,
            "grid_gap": null,
            "max_width": null,
            "order": null,
            "_view_module_version": "1.2.0",
            "grid_template_areas": null,
            "object_position": null,
            "object_fit": null,
            "grid_auto_columns": null,
            "margin": null,
            "display": null,
            "left": null
          },
          "model_module_version": "1.2.0"
        },
        "320f6246d8c94fbabd1694ffc7d1f0fc": {
          "model_module": "@jupyter-widgets/controls",
          "model_name": "HBoxModel",
          "state": {
            "_view_name": "HBoxView",
            "_dom_classes": [],
            "_model_name": "HBoxModel",
            "_view_module": "@jupyter-widgets/controls",
            "_model_module_version": "1.5.0",
            "_view_count": null,
            "_view_module_version": "1.5.0",
            "box_style": "",
            "layout": "IPY_MODEL_0f84c4112c4c4b4993eb692a41c006a3",
            "_model_module": "@jupyter-widgets/controls",
            "children": [
              "IPY_MODEL_d86a138a4bed4c5bbdd9733e6b499d28",
              "IPY_MODEL_b3d56ef358de4eff88302b77c3719449"
            ]
          },
          "model_module_version": "1.5.0"
        },
        "0f84c4112c4c4b4993eb692a41c006a3": {
          "model_module": "@jupyter-widgets/base",
          "model_name": "LayoutModel",
          "state": {
            "_view_name": "LayoutView",
            "grid_template_rows": null,
            "right": null,
            "justify_content": null,
            "_view_module": "@jupyter-widgets/base",
            "overflow": null,
            "_model_module_version": "1.2.0",
            "_view_count": null,
            "flex_flow": null,
            "width": null,
            "min_width": null,
            "border": null,
            "align_items": null,
            "bottom": null,
            "_model_module": "@jupyter-widgets/base",
            "top": null,
            "grid_column": null,
            "overflow_y": null,
            "overflow_x": null,
            "grid_auto_flow": null,
            "grid_area": null,
            "grid_template_columns": null,
            "flex": null,
            "_model_name": "LayoutModel",
            "justify_items": null,
            "grid_row": null,
            "max_height": null,
            "align_content": null,
            "visibility": null,
            "align_self": null,
            "height": null,
            "min_height": null,
            "padding": null,
            "grid_auto_rows": null,
            "grid_gap": null,
            "max_width": null,
            "order": null,
            "_view_module_version": "1.2.0",
            "grid_template_areas": null,
            "object_position": null,
            "object_fit": null,
            "grid_auto_columns": null,
            "margin": null,
            "display": null,
            "left": null
          },
          "model_module_version": "1.2.0"
        },
        "d86a138a4bed4c5bbdd9733e6b499d28": {
          "model_module": "@jupyter-widgets/controls",
          "model_name": "IntProgressModel",
          "state": {
            "_view_name": "ProgressView",
            "style": "IPY_MODEL_e3f0b7ea881349938690c2b60b4e1a76",
            "_dom_classes": [],
            "description": "",
            "_model_name": "IntProgressModel",
            "bar_style": "success",
            "max": 1,
            "_view_module": "@jupyter-widgets/controls",
            "_model_module_version": "1.5.0",
            "value": 1,
            "_view_count": null,
            "_view_module_version": "1.5.0",
            "orientation": "horizontal",
            "min": 0,
            "description_tooltip": null,
            "_model_module": "@jupyter-widgets/controls",
            "layout": "IPY_MODEL_2d70473f496a43b4ada1d913e5ed1592"
          },
          "model_module_version": "1.5.0"
        },
        "b3d56ef358de4eff88302b77c3719449": {
          "model_module": "@jupyter-widgets/controls",
          "model_name": "HTMLModel",
          "state": {
            "_view_name": "HTMLView",
            "style": "IPY_MODEL_a40fa8b7a5024847939f894a3ac9fda8",
            "_dom_classes": [],
            "description": "",
            "_model_name": "HTMLModel",
            "placeholder": "​",
            "_view_module": "@jupyter-widgets/controls",
            "_model_module_version": "1.5.0",
            "value": "8192it [00:00, 32378.44it/s]",
            "_view_count": null,
            "_view_module_version": "1.5.0",
            "description_tooltip": null,
            "_model_module": "@jupyter-widgets/controls",
            "layout": "IPY_MODEL_b7cab66360a84c048995dcc84640463e"
          },
          "model_module_version": "1.5.0"
        },
        "e3f0b7ea881349938690c2b60b4e1a76": {
          "model_module": "@jupyter-widgets/controls",
          "model_name": "ProgressStyleModel",
          "state": {
            "_view_name": "StyleView",
            "_model_name": "ProgressStyleModel",
            "description_width": "",
            "_view_module": "@jupyter-widgets/base",
            "_model_module_version": "1.5.0",
            "_view_count": null,
            "_view_module_version": "1.2.0",
            "bar_color": null,
            "_model_module": "@jupyter-widgets/controls"
          },
          "model_module_version": "1.5.0"
        },
        "2d70473f496a43b4ada1d913e5ed1592": {
          "model_module": "@jupyter-widgets/base",
          "model_name": "LayoutModel",
          "state": {
            "_view_name": "LayoutView",
            "grid_template_rows": null,
            "right": null,
            "justify_content": null,
            "_view_module": "@jupyter-widgets/base",
            "overflow": null,
            "_model_module_version": "1.2.0",
            "_view_count": null,
            "flex_flow": null,
            "width": null,
            "min_width": null,
            "border": null,
            "align_items": null,
            "bottom": null,
            "_model_module": "@jupyter-widgets/base",
            "top": null,
            "grid_column": null,
            "overflow_y": null,
            "overflow_x": null,
            "grid_auto_flow": null,
            "grid_area": null,
            "grid_template_columns": null,
            "flex": null,
            "_model_name": "LayoutModel",
            "justify_items": null,
            "grid_row": null,
            "max_height": null,
            "align_content": null,
            "visibility": null,
            "align_self": null,
            "height": null,
            "min_height": null,
            "padding": null,
            "grid_auto_rows": null,
            "grid_gap": null,
            "max_width": null,
            "order": null,
            "_view_module_version": "1.2.0",
            "grid_template_areas": null,
            "object_position": null,
            "object_fit": null,
            "grid_auto_columns": null,
            "margin": null,
            "display": null,
            "left": null
          },
          "model_module_version": "1.2.0"
        },
        "a40fa8b7a5024847939f894a3ac9fda8": {
          "model_module": "@jupyter-widgets/controls",
          "model_name": "DescriptionStyleModel",
          "state": {
            "_view_name": "StyleView",
            "_model_name": "DescriptionStyleModel",
            "description_width": "",
            "_view_module": "@jupyter-widgets/base",
            "_model_module_version": "1.5.0",
            "_view_count": null,
            "_view_module_version": "1.2.0",
            "_model_module": "@jupyter-widgets/controls"
          },
          "model_module_version": "1.5.0"
        },
        "b7cab66360a84c048995dcc84640463e": {
          "model_module": "@jupyter-widgets/base",
          "model_name": "LayoutModel",
          "state": {
            "_view_name": "LayoutView",
            "grid_template_rows": null,
            "right": null,
            "justify_content": null,
            "_view_module": "@jupyter-widgets/base",
            "overflow": null,
            "_model_module_version": "1.2.0",
            "_view_count": null,
            "flex_flow": null,
            "width": null,
            "min_width": null,
            "border": null,
            "align_items": null,
            "bottom": null,
            "_model_module": "@jupyter-widgets/base",
            "top": null,
            "grid_column": null,
            "overflow_y": null,
            "overflow_x": null,
            "grid_auto_flow": null,
            "grid_area": null,
            "grid_template_columns": null,
            "flex": null,
            "_model_name": "LayoutModel",
            "justify_items": null,
            "grid_row": null,
            "max_height": null,
            "align_content": null,
            "visibility": null,
            "align_self": null,
            "height": null,
            "min_height": null,
            "padding": null,
            "grid_auto_rows": null,
            "grid_gap": null,
            "max_width": null,
            "order": null,
            "_view_module_version": "1.2.0",
            "grid_template_areas": null,
            "object_position": null,
            "object_fit": null,
            "grid_auto_columns": null,
            "margin": null,
            "display": null,
            "left": null
          },
          "model_module_version": "1.2.0"
        }
      }
    }
  },
  "cells": [
    {
      "cell_type": "markdown",
      "metadata": {
        "id": "xfejswS7kyMw"
      },
      "source": [
        "At the end of the experiment, you will be able to:\n",
        "\n",
        "* Understand how to implement MLP using PyTorch to run on GPU\n"
      ]
    },
    {
      "cell_type": "markdown",
      "metadata": {
        "id": "tyF_hOsQlEvM"
      },
      "source": [
        "\n",
        "Handwriting changes person to person. Some of us have neat handwriting and some have illegible handwriting such as doctors. However, if you think about it even a child who recognizes alphabets and numerics can identify the characters of a text even written by a stranger. But even a technically knowledgeable adult cannot describe the process by which he or she recognizes the text/letters. As you know this is an excellent challenge for Machine Learning.\n",
        "\n",
        "![altxt](https://i.pinimg.com/originals/f2/7a/ac/f27aac4542c0090872110836d65f4c99.jpg)\n",
        "\n",
        "The experiment handles a subset of text recognition, namely recognizing the 10 numerals (0 to 9) from scanned images.\n"
      ]
    },
    {
      "cell_type": "code",
      "metadata": {
        "id": "6PyxQ88tqvxM"
      },
      "source": [
        "## Importing required packages\n",
        "%matplotlib inline\n",
        "\n",
        "### Importing torch packages\n",
        "import torch\n",
        "import torch.nn as nn\n",
        "import torch.nn.functional as F\n",
        "import torch.optim as optim\n",
        "from torchvision import datasets, transforms\n",
        "\n",
        "## Importing python packages\n",
        "import numpy as np\n",
        "import matplotlib.pyplot as plt\n",
        "import seaborn as sns"
      ],
      "execution_count": null,
      "outputs": []
    },
    {
      "cell_type": "markdown",
      "metadata": {
        "id": "vbm-8HxIqvxR"
      },
      "source": [
        "#### 1. Initializing CUDA"
      ]
    },
    {
      "cell_type": "markdown",
      "metadata": {
        "id": "mgFbyHXCqvxT"
      },
      "source": [
        "CUDA is used as an interface between our code and the GPU.\n",
        "\n",
        "Normally, we run the code in the CPU. To run it in the GPU, we need CUDA. Check if CUDA is available:"
      ]
    },
    {
      "cell_type": "code",
      "metadata": {
        "id": "YHj_ZREiqvxU",
        "colab": {
          "base_uri": "https://localhost:8080/",
          "height": 34
        },
        "outputId": "cea40958-6481-4e6e-eadd-66b867ea7f73"
      },
      "source": [
        "### To test whether GPU instance is present in the system of not.\n",
        "use_cuda = torch.cuda.is_available()\n",
        "print('Using PyTorch version:', torch.__version__, 'CUDA:', use_cuda)"
      ],
      "execution_count": null,
      "outputs": [
        {
          "output_type": "stream",
          "text": [
            "Using PyTorch version: 1.4.0 CUDA: True\n"
          ],
          "name": "stdout"
        }
      ]
    },
    {
      "cell_type": "markdown",
      "metadata": {
        "id": "4zq7Ujumqvxg"
      },
      "source": [
        "If it's False, then we run the program on CPU. If it's True, then we run the program on GPU.\n",
        "\n",
        "Let us initialize some GPU-related variables:"
      ]
    },
    {
      "cell_type": "code",
      "metadata": {
        "id": "m_WeWksDqvxb",
        "colab": {
          "base_uri": "https://localhost:8080/",
          "height": 34
        },
        "outputId": "8b486360-08ea-47bc-9eab-e9a01373d03a"
      },
      "source": [
        "device = torch.device(\"cuda\" if use_cuda else \"cpu\")\n",
        "device"
      ],
      "execution_count": null,
      "outputs": [
        {
          "output_type": "execute_result",
          "data": {
            "text/plain": [
              "device(type='cuda')"
            ]
          },
          "metadata": {
            "tags": []
          },
          "execution_count": 9
        }
      ]
    },
    {
      "cell_type": "code",
      "metadata": {
        "id": "UtgeAAdZqvxh"
      },
      "source": [
        "### Initializing batch size\n",
        "batch_size = 32"
      ],
      "execution_count": null,
      "outputs": []
    },
    {
      "cell_type": "markdown",
      "metadata": {
        "id": "nG_Q01fTqvxl"
      },
      "source": [
        "#### 2. Load MNIST data\n",
        "\n",
        "Now, we'll load the MNIST data. For the first time, we may have to download the data, which can take a while."
      ]
    },
    {
      "cell_type": "code",
      "metadata": {
        "id": "hUjEukqOqvxm",
        "colab": {
          "base_uri": "https://localhost:8080/",
          "height": 383,
          "referenced_widgets": [
            "b3fbf98f17774e15ad696a7d08b8746c",
            "9a3b81d0cfd24f84b7882d53f6344212",
            "1462af08bf91489ea7b5b56babb152d3",
            "408ff9452cae4fdda097917b1ef31190",
            "ebdcfe2f285d46c482d56e4d9806a812",
            "7227ab07c58f498ba539f83a9bd5ea9a",
            "b92730439af248a9bd9bfecf81a6bbb8",
            "3924782560a546fea1e711c16b8a1942",
            "59a8e704e962498d86f60c2814980712",
            "faf7ccb0ae8e4f1eb7dc1c16496db53f",
            "4fb694c61a744b549982fa6993b743d1",
            "104b5ec3613e44c481157f496c19fc3f",
            "c87e8cf0a1594f71b8d53543a7d43bf5",
            "c443df94a51945c8a30dd33fb809a35a",
            "acc2a7d90f6e409e94de7b856dda3422",
            "5ade853a1c7e4033ade3e58f3317c6e0",
            "ead8267af8aa4cd996e390ce6e6a3333",
            "03c2c1191d5c42728784980c314bea64",
            "f1382d2e4b8a42f6bf595d05a1f9e0e2",
            "c58bffd81831422d88b6a7b5c15649f3",
            "1c0d38aeebcf42f5b1c25206afe33480",
            "651bc07b9b954af292757a3c3ef7a8cf",
            "b7299e7a6fd643ffb98928f58dd3e55e",
            "90c0ebbc87914102aace3350f417873c",
            "320f6246d8c94fbabd1694ffc7d1f0fc",
            "0f84c4112c4c4b4993eb692a41c006a3",
            "d86a138a4bed4c5bbdd9733e6b499d28",
            "b3d56ef358de4eff88302b77c3719449",
            "e3f0b7ea881349938690c2b60b4e1a76",
            "2d70473f496a43b4ada1d913e5ed1592",
            "a40fa8b7a5024847939f894a3ac9fda8",
            "b7cab66360a84c048995dcc84640463e"
          ]
        },
        "outputId": "02365e3f-55b9-4b7e-b960-6d09b0640a87"
      },
      "source": [
        "## Loading the train set file\n",
        "train_loader = torch.utils.data.DataLoader(\n",
        "    datasets.MNIST('../data', train=True, download=True,\n",
        "                   transform=transforms.Compose([\n",
        "                       transforms.ToTensor(),\n",
        "                       transforms.Normalize((0.1307,), (0.3081,))\n",
        "                   ])),\n",
        "    batch_size=batch_size, shuffle=True, \n",
        "    #**kwargs\n",
        "    )\n",
        "\n",
        "## Loading the test set file\n",
        "test_loader = torch.utils.data.DataLoader(\n",
        "    datasets.MNIST('../data', train=False, transform=transforms.Compose([\n",
        "                       transforms.ToTensor(),\n",
        "                       transforms.Normalize((0.1307,), (0.3081,))\n",
        "                   ])),\n",
        "    batch_size=batch_size, shuffle=True, \n",
        "    #**kwargs\n",
        "    )"
      ],
      "execution_count": null,
      "outputs": [
        {
          "output_type": "stream",
          "text": [
            "Downloading http://yann.lecun.com/exdb/mnist/train-images-idx3-ubyte.gz to ../data/MNIST/raw/train-images-idx3-ubyte.gz\n"
          ],
          "name": "stdout"
        },
        {
          "output_type": "display_data",
          "data": {
            "application/vnd.jupyter.widget-view+json": {
              "model_id": "b3fbf98f17774e15ad696a7d08b8746c",
              "version_minor": 0,
              "version_major": 2
            },
            "text/plain": [
              "HBox(children=(IntProgress(value=1, bar_style='info', max=1), HTML(value='')))"
            ]
          },
          "metadata": {
            "tags": []
          }
        },
        {
          "output_type": "stream",
          "text": [
            "\n",
            "Extracting ../data/MNIST/raw/train-images-idx3-ubyte.gz to ../data/MNIST/raw\n",
            "Downloading http://yann.lecun.com/exdb/mnist/train-labels-idx1-ubyte.gz to ../data/MNIST/raw/train-labels-idx1-ubyte.gz\n"
          ],
          "name": "stdout"
        },
        {
          "output_type": "display_data",
          "data": {
            "application/vnd.jupyter.widget-view+json": {
              "model_id": "59a8e704e962498d86f60c2814980712",
              "version_minor": 0,
              "version_major": 2
            },
            "text/plain": [
              "HBox(children=(IntProgress(value=1, bar_style='info', max=1), HTML(value='')))"
            ]
          },
          "metadata": {
            "tags": []
          }
        },
        {
          "output_type": "stream",
          "text": [
            "\n",
            "Extracting ../data/MNIST/raw/train-labels-idx1-ubyte.gz to ../data/MNIST/raw\n",
            "Downloading http://yann.lecun.com/exdb/mnist/t10k-images-idx3-ubyte.gz to ../data/MNIST/raw/t10k-images-idx3-ubyte.gz\n"
          ],
          "name": "stdout"
        },
        {
          "output_type": "display_data",
          "data": {
            "application/vnd.jupyter.widget-view+json": {
              "model_id": "ead8267af8aa4cd996e390ce6e6a3333",
              "version_minor": 0,
              "version_major": 2
            },
            "text/plain": [
              "HBox(children=(IntProgress(value=1, bar_style='info', max=1), HTML(value='')))"
            ]
          },
          "metadata": {
            "tags": []
          }
        },
        {
          "output_type": "stream",
          "text": [
            "\n",
            "Extracting ../data/MNIST/raw/t10k-images-idx3-ubyte.gz to ../data/MNIST/raw\n",
            "Downloading http://yann.lecun.com/exdb/mnist/t10k-labels-idx1-ubyte.gz to ../data/MNIST/raw/t10k-labels-idx1-ubyte.gz\n"
          ],
          "name": "stdout"
        },
        {
          "output_type": "display_data",
          "data": {
            "application/vnd.jupyter.widget-view+json": {
              "model_id": "320f6246d8c94fbabd1694ffc7d1f0fc",
              "version_minor": 0,
              "version_major": 2
            },
            "text/plain": [
              "HBox(children=(IntProgress(value=1, bar_style='info', max=1), HTML(value='')))"
            ]
          },
          "metadata": {
            "tags": []
          }
        },
        {
          "output_type": "stream",
          "text": [
            "\n",
            "Extracting ../data/MNIST/raw/t10k-labels-idx1-ubyte.gz to ../data/MNIST/raw\n",
            "Processing...\n",
            "Done!\n"
          ],
          "name": "stdout"
        }
      ]
    },
    {
      "cell_type": "markdown",
      "metadata": {
        "id": "FWYm5tj4qvxs"
      },
      "source": [
        "The train and test data are provided via data loaders that provide iterators over the datasets.\n",
        "\n",
        "The first element of training data (X_train) is a 4th-order tensor of size (batch_size, 1, 28, 28), i.e. it consists of a batch of images of size 1x28x28 pixels. y_train is a vector containing the correct classes (\"0\", \"1\", ..., \"9\") for each training digit."
      ]
    },
    {
      "cell_type": "code",
      "metadata": {
        "id": "5As4BhINqvxt",
        "colab": {
          "base_uri": "https://localhost:8080/",
          "height": 51
        },
        "outputId": "eddc0bf8-1a75-4184-f624-df787ef06692"
      },
      "source": [
        "for (X_train, y_train) in train_loader:\n",
        "    print('X_train:', X_train.size(), 'type:', X_train.type())\n",
        "    print('y_train:', y_train.size(), 'type:', y_train.type())\n",
        "    break"
      ],
      "execution_count": null,
      "outputs": [
        {
          "output_type": "stream",
          "text": [
            "X_train: torch.Size([32, 1, 28, 28]) type: torch.FloatTensor\n",
            "y_train: torch.Size([32]) type: torch.LongTensor\n"
          ],
          "name": "stdout"
        }
      ]
    },
    {
      "cell_type": "markdown",
      "metadata": {
        "id": "g00u_5njqvx0"
      },
      "source": [
        "#### Plotting the  first 10 training digits"
      ]
    },
    {
      "cell_type": "code",
      "metadata": {
        "id": "lp2FH1Lqqvx2",
        "colab": {
          "base_uri": "https://localhost:8080/",
          "height": 101
        },
        "outputId": "c2b8a12d-a224-4bcc-b94f-fee63d47daa7"
      },
      "source": [
        "pltsize=1\n",
        "plt.figure(figsize=(15*pltsize, pltsize))\n",
        "\n",
        "for i in range(10):\n",
        "    plt.subplot(1,10,i+1)\n",
        "    plt.axis('off')\n",
        "    plt.imshow(X_train[i,:,:,:].numpy().reshape(28,28), cmap=\"gray\")\n",
        "    plt.title('Class: '+str(y_train[i]))"
      ],
      "execution_count": null,
      "outputs": [
        {
          "output_type": "display_data",
          "data": {
            "image/png": "[encoded data removed]",
            "text/plain": [
              "<Figure size 1080x72 with 10 Axes>"
            ]
          },
          "metadata": {
            "tags": []
          }
        }
      ]
    },
    {
      "cell_type": "markdown",
      "metadata": {
        "id": "u664CO5Zqvx7"
      },
      "source": [
        "#### 3. Define the neural network and optimizer\n",
        "\n",
        "Let's define the network as a Python class.\n",
        "\n",
        "When we write the **\\__init__()** and **forward()** methods, PyTorch automatically generates a **backward()** method for computing the gradients for the backward pass."
      ]
    },
    {
      "cell_type": "code",
      "metadata": {
        "id": "l0uDIWHDqvx8"
      },
      "source": [
        "class Net(nn.Module):\n",
        "    def __init__(self):\n",
        "        super(Net, self).__init__()\n",
        "        self.fc1 = nn.Linear(28*28, 50)\n",
        "        self.fc1_drop = nn.Dropout(0.2)\n",
        "        self.fc2 = nn.Linear(50, 50)\n",
        "        self.fc2_drop = nn.Dropout(0.2)\n",
        "        self.fc3 = nn.Linear(50, 10)\n",
        "\n",
        "    def forward(self, x):\n",
        "        x = x.view(-1, 28*28)\n",
        "        x = F.relu(self.fc1(x))#Why do we sometimes use F. and sometimes nn.? You could refer the following link: https://discuss.pytorch.org/t/whats-the-difference-between-nn-relu-vs-f-relu/27599\n",
        "        x = self.fc1_drop(x)\n",
        "        x = F.relu(self.fc2(x))\n",
        "        x = self.fc2_drop(x)\n",
        "        return F.log_softmax(self.fc3(x), dim=1)"
      ],
      "execution_count": null,
      "outputs": []
    },
    {
      "cell_type": "markdown",
      "metadata": {
        "id": "nw3kD1Kjqvx_"
      },
      "source": [
        "Let us declare an object of class Net, and make it a CUDA model if CUDA is available:"
      ]
    },
    {
      "cell_type": "code",
      "metadata": {
        "id": "VSNz4pSqqvyA"
      },
      "source": [
        "model = Net()\n",
        "model = model.to(device)"
      ],
      "execution_count": null,
      "outputs": []
    },
    {
      "cell_type": "code",
      "metadata": {
        "id": "S_X99nfHqvyG",
        "colab": {
          "base_uri": "https://localhost:8080/",
          "height": 136
        },
        "outputId": "b59dbd13-a524-43cd-d8f6-a2b36874b67d"
      },
      "source": [
        "print(model)"
      ],
      "execution_count": null,
      "outputs": [
        {
          "output_type": "stream",
          "text": [
            "Net(\n",
            "  (fc1): Linear(in_features=784, out_features=50, bias=True)\n",
            "  (fc1_drop): Dropout(p=0.2, inplace=False)\n",
            "  (fc2): Linear(in_features=50, out_features=50, bias=True)\n",
            "  (fc2_drop): Dropout(p=0.2, inplace=False)\n",
            "  (fc3): Linear(in_features=50, out_features=10, bias=True)\n",
            ")\n"
          ],
          "name": "stdout"
        }
      ]
    },
    {
      "cell_type": "markdown",
      "metadata": {
        "id": "tEOmTzYgqvyO"
      },
      "source": [
        "Finally, we define an optimizer to update the model parameters based on the computed gradients. We select stochastic gradient descent (with momentum) as the optimization algorithm, and set learning rate to 0.01. Note that there are several different options for the optimizer in PyTorch that we could use instead of SGD.\n",
        "\n",
        "Let us define the Optimizer as SGD:"
      ]
    },
    {
      "cell_type": "code",
      "metadata": {
        "id": "rPBff47_qvyR"
      },
      "source": [
        "optimizer = optim.SGD(model.parameters(), lr=0.01, momentum=0.5)"
      ],
      "execution_count": null,
      "outputs": []
    },
    {
      "cell_type": "markdown",
      "metadata": {
        "id": "F75Z3ABdqvyY"
      },
      "source": [
        "#### 4. Train the model\n",
        "Let's now define functions to train() and test() the model."
      ]
    },
    {
      "cell_type": "code",
      "metadata": {
        "id": "kq2sRlC3qvya"
      },
      "source": [
        "def train(epoch, log_interval=100):\n",
        "    model.train()\n",
        "    for batch_idx, (data, target) in enumerate(train_loader):\n",
        "       \n",
        "        data, target = data.to(device), target.to(device)\n",
        "        optimizer.zero_grad()\n",
        "        output = model(data)\n",
        "        loss = F.nll_loss(output, target)\n",
        "        loss.backward()\n",
        "        optimizer.step()\n",
        "        if batch_idx % log_interval == 0:\n",
        "            print('Train Epoch: {} [{}/{} ({:.0f}%)]\\tLoss: {:.6f}'.format(\n",
        "                epoch, batch_idx * len(data), len(train_loader.dataset),\n",
        "                100. * batch_idx / len(train_loader), loss.item()))"
      ],
      "execution_count": null,
      "outputs": []
    },
    {
      "cell_type": "markdown",
      "metadata": {
        "id": "R8R0CL5Gqvye"
      },
      "source": [
        "Now we are ready to train our model using the train() function. An epoch means one pass through the whole training data. After each epoch, we evaluate the model using test():"
      ]
    },
    {
      "cell_type": "code",
      "metadata": {
        "id": "P1Z8BhQyqvyg"
      },
      "source": [
        "def test(loss_vector, accuracy_vector):\n",
        "    model.eval()\n",
        "    test_loss, correct = 0, 0\n",
        "    for data, target in test_loader:\n",
        "        data, target = data.to(device), target.to(device)\n",
        "        output = model(data)\n",
        "        test_loss += F.nll_loss(output, target).item()\n",
        "        pred = output.data.max(1)[1] # get the index of the max log-probability\n",
        "        correct += pred.eq(target.data).to(device).sum()\n",
        "\n",
        "    test_loss /= len(test_loader)\n",
        "    loss_vector.append(test_loss)\n",
        "\n",
        "    accuracy = 100. * correct / len(test_loader.dataset)\n",
        "    accuracy_vector.append(accuracy)\n",
        "    \n",
        "    print('\\nTest set: Average loss: {:.4f}, Accuracy: {}/{} ({:.0f}%)\\n'.format(\n",
        "        test_loss, correct, len(test_loader.dataset), accuracy))"
      ],
      "execution_count": null,
      "outputs": []
    },
    {
      "cell_type": "markdown",
      "metadata": {
        "id": "68ZN1zX6qvyl"
      },
      "source": [
        "Let us compute the time it takes to run this, so as to compare the GPU's performance time with that of CPU."
      ]
    },
    {
      "cell_type": "code",
      "metadata": {
        "id": "9_o4ECJ6qvyl",
        "colab": {
          "base_uri": "https://localhost:8080/",
          "height": 1000
        },
        "outputId": "9c49d104-4781-4881-94c3-bb7117693969"
      },
      "source": [
        "%%time\n",
        "epochs = 10\n",
        "\n",
        "lossv, accv = [], []\n",
        "for epoch in range(1, epochs +\n",
        "                   1):\n",
        "    train(epoch)\n",
        "    test(lossv, accv)"
      ],
      "execution_count": null,
      "outputs": [
        {
          "output_type": "stream",
          "text": [
            "Train Epoch: 1 [0/60000 (0%)]\tLoss: 2.312829\n",
            "Train Epoch: 1 [3200/60000 (5%)]\tLoss: 1.511775\n",
            "Train Epoch: 1 [6400/60000 (11%)]\tLoss: 0.893586\n",
            "Train Epoch: 1 [9600/60000 (16%)]\tLoss: 0.748517\n",
            "Train Epoch: 1 [12800/60000 (21%)]\tLoss: 0.660164\n",
            "Train Epoch: 1 [16000/60000 (27%)]\tLoss: 0.598662\n",
            "Train Epoch: 1 [19200/60000 (32%)]\tLoss: 0.579729\n",
            "Train Epoch: 1 [22400/60000 (37%)]\tLoss: 0.599706\n",
            "Train Epoch: 1 [25600/60000 (43%)]\tLoss: 0.434824\n",
            "Train Epoch: 1 [28800/60000 (48%)]\tLoss: 0.669976\n",
            "Train Epoch: 1 [32000/60000 (53%)]\tLoss: 0.717391\n",
            "Train Epoch: 1 [35200/60000 (59%)]\tLoss: 0.755155\n",
            "Train Epoch: 1 [38400/60000 (64%)]\tLoss: 0.404582\n",
            "Train Epoch: 1 [41600/60000 (69%)]\tLoss: 0.158953\n",
            "Train Epoch: 1 [44800/60000 (75%)]\tLoss: 0.238387\n",
            "Train Epoch: 1 [48000/60000 (80%)]\tLoss: 0.440815\n",
            "Train Epoch: 1 [51200/60000 (85%)]\tLoss: 0.745761\n",
            "Train Epoch: 1 [54400/60000 (91%)]\tLoss: 0.370205\n",
            "Train Epoch: 1 [57600/60000 (96%)]\tLoss: 0.400477\n",
            "\n",
            "Test set: Average loss: 0.2385, Accuracy: 9275/10000 (93%)\n",
            "\n",
            "Train Epoch: 2 [0/60000 (0%)]\tLoss: 0.403772\n",
            "Train Epoch: 2 [3200/60000 (5%)]\tLoss: 0.278992\n",
            "Train Epoch: 2 [6400/60000 (11%)]\tLoss: 0.343317\n",
            "Train Epoch: 2 [9600/60000 (16%)]\tLoss: 0.143121\n",
            "Train Epoch: 2 [12800/60000 (21%)]\tLoss: 0.131809\n",
            "Train Epoch: 2 [16000/60000 (27%)]\tLoss: 0.245456\n",
            "Train Epoch: 2 [19200/60000 (32%)]\tLoss: 0.186164\n",
            "Train Epoch: 2 [22400/60000 (37%)]\tLoss: 0.261425\n",
            "Train Epoch: 2 [25600/60000 (43%)]\tLoss: 0.486780\n",
            "Train Epoch: 2 [28800/60000 (48%)]\tLoss: 0.062472\n",
            "Train Epoch: 2 [32000/60000 (53%)]\tLoss: 0.128801\n",
            "Train Epoch: 2 [35200/60000 (59%)]\tLoss: 0.235081\n",
            "Train Epoch: 2 [38400/60000 (64%)]\tLoss: 0.690170\n",
            "Train Epoch: 2 [41600/60000 (69%)]\tLoss: 0.247095\n",
            "Train Epoch: 2 [44800/60000 (75%)]\tLoss: 0.362039\n",
            "Train Epoch: 2 [48000/60000 (80%)]\tLoss: 0.311580\n",
            "Train Epoch: 2 [51200/60000 (85%)]\tLoss: 0.201712\n",
            "Train Epoch: 2 [54400/60000 (91%)]\tLoss: 0.280960\n",
            "Train Epoch: 2 [57600/60000 (96%)]\tLoss: 0.118305\n",
            "\n",
            "Test set: Average loss: 0.1770, Accuracy: 9473/10000 (95%)\n",
            "\n",
            "Train Epoch: 3 [0/60000 (0%)]\tLoss: 0.168313\n",
            "Train Epoch: 3 [3200/60000 (5%)]\tLoss: 0.417572\n",
            "Train Epoch: 3 [6400/60000 (11%)]\tLoss: 0.676129\n",
            "Train Epoch: 3 [9600/60000 (16%)]\tLoss: 0.027307\n",
            "Train Epoch: 3 [12800/60000 (21%)]\tLoss: 0.492602\n",
            "Train Epoch: 3 [16000/60000 (27%)]\tLoss: 0.320804\n",
            "Train Epoch: 3 [19200/60000 (32%)]\tLoss: 0.342362\n",
            "Train Epoch: 3 [22400/60000 (37%)]\tLoss: 0.620016\n",
            "Train Epoch: 3 [25600/60000 (43%)]\tLoss: 0.453332\n",
            "Train Epoch: 3 [28800/60000 (48%)]\tLoss: 0.170696\n",
            "Train Epoch: 3 [32000/60000 (53%)]\tLoss: 0.281813\n",
            "Train Epoch: 3 [35200/60000 (59%)]\tLoss: 0.265327\n",
            "Train Epoch: 3 [38400/60000 (64%)]\tLoss: 0.111370\n",
            "Train Epoch: 3 [41600/60000 (69%)]\tLoss: 0.115366\n",
            "Train Epoch: 3 [44800/60000 (75%)]\tLoss: 0.144873\n",
            "Train Epoch: 3 [48000/60000 (80%)]\tLoss: 0.248824\n",
            "Train Epoch: 3 [51200/60000 (85%)]\tLoss: 0.147981\n",
            "Train Epoch: 3 [54400/60000 (91%)]\tLoss: 0.441201\n",
            "Train Epoch: 3 [57600/60000 (96%)]\tLoss: 0.169253\n",
            "\n",
            "Test set: Average loss: 0.1442, Accuracy: 9551/10000 (96%)\n",
            "\n",
            "Train Epoch: 4 [0/60000 (0%)]\tLoss: 0.248785\n",
            "Train Epoch: 4 [3200/60000 (5%)]\tLoss: 0.260712\n",
            "Train Epoch: 4 [6400/60000 (11%)]\tLoss: 0.220762\n",
            "Train Epoch: 4 [9600/60000 (16%)]\tLoss: 0.095810\n",
            "Train Epoch: 4 [12800/60000 (21%)]\tLoss: 0.075351\n",
            "Train Epoch: 4 [16000/60000 (27%)]\tLoss: 0.195714\n",
            "Train Epoch: 4 [19200/60000 (32%)]\tLoss: 0.357702\n",
            "Train Epoch: 4 [22400/60000 (37%)]\tLoss: 0.163076\n",
            "Train Epoch: 4 [25600/60000 (43%)]\tLoss: 0.066707\n",
            "Train Epoch: 4 [28800/60000 (48%)]\tLoss: 0.276848\n",
            "Train Epoch: 4 [32000/60000 (53%)]\tLoss: 0.177572\n",
            "Train Epoch: 4 [35200/60000 (59%)]\tLoss: 0.184958\n",
            "Train Epoch: 4 [38400/60000 (64%)]\tLoss: 0.450314\n",
            "Train Epoch: 4 [41600/60000 (69%)]\tLoss: 0.123824\n",
            "Train Epoch: 4 [44800/60000 (75%)]\tLoss: 0.142386\n",
            "Train Epoch: 4 [48000/60000 (80%)]\tLoss: 0.205422\n",
            "Train Epoch: 4 [51200/60000 (85%)]\tLoss: 0.019705\n",
            "Train Epoch: 4 [54400/60000 (91%)]\tLoss: 0.183938\n",
            "Train Epoch: 4 [57600/60000 (96%)]\tLoss: 0.173037\n",
            "\n",
            "Test set: Average loss: 0.1309, Accuracy: 9606/10000 (96%)\n",
            "\n",
            "Train Epoch: 5 [0/60000 (0%)]\tLoss: 0.235613\n",
            "Train Epoch: 5 [3200/60000 (5%)]\tLoss: 0.336054\n",
            "Train Epoch: 5 [6400/60000 (11%)]\tLoss: 0.297936\n",
            "Train Epoch: 5 [9600/60000 (16%)]\tLoss: 0.083584\n",
            "Train Epoch: 5 [12800/60000 (21%)]\tLoss: 0.380632\n",
            "Train Epoch: 5 [16000/60000 (27%)]\tLoss: 0.263239\n",
            "Train Epoch: 5 [19200/60000 (32%)]\tLoss: 0.250642\n",
            "Train Epoch: 5 [22400/60000 (37%)]\tLoss: 0.267306\n",
            "Train Epoch: 5 [25600/60000 (43%)]\tLoss: 0.072969\n",
            "Train Epoch: 5 [28800/60000 (48%)]\tLoss: 0.139919\n",
            "Train Epoch: 5 [32000/60000 (53%)]\tLoss: 0.486546\n",
            "Train Epoch: 5 [35200/60000 (59%)]\tLoss: 0.218016\n",
            "Train Epoch: 5 [38400/60000 (64%)]\tLoss: 0.285115\n",
            "Train Epoch: 5 [41600/60000 (69%)]\tLoss: 0.117153\n",
            "Train Epoch: 5 [44800/60000 (75%)]\tLoss: 0.080644\n",
            "Train Epoch: 5 [48000/60000 (80%)]\tLoss: 0.068647\n",
            "Train Epoch: 5 [51200/60000 (85%)]\tLoss: 0.244109\n",
            "Train Epoch: 5 [54400/60000 (91%)]\tLoss: 0.246971\n",
            "Train Epoch: 5 [57600/60000 (96%)]\tLoss: 0.177293\n",
            "\n",
            "Test set: Average loss: 0.1208, Accuracy: 9634/10000 (96%)\n",
            "\n",
            "Train Epoch: 6 [0/60000 (0%)]\tLoss: 0.037040\n",
            "Train Epoch: 6 [3200/60000 (5%)]\tLoss: 0.211869\n",
            "Train Epoch: 6 [6400/60000 (11%)]\tLoss: 0.015367\n",
            "Train Epoch: 6 [9600/60000 (16%)]\tLoss: 0.220587\n",
            "Train Epoch: 6 [12800/60000 (21%)]\tLoss: 0.139191\n",
            "Train Epoch: 6 [16000/60000 (27%)]\tLoss: 0.107665\n",
            "Train Epoch: 6 [19200/60000 (32%)]\tLoss: 0.258436\n",
            "Train Epoch: 6 [22400/60000 (37%)]\tLoss: 0.334653\n",
            "Train Epoch: 6 [25600/60000 (43%)]\tLoss: 0.109676\n",
            "Train Epoch: 6 [28800/60000 (48%)]\tLoss: 0.205077\n",
            "Train Epoch: 6 [32000/60000 (53%)]\tLoss: 0.133159\n",
            "Train Epoch: 6 [35200/60000 (59%)]\tLoss: 0.348887\n",
            "Train Epoch: 6 [38400/60000 (64%)]\tLoss: 0.156353\n",
            "Train Epoch: 6 [41600/60000 (69%)]\tLoss: 0.144671\n",
            "Train Epoch: 6 [44800/60000 (75%)]\tLoss: 0.299018\n",
            "Train Epoch: 6 [48000/60000 (80%)]\tLoss: 0.047459\n",
            "Train Epoch: 6 [51200/60000 (85%)]\tLoss: 0.322719\n",
            "Train Epoch: 6 [54400/60000 (91%)]\tLoss: 0.328231\n",
            "Train Epoch: 6 [57600/60000 (96%)]\tLoss: 0.394943\n",
            "\n",
            "Test set: Average loss: 0.1131, Accuracy: 9656/10000 (97%)\n",
            "\n",
            "Train Epoch: 7 [0/60000 (0%)]\tLoss: 0.100532\n",
            "Train Epoch: 7 [3200/60000 (5%)]\tLoss: 0.052746\n",
            "Train Epoch: 7 [6400/60000 (11%)]\tLoss: 0.319917\n",
            "Train Epoch: 7 [9600/60000 (16%)]\tLoss: 0.137164\n",
            "Train Epoch: 7 [12800/60000 (21%)]\tLoss: 0.344408\n",
            "Train Epoch: 7 [16000/60000 (27%)]\tLoss: 0.242687\n",
            "Train Epoch: 7 [19200/60000 (32%)]\tLoss: 0.118890\n",
            "Train Epoch: 7 [22400/60000 (37%)]\tLoss: 0.027694\n",
            "Train Epoch: 7 [25600/60000 (43%)]\tLoss: 0.102088\n",
            "Train Epoch: 7 [28800/60000 (48%)]\tLoss: 0.107601\n",
            "Train Epoch: 7 [32000/60000 (53%)]\tLoss: 0.061394\n",
            "Train Epoch: 7 [35200/60000 (59%)]\tLoss: 0.055219\n",
            "Train Epoch: 7 [38400/60000 (64%)]\tLoss: 0.345999\n",
            "Train Epoch: 7 [41600/60000 (69%)]\tLoss: 0.109634\n",
            "Train Epoch: 7 [44800/60000 (75%)]\tLoss: 0.190389\n",
            "Train Epoch: 7 [48000/60000 (80%)]\tLoss: 0.161340\n",
            "Train Epoch: 7 [51200/60000 (85%)]\tLoss: 0.059060\n",
            "Train Epoch: 7 [54400/60000 (91%)]\tLoss: 0.224592\n",
            "Train Epoch: 7 [57600/60000 (96%)]\tLoss: 0.203348\n",
            "\n",
            "Test set: Average loss: 0.1122, Accuracy: 9672/10000 (97%)\n",
            "\n",
            "Train Epoch: 8 [0/60000 (0%)]\tLoss: 0.123172\n",
            "Train Epoch: 8 [3200/60000 (5%)]\tLoss: 0.081629\n",
            "Train Epoch: 8 [6400/60000 (11%)]\tLoss: 0.020485\n",
            "Train Epoch: 8 [9600/60000 (16%)]\tLoss: 0.108744\n",
            "Train Epoch: 8 [12800/60000 (21%)]\tLoss: 0.196058\n",
            "Train Epoch: 8 [16000/60000 (27%)]\tLoss: 0.167667\n",
            "Train Epoch: 8 [19200/60000 (32%)]\tLoss: 0.038338\n",
            "Train Epoch: 8 [22400/60000 (37%)]\tLoss: 0.034943\n",
            "Train Epoch: 8 [25600/60000 (43%)]\tLoss: 0.067233\n",
            "Train Epoch: 8 [28800/60000 (48%)]\tLoss: 0.065403\n",
            "Train Epoch: 8 [32000/60000 (53%)]\tLoss: 0.075421\n",
            "Train Epoch: 8 [35200/60000 (59%)]\tLoss: 0.269671\n",
            "Train Epoch: 8 [38400/60000 (64%)]\tLoss: 0.036888\n",
            "Train Epoch: 8 [41600/60000 (69%)]\tLoss: 0.315700\n",
            "Train Epoch: 8 [44800/60000 (75%)]\tLoss: 0.189707\n",
            "Train Epoch: 8 [48000/60000 (80%)]\tLoss: 0.219089\n",
            "Train Epoch: 8 [51200/60000 (85%)]\tLoss: 0.083092\n",
            "Train Epoch: 8 [54400/60000 (91%)]\tLoss: 0.095817\n",
            "Train Epoch: 8 [57600/60000 (96%)]\tLoss: 0.089636\n",
            "\n",
            "Test set: Average loss: 0.1104, Accuracy: 9672/10000 (97%)\n",
            "\n",
            "Train Epoch: 9 [0/60000 (0%)]\tLoss: 0.139996\n",
            "Train Epoch: 9 [3200/60000 (5%)]\tLoss: 0.243907\n",
            "Train Epoch: 9 [6400/60000 (11%)]\tLoss: 0.112484\n",
            "Train Epoch: 9 [9600/60000 (16%)]\tLoss: 0.074859\n",
            "Train Epoch: 9 [12800/60000 (21%)]\tLoss: 0.210991\n",
            "Train Epoch: 9 [16000/60000 (27%)]\tLoss: 0.085181\n",
            "Train Epoch: 9 [19200/60000 (32%)]\tLoss: 0.031492\n",
            "Train Epoch: 9 [22400/60000 (37%)]\tLoss: 0.091581\n",
            "Train Epoch: 9 [25600/60000 (43%)]\tLoss: 0.114643\n",
            "Train Epoch: 9 [28800/60000 (48%)]\tLoss: 0.098287\n",
            "Train Epoch: 9 [32000/60000 (53%)]\tLoss: 0.132566\n",
            "Train Epoch: 9 [35200/60000 (59%)]\tLoss: 0.184754\n",
            "Train Epoch: 9 [38400/60000 (64%)]\tLoss: 0.134373\n",
            "Train Epoch: 9 [41600/60000 (69%)]\tLoss: 0.258942\n",
            "Train Epoch: 9 [44800/60000 (75%)]\tLoss: 0.230491\n",
            "Train Epoch: 9 [48000/60000 (80%)]\tLoss: 0.049709\n",
            "Train Epoch: 9 [51200/60000 (85%)]\tLoss: 0.201655\n",
            "Train Epoch: 9 [54400/60000 (91%)]\tLoss: 0.204228\n",
            "Train Epoch: 9 [57600/60000 (96%)]\tLoss: 0.046924\n",
            "\n",
            "Test set: Average loss: 0.1091, Accuracy: 9670/10000 (97%)\n",
            "\n",
            "Train Epoch: 10 [0/60000 (0%)]\tLoss: 0.161780\n",
            "Train Epoch: 10 [3200/60000 (5%)]\tLoss: 0.102641\n",
            "Train Epoch: 10 [6400/60000 (11%)]\tLoss: 0.090200\n",
            "Train Epoch: 10 [9600/60000 (16%)]\tLoss: 0.210974\n",
            "Train Epoch: 10 [12800/60000 (21%)]\tLoss: 0.267041\n",
            "Train Epoch: 10 [16000/60000 (27%)]\tLoss: 0.304050\n",
            "Train Epoch: 10 [19200/60000 (32%)]\tLoss: 0.211307\n",
            "Train Epoch: 10 [22400/60000 (37%)]\tLoss: 0.225087\n",
            "Train Epoch: 10 [25600/60000 (43%)]\tLoss: 0.160575\n",
            "Train Epoch: 10 [28800/60000 (48%)]\tLoss: 0.080784\n",
            "Train Epoch: 10 [32000/60000 (53%)]\tLoss: 0.088461\n",
            "Train Epoch: 10 [35200/60000 (59%)]\tLoss: 0.329573\n",
            "Train Epoch: 10 [38400/60000 (64%)]\tLoss: 0.232662\n",
            "Train Epoch: 10 [41600/60000 (69%)]\tLoss: 0.093643\n",
            "Train Epoch: 10 [44800/60000 (75%)]\tLoss: 0.079175\n",
            "Train Epoch: 10 [48000/60000 (80%)]\tLoss: 0.023139\n",
            "Train Epoch: 10 [51200/60000 (85%)]\tLoss: 0.189851\n",
            "Train Epoch: 10 [54400/60000 (91%)]\tLoss: 0.085291\n",
            "Train Epoch: 10 [57600/60000 (96%)]\tLoss: 0.069592\n",
            "\n",
            "Test set: Average loss: 0.1022, Accuracy: 9672/10000 (97%)\n",
            "\n",
            "CPU times: user 1min 52s, sys: 1.17 s, total: 1min 53s\n",
            "Wall time: 1min 55s\n"
          ],
          "name": "stdout"
        }
      ]
    },
    {
      "cell_type": "markdown",
      "metadata": {
        "id": "X6iurGRoqvyr"
      },
      "source": [
        "Thus, GPU is much faster!\n",
        "\n",
        "Let's now visualize how the training progressed.\n",
        "\n",
        "Loss is a function of the difference of the network output and the target values. We are minimizing the loss function during training so it should decrease over time."
      ]
    },
    {
      "cell_type": "code",
      "metadata": {
        "id": "htZANhIUqvys",
        "colab": {
          "base_uri": "https://localhost:8080/",
          "height": 367
        },
        "outputId": "36cbad1e-db8b-42c8-997f-46d952ad4c66"
      },
      "source": [
        "plt.figure(figsize=(8,5))\n",
        "plt.plot(np.arange(1,epochs+1), lossv)\n",
        "plt.title('test loss')\n",
        "plt.xlabel(\"epoch\")\n",
        "plt.ylabel(\"error\")"
      ],
      "execution_count": null,
      "outputs": [
        {
          "output_type": "execute_result",
          "data": {
            "text/plain": [
              "Text(0, 0.5, 'error')"
            ]
          },
          "metadata": {
            "tags": []
          },
          "execution_count": 21
        },
        {
          "output_type": "display_data",
          "data": {
            "image/png": "[encoded data removed]",
            "text/plain": [
              "<Figure size 576x360 with 1 Axes>"
            ]
          },
          "metadata": {
            "tags": []
          }
        }
      ]
    },
    {
      "cell_type": "code",
      "metadata": {
        "id": "322DUtWfqvy0",
        "colab": {
          "base_uri": "https://localhost:8080/",
          "height": 1000
        },
        "outputId": "d012b9c6-a467-4972-8de1-d91a00934f2a"
      },
      "source": [
        "\n",
        "%%time\n",
        "epochs = 5\n",
        "\n",
        "lossv, accv = [], []\n",
        "for epoch in range(1, epochs +\n",
        "                   1):\n",
        "    train(epoch)\n",
        "    test(lossv, accv)\n",
        "\n",
        "plt.figure(figsize=(8,5))\n",
        "plt.plot(np.arange(1,epochs+1), lossv)\n",
        "plt.title('test loss')\n",
        "plt.xlabel(\"epoch\")\n",
        "plt.ylabel(\"error\")"
      ],
      "execution_count": null,
      "outputs": [
        {
          "output_type": "stream",
          "text": [
            "Train Epoch: 1 [0/60000 (0%)]\tLoss: 0.048006\n",
            "Train Epoch: 1 [3200/60000 (5%)]\tLoss: 0.387426\n",
            "Train Epoch: 1 [6400/60000 (11%)]\tLoss: 0.139197\n",
            "Train Epoch: 1 [9600/60000 (16%)]\tLoss: 0.132517\n",
            "Train Epoch: 1 [12800/60000 (21%)]\tLoss: 0.029456\n",
            "Train Epoch: 1 [16000/60000 (27%)]\tLoss: 0.183269\n",
            "Train Epoch: 1 [19200/60000 (32%)]\tLoss: 0.040355\n",
            "Train Epoch: 1 [22400/60000 (37%)]\tLoss: 0.145864\n",
            "Train Epoch: 1 [25600/60000 (43%)]\tLoss: 0.089939\n",
            "Train Epoch: 1 [28800/60000 (48%)]\tLoss: 0.233290\n",
            "Train Epoch: 1 [32000/60000 (53%)]\tLoss: 0.505831\n",
            "Train Epoch: 1 [35200/60000 (59%)]\tLoss: 0.148043\n",
            "Train Epoch: 1 [38400/60000 (64%)]\tLoss: 0.193958\n",
            "Train Epoch: 1 [41600/60000 (69%)]\tLoss: 0.038382\n",
            "Train Epoch: 1 [44800/60000 (75%)]\tLoss: 0.063271\n",
            "Train Epoch: 1 [48000/60000 (80%)]\tLoss: 0.037014\n",
            "Train Epoch: 1 [51200/60000 (85%)]\tLoss: 0.044605\n",
            "Train Epoch: 1 [54400/60000 (91%)]\tLoss: 0.164386\n",
            "Train Epoch: 1 [57600/60000 (96%)]\tLoss: 0.147160\n",
            "\n",
            "Test set: Average loss: 0.0873, Accuracy: 9734/10000 (97%)\n",
            "\n",
            "Train Epoch: 2 [0/60000 (0%)]\tLoss: 0.073582\n",
            "Train Epoch: 2 [3200/60000 (5%)]\tLoss: 0.047060\n",
            "Train Epoch: 2 [6400/60000 (11%)]\tLoss: 0.013936\n",
            "Train Epoch: 2 [9600/60000 (16%)]\tLoss: 0.091745\n",
            "Train Epoch: 2 [12800/60000 (21%)]\tLoss: 0.196452\n",
            "Train Epoch: 2 [16000/60000 (27%)]\tLoss: 0.160761\n",
            "Train Epoch: 2 [19200/60000 (32%)]\tLoss: 0.077720\n",
            "Train Epoch: 2 [22400/60000 (37%)]\tLoss: 0.045480\n",
            "Train Epoch: 2 [25600/60000 (43%)]\tLoss: 0.345788\n",
            "Train Epoch: 2 [28800/60000 (48%)]\tLoss: 0.205893\n",
            "Train Epoch: 2 [32000/60000 (53%)]\tLoss: 0.049663\n",
            "Train Epoch: 2 [35200/60000 (59%)]\tLoss: 0.060475\n",
            "Train Epoch: 2 [38400/60000 (64%)]\tLoss: 0.170490\n",
            "Train Epoch: 2 [41600/60000 (69%)]\tLoss: 0.135509\n",
            "Train Epoch: 2 [44800/60000 (75%)]\tLoss: 0.071497\n",
            "Train Epoch: 2 [48000/60000 (80%)]\tLoss: 0.032445\n",
            "Train Epoch: 2 [51200/60000 (85%)]\tLoss: 0.077717\n",
            "Train Epoch: 2 [54400/60000 (91%)]\tLoss: 0.015922\n",
            "Train Epoch: 2 [57600/60000 (96%)]\tLoss: 0.041122\n",
            "\n",
            "Test set: Average loss: 0.0943, Accuracy: 9732/10000 (97%)\n",
            "\n",
            "Train Epoch: 3 [0/60000 (0%)]\tLoss: 0.010142\n",
            "Train Epoch: 3 [3200/60000 (5%)]\tLoss: 0.051318\n",
            "Train Epoch: 3 [6400/60000 (11%)]\tLoss: 0.278425\n",
            "Train Epoch: 3 [9600/60000 (16%)]\tLoss: 0.053351\n",
            "Train Epoch: 3 [12800/60000 (21%)]\tLoss: 0.030344\n",
            "Train Epoch: 3 [16000/60000 (27%)]\tLoss: 0.098462\n",
            "Train Epoch: 3 [19200/60000 (32%)]\tLoss: 0.150992\n",
            "Train Epoch: 3 [22400/60000 (37%)]\tLoss: 0.278198\n",
            "Train Epoch: 3 [25600/60000 (43%)]\tLoss: 0.047674\n",
            "Train Epoch: 3 [28800/60000 (48%)]\tLoss: 0.059103\n",
            "Train Epoch: 3 [32000/60000 (53%)]\tLoss: 0.040099\n",
            "Train Epoch: 3 [35200/60000 (59%)]\tLoss: 0.206310\n",
            "Train Epoch: 3 [38400/60000 (64%)]\tLoss: 0.095368\n",
            "Train Epoch: 3 [41600/60000 (69%)]\tLoss: 0.065838\n",
            "Train Epoch: 3 [44800/60000 (75%)]\tLoss: 0.036701\n",
            "Train Epoch: 3 [48000/60000 (80%)]\tLoss: 0.208743\n",
            "Train Epoch: 3 [51200/60000 (85%)]\tLoss: 0.112040\n",
            "Train Epoch: 3 [54400/60000 (91%)]\tLoss: 0.097322\n",
            "Train Epoch: 3 [57600/60000 (96%)]\tLoss: 0.211784\n",
            "\n",
            "Test set: Average loss: 0.0933, Accuracy: 9735/10000 (97%)\n",
            "\n",
            "Train Epoch: 4 [0/60000 (0%)]\tLoss: 0.139634\n",
            "Train Epoch: 4 [3200/60000 (5%)]\tLoss: 0.022261\n",
            "Train Epoch: 4 [6400/60000 (11%)]\tLoss: 0.043620\n",
            "Train Epoch: 4 [9600/60000 (16%)]\tLoss: 0.009524\n",
            "Train Epoch: 4 [12800/60000 (21%)]\tLoss: 0.041717\n",
            "Train Epoch: 4 [16000/60000 (27%)]\tLoss: 0.074604\n",
            "Train Epoch: 4 [19200/60000 (32%)]\tLoss: 0.115321\n",
            "Train Epoch: 4 [22400/60000 (37%)]\tLoss: 0.330038\n",
            "Train Epoch: 4 [25600/60000 (43%)]\tLoss: 0.005213\n",
            "Train Epoch: 4 [28800/60000 (48%)]\tLoss: 0.387791\n",
            "Train Epoch: 4 [32000/60000 (53%)]\tLoss: 0.072010\n",
            "Train Epoch: 4 [35200/60000 (59%)]\tLoss: 0.117087\n",
            "Train Epoch: 4 [38400/60000 (64%)]\tLoss: 0.346976\n",
            "Train Epoch: 4 [41600/60000 (69%)]\tLoss: 0.313207\n",
            "Train Epoch: 4 [44800/60000 (75%)]\tLoss: 0.319218\n",
            "Train Epoch: 4 [48000/60000 (80%)]\tLoss: 0.028520\n",
            "Train Epoch: 4 [51200/60000 (85%)]\tLoss: 0.021048\n",
            "Train Epoch: 4 [54400/60000 (91%)]\tLoss: 0.045397\n",
            "Train Epoch: 4 [57600/60000 (96%)]\tLoss: 0.045985\n",
            "\n",
            "Test set: Average loss: 0.0946, Accuracy: 9720/10000 (97%)\n",
            "\n",
            "Train Epoch: 5 [0/60000 (0%)]\tLoss: 0.217749\n",
            "Train Epoch: 5 [3200/60000 (5%)]\tLoss: 0.021480\n",
            "Train Epoch: 5 [6400/60000 (11%)]\tLoss: 0.234952\n",
            "Train Epoch: 5 [9600/60000 (16%)]\tLoss: 0.111824\n",
            "Train Epoch: 5 [12800/60000 (21%)]\tLoss: 0.014740\n",
            "Train Epoch: 5 [16000/60000 (27%)]\tLoss: 0.031353\n",
            "Train Epoch: 5 [19200/60000 (32%)]\tLoss: 0.030220\n",
            "Train Epoch: 5 [22400/60000 (37%)]\tLoss: 0.127877\n",
            "Train Epoch: 5 [25600/60000 (43%)]\tLoss: 0.023256\n",
            "Train Epoch: 5 [28800/60000 (48%)]\tLoss: 0.165382\n",
            "Train Epoch: 5 [32000/60000 (53%)]\tLoss: 0.105822\n",
            "Train Epoch: 5 [35200/60000 (59%)]\tLoss: 0.030809\n",
            "Train Epoch: 5 [38400/60000 (64%)]\tLoss: 0.010787\n",
            "Train Epoch: 5 [41600/60000 (69%)]\tLoss: 0.130957\n",
            "Train Epoch: 5 [44800/60000 (75%)]\tLoss: 0.159054\n",
            "Train Epoch: 5 [48000/60000 (80%)]\tLoss: 0.194267\n",
            "Train Epoch: 5 [51200/60000 (85%)]\tLoss: 0.032673\n",
            "Train Epoch: 5 [54400/60000 (91%)]\tLoss: 0.081394\n",
            "Train Epoch: 5 [57600/60000 (96%)]\tLoss: 0.266846\n",
            "\n",
            "Test set: Average loss: 0.0907, Accuracy: 9731/10000 (97%)\n",
            "\n",
            "CPU times: user 53.9 s, sys: 553 ms, total: 54.5 s\n",
            "Wall time: 55 s\n"
          ],
          "name": "stdout"
        },
        {
          "output_type": "display_data",
          "data": {
            "image/png": "[encoded data removed]",
            "text/plain": [
              "<Figure size 576x360 with 1 Axes>"
            ]
          },
          "metadata": {
            "tags": []
          }
        }
      ]
    }
  ]
}