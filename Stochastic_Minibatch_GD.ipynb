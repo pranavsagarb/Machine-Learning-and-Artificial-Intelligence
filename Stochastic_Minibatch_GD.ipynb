{
  "nbformat": 4,
  "nbformat_minor": 0,
  "metadata": {
    "colab": {
      "provenance": []
    },
    "language_info": {
      "codemirror_mode": {
        "name": "ipython",
        "version": 3
      },
      "file_extension": ".py",
      "mimetype": "text/x-python",
      "name": "python",
      "nbconvert_exporter": "python",
      "pygments_lexer": "ipython3",
      "version": "3.5.0"
    },
    "kernelspec": {
      "display_name": "Python 3",
      "language": "python",
      "name": "python3"
    }
  },
  "cells": [
    {
      "cell_type": "markdown",
      "metadata": {
        "id": "K_UItlExBcPR"
      },
      "source": [
        "   \n",
        "  At the end of the experiment:\n",
        "    \n",
        "  * Understand various types of gradient descent approaches (Stochastic, Mini-Batch Gradient Descent) and there differences.\n"
      ]
    },
    {
      "cell_type": "code",
      "metadata": {
        "id": "sRjAjk1hTJXM"
      },
      "source": [
        "# Import the required Packages\n",
        "import pandas as pd\n",
        "import numpy as np\n",
        "import scipy.stats as stat\n",
        "%matplotlib notebook\n",
        "from  matplotlib import pyplot as plt\n",
        "import random\n",
        "import time\n"
      ],
      "execution_count": null,
      "outputs": []
    },
    {
      "cell_type": "markdown",
      "metadata": {
        "id": "GLdAeF_tTJXR"
      },
      "source": [
        "### Read the data"
      ]
    },
    {
      "cell_type": "code",
      "metadata": {
        "id": "YDNrlfakTJXS",
        "colab": {
          "base_uri": "https://localhost:8080/",
          "height": 221
        },
        "outputId": "9d7e7e49-fa35-4879-cb27-fd37e02e338f"
      },
      "source": [
        "# Load the data by using pandas read_csv()\n",
        "data = pd.read_csv(\"AIML_DS_REGR01_SIMPLEPENDULUMOSCILLATIONDATA.txt\", sep=\" \", header=None, names=['l', 't'])\n",
        "# Print the first 5 rows of dataframe 'data'\n",
        "print(data.head())\n",
        "# Print the last 5 rows of dataframe 'data'\n",
        "print(data.tail())"
      ],
      "execution_count": null,
      "outputs": [
        {
          "output_type": "stream",
          "text": [
            "      l        t\n",
            "0  0.10  0.69004\n",
            "1  0.11  0.69497\n",
            "2  0.12  0.74252\n",
            "3  0.13  0.75360\n",
            "4  0.14  0.83568\n",
            "       l       t\n",
            "85  0.95  1.9841\n",
            "86  0.96  2.0066\n",
            "87  0.97  2.0493\n",
            "88  0.98  2.0503\n",
            "89  0.99  2.0214\n"
          ],
          "name": "stdout"
        }
      ]
    },
    {
      "cell_type": "code",
      "metadata": {
        "id": "QTtgOro7TJXT"
      },
      "source": [
        "# Get the length and time period values from the dataset\n",
        "l = data['l'].values\n",
        "t = data['t'].values\n",
        "# Get the square of time period\n",
        "tsq = t * t"
      ],
      "execution_count": null,
      "outputs": []
    },
    {
      "cell_type": "code",
      "metadata": {
        "id": "U8j2x2CE_z2O",
        "colab": {
          "base_uri": "https://localhost:8080/",
          "height": 697
        },
        "outputId": "5fb4bb30-db04-4b41-d090-948c81794cb9"
      },
      "source": [
        "l,t,tsq"
      ],
      "execution_count": null,
      "outputs": [
        {
          "output_type": "execute_result",
          "data": {
            "text/plain": [
              "(array([0.1 , 0.11, 0.12, 0.13, 0.14, 0.15, 0.16, 0.17, 0.18, 0.19, 0.2 ,\n",
              "        0.21, 0.22, 0.23, 0.24, 0.25, 0.26, 0.27, 0.28, 0.29, 0.3 , 0.31,\n",
              "        0.32, 0.33, 0.34, 0.35, 0.36, 0.37, 0.38, 0.39, 0.4 , 0.41, 0.42,\n",
              "        0.43, 0.44, 0.45, 0.46, 0.47, 0.48, 0.49, 0.5 , 0.51, 0.52, 0.53,\n",
              "        0.54, 0.55, 0.56, 0.57, 0.58, 0.59, 0.6 , 0.61, 0.62, 0.63, 0.64,\n",
              "        0.65, 0.66, 0.67, 0.68, 0.69, 0.7 , 0.71, 0.72, 0.73, 0.74, 0.75,\n",
              "        0.76, 0.77, 0.78, 0.79, 0.8 , 0.81, 0.82, 0.83, 0.84, 0.85, 0.86,\n",
              "        0.87, 0.88, 0.89, 0.9 , 0.91, 0.92, 0.93, 0.94, 0.95, 0.96, 0.97,\n",
              "        0.98, 0.99]),\n",
              " array([0.69004, 0.69497, 0.74252, 0.7536 , 0.83568, 0.86789, 0.84182,\n",
              "        0.85379, 0.85762, 0.8839 , 0.89985, 0.98436, 1.0244 , 1.0572 ,\n",
              "        0.99077, 1.0058 , 1.0727 , 1.0943 , 1.1432 , 1.1045 , 1.1867 ,\n",
              "        1.1385 , 1.2245 , 1.2406 , 1.2071 , 1.2658 , 1.2995 , 1.3142 ,\n",
              "        1.2663 , 1.2578 , 1.2991 , 1.3058 , 1.3478 , 1.3506 , 1.4044 ,\n",
              "        1.3948 , 1.38   , 1.448  , 1.4168 , 1.4719 , 1.4656 , 1.4399 ,\n",
              "        1.5174 , 1.4988 , 1.4751 , 1.5326 , 1.5297 , 1.5372 , 1.6094 ,\n",
              "        1.6352 , 1.5843 , 1.6643 , 1.5987 , 1.6585 , 1.6317 , 1.7074 ,\n",
              "        1.6654 , 1.6551 , 1.6964 , 1.7143 , 1.7706 , 1.7622 , 1.726  ,\n",
              "        1.8089 , 1.7905 , 1.7428 , 1.8381 , 1.8182 , 1.7865 , 1.7995 ,\n",
              "        1.8296 , 1.8625 , 1.8623 , 1.8383 , 1.8593 , 1.8944 , 1.9598 ,\n",
              "        1.9    , 1.9244 , 1.9397 , 1.944  , 1.9718 , 1.9383 , 1.9555 ,\n",
              "        2.0006 , 1.9841 , 2.0066 , 2.0493 , 2.0503 , 2.0214 ]),\n",
              " array([0.4761552 , 0.4829833 , 0.55133595, 0.56791296, 0.69836106,\n",
              "        0.75323305, 0.70866091, 0.72895736, 0.73551206, 0.78127921,\n",
              "        0.80973002, 0.96896461, 1.04939536, 1.11767184, 0.98162519,\n",
              "        1.01163364, 1.15068529, 1.19749249, 1.30690624, 1.21992025,\n",
              "        1.40825689, 1.29618225, 1.49940025, 1.53908836, 1.45709041,\n",
              "        1.60224964, 1.68870025, 1.72712164, 1.60351569, 1.58206084,\n",
              "        1.68766081, 1.70511364, 1.81656484, 1.82412036, 1.97233936,\n",
              "        1.94546704, 1.9044    , 2.096704  , 2.00732224, 2.16648961,\n",
              "        2.14798336, 2.07331201, 2.30250276, 2.24640144, 2.17592001,\n",
              "        2.34886276, 2.33998209, 2.36298384, 2.59016836, 2.67387904,\n",
              "        2.51000649, 2.76989449, 2.55584169, 2.75062225, 2.66244489,\n",
              "        2.91521476, 2.77355716, 2.73935601, 2.87777296, 2.93882449,\n",
              "        3.13502436, 3.10534884, 2.979076  , 3.27211921, 3.20589025,\n",
              "        3.03735184, 3.37861161, 3.30585124, 3.19158225, 3.23820025,\n",
              "        3.34743616, 3.46890625, 3.46816129, 3.37934689, 3.45699649,\n",
              "        3.58875136, 3.84081604, 3.61      , 3.70331536, 3.76243609,\n",
              "        3.779136  , 3.88799524, 3.75700689, 3.82398025, 4.00240036,\n",
              "        3.93665281, 4.02644356, 4.19963049, 4.20373009, 4.08605796]))"
            ]
          },
          "metadata": {
            "tags": []
          },
          "execution_count": 12
        }
      ]
    },
    {
      "cell_type": "markdown",
      "metadata": {
        "id": "srgyaBxoTJXW"
      },
      "source": [
        "**Stochastic gradient descent (Single sample)**\n",
        "\n",
        "Instead of computing the sum of all gradients, stochastic gradient descent selects an observation uniformly at random."
      ]
    },
    {
      "cell_type": "code",
      "metadata": {
        "id": "hUq_mCNLTJXY"
      },
      "source": [
        "\"\"\"\n",
        "The function 'next_step' updates the values of m and c and calculates error. \n",
        "The loss is minimized due to the changed values of m and c.\n",
        "The new values m, c and the minimized loss is returned.\n",
        "\"\"\"\n",
        "def next_step(x, y, m, c, eta):\n",
        "    ycalc = m * x + c\n",
        "    error = (y - ycalc) ** 2\n",
        "    delta_m = -(y - ycalc) * x\n",
        "    delta_c = -(y - ycalc)\n",
        "    m = m - delta_m * eta\n",
        "    c = c - delta_c * eta\n",
        "    return m, c, error\n",
        "\n",
        "\"\"\"\n",
        "The function below takes a random index and at that index idx, we calculate the values of m,c and error.\n",
        "We use one data point at a time x[idx],y[idx]\n",
        "Here we call the funtion 'next_step' to which we pass a data point x[idx],y[idx]\n",
        "\"\"\"\n",
        "def one_loop_random(x, y, m, c, eta):\n",
        "    # Making random idx\n",
        "    random_idx = np.arange(len(y))\n",
        "    np.random.shuffle(random_idx)\n",
        "    # Training with random idx\n",
        "    for idx in random_idx:\n",
        "        m, c, e = next_step(x[idx], y[idx], m, c, eta)\n",
        "        #print(m, c, e)\n",
        "    return m,c,e\n",
        "  \n",
        "\"\"\"\n",
        "The function below trains the data for 1000 iterations. \n",
        "In each iteration it calls the 'one_loop_random' function.\n",
        "\"\"\"\n",
        "def train_stochastic(x, y, m, c, eta, iterations=1000):\n",
        "    for iteration in range(iterations):\n",
        "        m, c, err = one_loop_random(x, y, m, c, eta)\n",
        "    return m, c, err"
      ],
      "execution_count": null,
      "outputs": []
    },
    {
      "cell_type": "markdown",
      "metadata": {
        "id": "HM2O8HtFTJXa"
      },
      "source": [
        "## TRAIN"
      ]
    },
    {
      "cell_type": "code",
      "metadata": {
        "id": "JlR-YQJoTJXd"
      },
      "source": [
        "# Init m, c\n",
        "m, c = 0, 0"
      ],
      "execution_count": null,
      "outputs": []
    },
    {
      "cell_type": "code",
      "metadata": {
        "id": "kijRetDpTJXg"
      },
      "source": [
        "# Learning rate\n",
        "lr = 0.001"
      ],
      "execution_count": null,
      "outputs": []
    },
    {
      "cell_type": "code",
      "metadata": {
        "id": "8FDMh5YtTJXk",
        "colab": {
          "base_uri": "https://localhost:8080/",
          "height": 490
        },
        "outputId": "8bc4beec-0a83-45b8-e0b9-b82970d62a4d"
      },
      "source": [
        "# Training for 1000 iterations, plotting after every 100 iterations:\n",
        "%matplotlib inline\n",
        "fig = plt.figure(figsize=(5, 5))\n",
        "ax = fig.add_subplot(111)\n",
        "plt.ion()\n",
        "fig.show()\n",
        "fig.canvas.draw()\n",
        "\n",
        "# Call the train_stochastic() method to update m and c and get error value with lr = 0.001.\n",
        "for num in range(10):\n",
        "    m, c, error = train_stochastic(l, tsq, m, c, lr, iterations=100) # We will plot the error values for every 100 iterations\n",
        "    print(\"m = {0:.6} c = {1:.6} Error = {2:.6}\".format(m, c, error))\n",
        "    y = m * l + c\n",
        "    ax.clear()\n",
        "    ax.plot(l, tsq, '.k')\n",
        "    ax.plot(l, y)\n",
        "    fig.canvas.draw()\n",
        "    time.sleep(1)"
      ],
      "execution_count": null,
      "outputs": [
        {
          "output_type": "stream",
          "text": [
            "m = 2.20134 c = 1.18748 Error = 0.133497\n",
            "m = 2.92055 c = 0.775305 Error = 0.0367542\n",
            "m = 3.37275 c = 0.514963 Error = 0.0751655\n",
            "m = 3.65761 c = 0.35146 Error = 0.0268932\n",
            "m = 3.83695 c = 0.248597 Error = 0.00329262\n",
            "m = 3.94981 c = 0.183764 Error = 0.00368349\n",
            "m = 4.02084 c = 0.14295 Error = 0.000791788\n",
            "m = 4.06554 c = 0.117254 Error = 0.00644139\n",
            "m = 4.09366 c = 0.101044 Error = 0.00285304\n",
            "m = 4.11142 c = 0.0909112 Error = 0.00567067\n"
          ],
          "name": "stdout"
        },
        {
          "output_type": "display_data",
          "data": {
            "image/png": "[encoded data removed]",
            "text/plain": [
              "<Figure size 360x360 with 1 Axes>"
            ]
          },
          "metadata": {
            "tags": []
          }
        }
      ]
    },
    {
      "cell_type": "code",
      "metadata": {
        "id": "SXceKp3zTJXs",
        "colab": {
          "base_uri": "https://localhost:8080/",
          "height": 1000
        },
        "outputId": "fef0071a-fdda-4080-a540-d1684b480a11"
      },
      "source": [
        "\n",
        "%matplotlib inline\n",
        "fig = plt.figure(figsize=(8,8))\n",
        "ax = fig.add_subplot(111)\n",
        "plt.ion()\n",
        "fig.show()\n",
        "fig.canvas.draw()\n",
        "\n",
        "ms, cs,errs = [], [], []\n",
        "m, c = 0, 0\n",
        "lr = 0.001\n",
        "\n",
        "# Call the train_stochastic() method to update m and c and get error value with lr = 0.001.\n",
        "for times in range(100):\n",
        "    m, c, error = train_stochastic(l, tsq, m, c, lr, iterations=100) # We will plot the error values for every 100 iterations\n",
        "    print(\"m = {0:.6} c = {1:.6} Error = {2:.6}\".format(m, c, error))\n",
        "    y = m * l + c\n",
        "    ax.clear()\n",
        "    ax.plot(l, tsq, '.k')\n",
        "    ax.plot(l, y)\n",
        "    fig.canvas.draw()\n",
        "    time.sleep(1)\n",
        "\n",
        "    ms.append(m)\n",
        "    cs.append(c)\n",
        "    errs.append(error)\n"
      ],
      "execution_count": null,
      "outputs": [
        {
          "output_type": "stream",
          "text": [
            "m = 2.2012 c = 1.18797 Error = 0.247939\n",
            "m = 2.92014 c = 0.775046 Error = 8.0902e-05\n",
            "m = 3.37289 c = 0.515463 Error = 0.0379435\n",
            "m = 3.65758 c = 0.351547 Error = 0.0168455\n",
            "m = 3.83696 c = 0.24869 Error = 0.000369146\n",
            "m = 3.94976 c = 0.183746 Error = 0.00673379\n",
            "m = 4.02075 c = 0.14287 Error = 0.00724451\n",
            "m = 4.0655 c = 0.11723 Error = 0.00826657\n",
            "m = 4.09365 c = 0.101083 Error = 0.00277215\n",
            "m = 4.11138 c = 0.0909038 Error = 0.013257\n",
            "m = 4.12257 c = 0.0845675 Error = 0.0121961\n",
            "m = 4.1296 c = 0.0805279 Error = 0.0197662\n",
            "m = 4.13395 c = 0.0778791 Error = 0.00601807\n",
            "m = 4.13671 c = 0.0762354 Error = 0.0170502\n",
            "m = 4.13856 c = 0.0753971 Error = 0.00404257\n",
            "m = 4.13958 c = 0.0746187 Error = 0.0131667\n",
            "m = 4.14029 c = 0.0742261 Error = 0.00152779\n",
            "m = 4.14071 c = 0.0739547 Error = 0.0050791\n",
            "m = 4.14098 c = 0.0737955 Error = 0.00582783\n",
            "m = 4.14121 c = 0.0737891 Error = 0.00445639\n",
            "m = 4.14124 c = 0.0736158 Error = 0.00443767\n",
            "m = 4.1413 c = 0.0735289 Error = 3.38592e-05\n",
            "m = 4.14143 c = 0.0736437 Error = 3.21427e-05\n",
            "m = 4.14143 c = 0.0735948 Error = 0.00978757\n",
            "m = 4.14149 c = 0.0736525 Error = 0.0040434\n",
            "m = 4.14141 c = 0.0734847 Error = 6.05432e-05\n",
            "m = 4.14149 c = 0.0736245 Error = 0.000478127\n",
            "m = 4.14145 c = 0.0735619 Error = 0.0180097\n",
            "m = 4.14152 c = 0.073675 Error = 0.00403846\n",
            "m = 4.1415 c = 0.0736228 Error = 0.0174093\n",
            "m = 4.14152 c = 0.0736449 Error = 0.0289535\n",
            "m = 4.14152 c = 0.0736233 Error = 5.72575e-05\n",
            "m = 4.14143 c = 0.0734788 Error = 0.00550956\n",
            "m = 4.14147 c = 0.0735709 Error = 0.00769822\n",
            "m = 4.1415 c = 0.0736196 Error = 0.000145984\n",
            "m = 4.14141 c = 0.0734751 Error = 0.00767133\n",
            "m = 4.14145 c = 0.0735496 Error = 0.0147317\n",
            "m = 4.14151 c = 0.0736357 Error = 0.00060938\n",
            "m = 4.14147 c = 0.0735546 Error = 0.00840455\n",
            "m = 4.14142 c = 0.0734912 Error = 0.00111017\n",
            "m = 4.14148 c = 0.0736024 Error = 0.0289753\n",
            "m = 4.14149 c = 0.0736208 Error = 0.00835496\n",
            "m = 4.14155 c = 0.0736991 Error = 0.0307507\n",
            "m = 4.14144 c = 0.0735112 Error = 0.00444643\n",
            "m = 4.14147 c = 0.0735542 Error = 0.00913143\n",
            "m = 4.1415 c = 0.0736257 Error = 0.0019495\n",
            "m = 4.14155 c = 0.073706 Error = 0.00587755\n",
            "m = 4.14144 c = 0.0735212 Error = 0.000602519\n",
            "m = 4.14144 c = 0.0735145 Error = 0.00627115\n",
            "m = 4.14146 c = 0.0735639 Error = 0.00381208\n",
            "m = 4.14145 c = 0.0735617 Error = 0.00853041\n",
            "m = 4.14144 c = 0.0735443 Error = 2.52812e-05\n",
            "m = 4.14149 c = 0.0736309 Error = 0.0423796\n",
            "m = 4.1414 c = 0.0734502 Error = 0.00179751\n",
            "m = 4.14145 c = 0.0735493 Error = 0.00213193\n",
            "m = 4.14149 c = 0.0735769 Error = 0.00978722\n",
            "m = 4.14147 c = 0.0735598 Error = 0.0126653\n",
            "m = 4.14158 c = 0.0737399 Error = 0.00239132\n",
            "m = 4.14148 c = 0.0735771 Error = 0.00628237\n",
            "m = 4.14145 c = 0.0735296 Error = 0.00979902\n",
            "m = 4.14151 c = 0.0736409 Error = 0.00915317\n",
            "m = 4.14151 c = 0.0736254 Error = 0.0248648\n",
            "m = 4.14146 c = 0.0735573 Error = 0.0058723\n",
            "m = 4.1415 c = 0.0736332 Error = 6.67117e-05\n",
            "m = 4.1415 c = 0.0736226 Error = 5.74566e-05\n",
            "m = 4.14153 c = 0.07368 Error = 0.0085044\n",
            "m = 4.14147 c = 0.0735888 Error = 0.00166389\n",
            "m = 4.14148 c = 0.0735934 Error = 0.00194638\n",
            "m = 4.14148 c = 0.0735807 Error = 0.00569264\n",
            "m = 4.14145 c = 0.0735325 Error = 0.0020314\n",
            "m = 4.1415 c = 0.0736007 Error = 0.00294478\n",
            "m = 4.14151 c = 0.0736 Error = 0.00699665\n",
            "m = 4.14147 c = 0.0735358 Error = 0.00299233\n",
            "m = 4.14145 c = 0.073492 Error = 0.00278689\n",
            "m = 4.14152 c = 0.0736426 Error = 0.00418429\n",
            "m = 4.1415 c = 0.0736193 Error = 0.00851724\n",
            "m = 4.14152 c = 0.073662 Error = 0.00181985\n",
            "m = 4.1415 c = 0.0736212 Error = 0.0097777\n",
            "m = 4.1415 c = 0.0736314 Error = 0.00553703\n",
            "m = 4.14149 c = 0.0735935 Error = 0.0264497\n",
            "m = 4.14149 c = 0.073608 Error = 0.0246509\n",
            "m = 4.14147 c = 0.073585 Error = 0.00513352\n",
            "m = 4.14153 c = 0.0736704 Error = 0.000147678\n",
            "m = 4.14145 c = 0.0735368 Error = 0.0246807\n",
            "m = 4.1415 c = 0.0736315 Error = 0.00376774\n",
            "m = 4.14152 c = 0.0736548 Error = 0.012692\n",
            "m = 4.14154 c = 0.0736961 Error = 0.000374991\n",
            "m = 4.14147 c = 0.0735783 Error = 6.39221e-06\n",
            "m = 4.1415 c = 0.0736383 Error = 0.0161417\n",
            "m = 4.14147 c = 0.0735586 Error = 0.00405643\n",
            "m = 4.14145 c = 0.0735352 Error = 0.00628758\n",
            "m = 4.14148 c = 0.0735897 Error = 0.0131498\n",
            "m = 4.14153 c = 0.0736676 Error = 0.00512662\n",
            "m = 4.14151 c = 0.0736209 Error = 0.0174109\n",
            "m = 4.14152 c = 0.0736264 Error = 0.0115358\n",
            "m = 4.14149 c = 0.0735677 Error = 0.00405418\n",
            "m = 4.14148 c = 0.0735575 Error = 0.00979128\n",
            "m = 4.14151 c = 0.0736312 Error = 0.00543622\n",
            "m = 4.14148 c = 0.0735612 Error = 0.0264618\n",
            "m = 4.1415 c = 0.0736019 Error = 0.0101266\n"
          ],
          "name": "stdout"
        },
        {
          "output_type": "display_data",
          "data": {
            "image/png": "[encoded data removed]",
            "text/plain": [
              "<Figure size 576x576 with 1 Axes>"
            ]
          },
          "metadata": {
            "tags": []
          }
        }
      ]
    },
    {
      "cell_type": "code",
      "metadata": {
        "id": "JkRMHxA2TJX0"
      },
      "source": [
        "\"\"\"\n",
        "The function 'train_one_batch' updates the values of m and c and calculates error. \n",
        "The loss is minimized due to the changed values of m and c.\n",
        "The new values m, c and the minimized loss is returned.\n",
        "\"\"\"\n",
        "def train_one_batch(x, y, m, c, eta):\n",
        "    const = - 2.0/len(y)\n",
        "    ycalc = m * x + c\n",
        "    delta_m = const * sum(x * (y - ycalc))\n",
        "    delta_c = const * sum(y - ycalc)\n",
        "    m = m - delta_m * eta\n",
        "    c = c - delta_c * eta\n",
        "    error = sum((y - ycalc)**2)/len(y)\n",
        "    return m, c, error\n",
        "\n",
        "\"\"\"\n",
        "The function below takes a batch_size and loss is calculated w.r.t batches.\n",
        "The batches are created using random index.\n",
        "The m, c and error values are calculated for each batch of data.\n",
        "So, it calls the function 'train_one_batch' by passing batch_x, batch_y for each batch.\n",
        "\"\"\"\n",
        "def train_batches(x, y, m, c, eta, batch_size):\n",
        "    # Making the batches\n",
        "    random_idx = np.arange(len(y))\n",
        "    np.random.shuffle(random_idx)\n",
        "    \n",
        "    # Train each batch\n",
        "    for batch in range(len(y)//batch_size):\n",
        "        batch_idx = random_idx[batch*batch_size:(batch+1)*batch_size]\n",
        "        batch_x = x[batch_idx]\n",
        "        batch_y = y[batch_idx]\n",
        "        m, c, err = train_one_batch(batch_x, batch_y, m, c, eta)\n",
        "    \n",
        "    return m, c, err\n",
        "\n",
        "\"\"\"\n",
        "The function below trains the data for 1000 iterations. \n",
        "The data is traversed in batches, the batch size here is considered to be 10.\n",
        "In each iteration it calls the 'train_batches' function. \n",
        "The 'batch_size' is passed as a parameter to 'train_batches'.\n",
        "\"\"\"\n",
        "def train_minibatch(x, y, m, c, eta, batch_size=10, iterations=1000):\n",
        "    for iteration in range(iterations):\n",
        "        m, c, err = train_batches(x, y, m, c, eta, batch_size)\n",
        "    return m, c, err\n"
      ],
      "execution_count": null,
      "outputs": []
    },
    {
      "cell_type": "markdown",
      "metadata": {
        "id": "-BLipYesTJX4"
      },
      "source": [
        "#### TRAIN"
      ]
    },
    {
      "cell_type": "code",
      "metadata": {
        "id": "oAsrGHdLTJX4"
      },
      "source": [
        "# Init m, c\n",
        "m, c = 0, 0"
      ],
      "execution_count": null,
      "outputs": []
    },
    {
      "cell_type": "code",
      "metadata": {
        "id": "BXm2ZSEwTJX8"
      },
      "source": [
        "# Learning rate\n",
        "lr = 0.001"
      ],
      "execution_count": null,
      "outputs": []
    },
    {
      "cell_type": "code",
      "metadata": {
        "id": "c0ejZ17GTJX_"
      },
      "source": [
        "# Batch size\n",
        "batch_size = 10"
      ],
      "execution_count": null,
      "outputs": []
    },
    {
      "cell_type": "code",
      "metadata": {
        "id": "3Y-XhUFqTJYB",
        "colab": {
          "base_uri": "https://localhost:8080/",
          "height": 490
        },
        "outputId": "931ce496-f19a-43e4-9d2a-e7b4f231b6f3"
      },
      "source": [
        "%matplotlib inline\n",
        "# Training for 1000 iterations, plotting after every 100 iterations:\n",
        "fig = plt.figure(figsize=(5, 5))\n",
        "ax = fig.add_subplot(111)\n",
        "plt.ion()\n",
        "fig.show()\n",
        "fig.canvas.draw()\n",
        "\n",
        "# Call the train_minibatch() method to update m and c and get error value with lr = 0.001 and batch_size=90.\n",
        "for num in range(10):\n",
        "    m, c, error = train_minibatch(l, tsq, m, c, lr, batch_size=90, iterations=100) # We will plot the error values for every 100 iterations\n",
        "    print(\"m = {0:.6} c = {1:.6} Error = {2:.6}\".format(m, c, error))\n",
        "    y = m * l + c\n",
        "    ax.clear()\n",
        "    ax.plot(l, tsq, '.k')\n",
        "    ax.plot(l, y)\n",
        "    fig.canvas.draw()\n",
        "    time.sleep(1)"
      ],
      "execution_count": null,
      "outputs": [
        {
          "output_type": "stream",
          "text": [
            "m = 0.276529 c = 0.408341 Error = 4.1726\n",
            "m = 0.49608 c = 0.718257 Error = 2.71618\n",
            "m = 0.671759 c = 0.952549 Error = 1.8504\n",
            "m = 0.813639 c = 1.12874 Error = 1.33379\n",
            "m = 0.929467 c = 1.26031 Error = 1.02365\n",
            "m = 1.0252 c = 1.35762 Error = 0.835624\n",
            "m = 1.10541 c = 1.42863 Error = 0.719865\n",
            "m = 1.17362 c = 1.47945 Error = 0.646911\n",
            "m = 1.23254 c = 1.51479 Error = 0.599347\n",
            "m = 1.28426 c = 1.53828 Error = 0.566879\n"
          ],
          "name": "stdout"
        },
        {
          "output_type": "display_data",
          "data": {
            "image/png": "[encoded data removed]",
            "text/plain": [
              "<Figure size 360x360 with 1 Axes>"
            ]
          },
          "metadata": {
            "tags": []
          }
        }
      ]
    },
    {
      "cell_type": "code",
      "metadata": {
        "id": "zmQ_eNyQTJYG"
      },
      "source": [
        "\n",
        "m, c = 0, 0\n",
        "lr = 0.01"
      ],
      "execution_count": null,
      "outputs": []
    },
    {
      "cell_type": "code",
      "metadata": {
        "id": "uBUcyH_QTJYJ"
      },
      "source": [
        "\n",
        "batch_size = 100"
      ],
      "execution_count": null,
      "outputs": []
    },
    {
      "cell_type": "markdown",
      "metadata": {
        "id": "vIFFYGKnTJYL"
      },
      "source": [
        "\n",
        "#### Plotting error vs iterations"
      ]
    },
    {
      "cell_type": "code",
      "metadata": {
        "id": "OhcEs6pVTJYL",
        "colab": {
          "base_uri": "https://localhost:8080/",
          "height": 1000
        },
        "outputId": "c15dadac-a040-4d56-fcd2-0126e9f33309"
      },
      "source": [
        "%matplotlib inline\n",
        "\n",
        "ms, cs,errs = [], [], []\n",
        "m, c = 0, 0\n",
        "lr = 0.010\n",
        "batch_size = 10\n",
        "\n",
        "# Call the train_minibatch() method to update m and c and get error value with lr = 0.001 and batch_size = 10.\n",
        "for times in range(100):\n",
        "    m, c, error = train_minibatch(l, tsq, m, c, lr, batch_size, iterations=100) # We will plot the error values for every 100 iterations\n",
        "    print(\"m = {0:.6} c = {1:.6} Error = {2:.6}\".format(m, c, error))\n",
        "    y = m * l + c\n",
        "    ax.clear()\n",
        "    ax.plot(l, tsq, '.k')\n",
        "    ax.plot(l, y)\n",
        "    fig.canvas.draw()\n",
        "    time.sleep(1)\n",
        "\n",
        "    ms.append(m)\n",
        "    cs.append(c)\n",
        "    \n",
        "    errs.append(error)\n",
        "    \n",
        "# plot Errors vs Iterations\n",
        "epoch = range(0, 10000, 100)\n",
        "plt.figure(figsize=(8, 5))\n",
        "plt.plot(epoch, errs)\n",
        "plt.xlabel(\"Iterations\")\n",
        "plt.ylabel(\"Error\")\n",
        "plt.title(\"Minibatch Gradient Descent\")\n",
        "plt.show()"
      ],
      "execution_count": null,
      "outputs": [
        {
          "output_type": "stream",
          "text": [
            "m = 2.92171 c = 0.775156 Error = 0.141375\n",
            "m = 3.65874 c = 0.351623 Error = 0.00567054\n",
            "m = 3.95016 c = 0.18331 Error = 0.00449905\n",
            "m = 4.0657 c = 0.11696 Error = 0.00544148\n",
            "m = 4.11152 c = 0.0908541 Error = 0.0108884\n",
            "m = 4.12949 c = 0.0802432 Error = 0.00467716\n",
            "m = 4.13662 c = 0.0760367 Error = 0.00476538\n",
            "m = 4.13953 c = 0.0745507 Error = 0.00476735\n",
            "m = 4.14055 c = 0.0737023 Error = 0.00973204\n",
            "m = 4.14108 c = 0.0736083 Error = 0.00724689\n",
            "m = 4.14139 c = 0.0737458 Error = 0.0121471\n",
            "m = 4.14152 c = 0.0737596 Error = 0.0066189\n",
            "m = 4.14147 c = 0.0736437 Error = 0.00753235\n",
            "m = 4.14156 c = 0.0738389 Error = 0.00831356\n",
            "m = 4.1415 c = 0.0736751 Error = 0.00379294\n",
            "m = 4.14149 c = 0.0735993 Error = 0.00916948\n",
            "m = 4.14138 c = 0.0734084 Error = 0.00230219\n",
            "m = 4.14163 c = 0.0738367 Error = 0.0084795\n",
            "m = 4.14158 c = 0.0737538 Error = 0.00964731\n",
            "m = 4.14142 c = 0.0735017 Error = 0.00903187\n",
            "m = 4.14136 c = 0.0733649 Error = 0.00642578\n",
            "m = 4.14144 c = 0.0734815 Error = 0.00500183\n",
            "m = 4.14137 c = 0.0734067 Error = 0.0064283\n",
            "m = 4.14143 c = 0.0735633 Error = 0.00720278\n",
            "m = 4.14151 c = 0.0736317 Error = 0.00750718\n",
            "m = 4.14154 c = 0.0736438 Error = 0.00282057\n",
            "m = 4.14161 c = 0.073827 Error = 0.0114392\n",
            "m = 4.14146 c = 0.0735683 Error = 0.00830279\n",
            "m = 4.14161 c = 0.0737807 Error = 0.00724783\n",
            "m = 4.14166 c = 0.0738975 Error = 0.0036475\n",
            "m = 4.14148 c = 0.0735985 Error = 0.00272895\n",
            "m = 4.14168 c = 0.0739458 Error = 0.00816308\n",
            "m = 4.14145 c = 0.0735579 Error = 0.00787641\n",
            "m = 4.1415 c = 0.0736217 Error = 0.00518184\n",
            "m = 4.14163 c = 0.0738439 Error = 0.0130568\n",
            "m = 4.14139 c = 0.073453 Error = 0.00721569\n",
            "m = 4.14154 c = 0.0736589 Error = 0.00814688\n",
            "m = 4.14144 c = 0.0735031 Error = 0.00716321\n",
            "m = 4.14156 c = 0.0737358 Error = 0.00852396\n",
            "m = 4.14135 c = 0.073361 Error = 0.00211906\n",
            "m = 4.14144 c = 0.0735421 Error = 0.00614571\n",
            "m = 4.14147 c = 0.0735818 Error = 0.00411374\n",
            "m = 4.14148 c = 0.0736478 Error = 0.00646029\n",
            "m = 4.14144 c = 0.073575 Error = 0.00777874\n",
            "m = 4.14139 c = 0.0734682 Error = 0.0057296\n",
            "m = 4.14154 c = 0.0736439 Error = 0.00601335\n",
            "m = 4.14147 c = 0.0736094 Error = 0.00700091\n",
            "m = 4.14154 c = 0.0736993 Error = 0.00740256\n",
            "m = 4.14132 c = 0.073284 Error = 0.00642156\n",
            "m = 4.14151 c = 0.0736234 Error = 0.00606281\n",
            "m = 4.14149 c = 0.0736005 Error = 0.00466989\n",
            "m = 4.14131 c = 0.0733002 Error = 0.00417693\n",
            "m = 4.14133 c = 0.0733604 Error = 0.00654035\n",
            "m = 4.14149 c = 0.0736419 Error = 0.00943258\n",
            "m = 4.14147 c = 0.0736184 Error = 0.0158769\n",
            "m = 4.14139 c = 0.0734787 Error = 0.00966161\n",
            "m = 4.14144 c = 0.0734806 Error = 0.00460051\n",
            "m = 4.14144 c = 0.0735445 Error = 0.00899209\n",
            "m = 4.14157 c = 0.0737253 Error = 0.0114927\n",
            "m = 4.14152 c = 0.0736501 Error = 0.0117784\n",
            "m = 4.14139 c = 0.0734243 Error = 0.00953665\n",
            "m = 4.14147 c = 0.0736052 Error = 0.00563836\n",
            "m = 4.14137 c = 0.0734446 Error = 0.00594042\n",
            "m = 4.14134 c = 0.0733039 Error = 0.00471676\n",
            "m = 4.14145 c = 0.0735652 Error = 0.00846892\n",
            "m = 4.14151 c = 0.0736898 Error = 0.0103921\n",
            "m = 4.14164 c = 0.0738766 Error = 0.0107108\n",
            "m = 4.14156 c = 0.0736914 Error = 0.00841407\n",
            "m = 4.14149 c = 0.0735839 Error = 0.00813059\n",
            "m = 4.14158 c = 0.0737823 Error = 0.00580027\n",
            "m = 4.14152 c = 0.0735927 Error = 0.0108222\n",
            "m = 4.14149 c = 0.0736098 Error = 0.00585598\n",
            "m = 4.14143 c = 0.0734535 Error = 0.00846125\n",
            "m = 4.14159 c = 0.0737787 Error = 0.00275156\n",
            "m = 4.14149 c = 0.0735622 Error = 0.0048806\n",
            "m = 4.14152 c = 0.0735681 Error = 0.00842053\n",
            "m = 4.14124 c = 0.0731124 Error = 0.00964944\n",
            "m = 4.14156 c = 0.0737011 Error = 0.00723232\n",
            "m = 4.14151 c = 0.0736683 Error = 0.00636461\n",
            "m = 4.14151 c = 0.0736723 Error = 0.0100092\n",
            "m = 4.14164 c = 0.0739003 Error = 0.0106518\n",
            "m = 4.14146 c = 0.0735547 Error = 0.00895293\n",
            "m = 4.14138 c = 0.0733999 Error = 0.00900656\n",
            "m = 4.14135 c = 0.0733276 Error = 0.00684675\n",
            "m = 4.14145 c = 0.0735184 Error = 0.00557313\n",
            "m = 4.14134 c = 0.0733742 Error = 0.0106907\n",
            "m = 4.14144 c = 0.073546 Error = 0.00703907\n",
            "m = 4.1414 c = 0.0734063 Error = 0.00693948\n",
            "m = 4.14152 c = 0.0736458 Error = 0.00746978\n",
            "m = 4.14151 c = 0.0736445 Error = 0.00651685\n",
            "m = 4.14157 c = 0.073766 Error = 0.00383168\n",
            "m = 4.14135 c = 0.0733778 Error = 0.00486405\n",
            "m = 4.14154 c = 0.0736778 Error = 0.00776825\n",
            "m = 4.1414 c = 0.0735117 Error = 0.00837098\n",
            "m = 4.14161 c = 0.0738099 Error = 0.00637628\n",
            "m = 4.14131 c = 0.0732534 Error = 0.00491519\n",
            "m = 4.14147 c = 0.0735199 Error = 0.00296746\n",
            "m = 4.14157 c = 0.0737426 Error = 0.00825772\n",
            "m = 4.14144 c = 0.0735284 Error = 0.00705742\n",
            "m = 4.14119 c = 0.0730919 Error = 0.00348794\n"
          ],
          "name": "stdout"
        },
        {
          "output_type": "display_data",
          "data": {
            "image/png": "[encoded data removed]",
            "text/plain": [
              "<Figure size 576x360 with 1 Axes>"
            ]
          },
          "metadata": {
            "tags": []
          }
        }
      ]
    }
  ]
}