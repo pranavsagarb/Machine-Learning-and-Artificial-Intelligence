{
  "nbformat": 4,
  "nbformat_minor": 0,
  "metadata": {
    "colab": {
      "provenance": []
    },
    "kernelspec": {
      "display_name": "Python 3",
      "language": "python",
      "name": "python3"
    },
    "language_info": {
      "codemirror_mode": {
        "name": "ipython",
        "version": 3
      },
      "file_extension": ".py",
      "mimetype": "text/x-python",
      "name": "python",
      "nbconvert_exporter": "python",
      "pygments_lexer": "ipython3",
      "version": "3.7.3"
    }
  },
  "cells": [
    {
      "cell_type": "markdown",
      "metadata": {
        "id": "VPDGLSN8omMi"
      },
      "source": [
        "At the end of the experiment\n",
        "\n",
        "* understand Multi-Layer Perceptron (MLP)\n",
        "* tune the hyper-parameters of a MLP classifier"
      ]
    },
    {
      "cell_type": "markdown",
      "metadata": {
        "id": "iNpSnff_nWmW"
      },
      "source": [
        "A hyperparameter is a parameter whose value is set before the learning process begins."
      ]
    },
    {
      "cell_type": "markdown",
      "metadata": {
        "id": "-Ppa_jkQ3B0Z"
      },
      "source": [
        "### What is  MLP ?\n"
      ]
    },
    {
      "cell_type": "markdown",
      "metadata": {
        "id": "O-NXCwYT3LsF"
      },
      "source": [
        "A multilayer perceptron is a class of feedforward artificial neural network. An MLP consists of, at least, three layers of nodes as shown in below image: \n",
        "\n",
        "**Layer1** :   Input Layer\n",
        "\n",
        "**Layer 2** :  Hidden Layer\n",
        "\n",
        "**Layer 3** : Output Layer\n",
        "\n",
        "![alt text](https://www.researchgate.net/profile/Mohamed_Zahran6/publication/303875065/figure/fig4/AS:371118507610123@1465492955561/A-hypothetical-example-of-Multilayer-Perceptron-Network.png)\n",
        "\n",
        "The number of nodes in the input layer is determined by the dimensionality of our data. \n",
        "\n",
        "The number of nodes in the output layer is determined by the number of classes we have.\n"
      ]
    },
    {
      "cell_type": "markdown",
      "metadata": {
        "id": "s1OKA4xynWmX"
      },
      "source": [
        "#### Importing the required packages"
      ]
    },
    {
      "cell_type": "code",
      "metadata": {
        "id": "v_g-vhFCnWmY"
      },
      "source": [
        "import numpy as np\n",
        "from matplotlib import pyplot as plt\n",
        "from sklearn import datasets\n",
        "from sklearn.model_selection import train_test_split\n",
        "from sklearn.neural_network import MLPClassifier"
      ],
      "execution_count": null,
      "outputs": []
    },
    {
      "cell_type": "code",
      "metadata": {
        "id": "92sr2eUf0Y9l"
      },
      "source": [
        "from sklearn.metrics import accuracy_score"
      ],
      "execution_count": null,
      "outputs": []
    },
    {
      "cell_type": "markdown",
      "metadata": {
        "id": "3RLdLj8GnWmd"
      },
      "source": [
        "Loading the dataset from sklearn package"
      ]
    },
    {
      "cell_type": "code",
      "metadata": {
        "id": "-rusMmbLnWmf"
      },
      "source": [
        "#Load MNIST datset \n",
        "digits = datasets.load_digits(n_class=10)\n",
        "# Create our X and y data\n",
        "data = digits.data\n",
        "target = digits.target"
      ],
      "execution_count": null,
      "outputs": []
    },
    {
      "cell_type": "code",
      "metadata": {
        "id": "seX_QbLrj4XN",
        "colab": {
          "base_uri": "https://localhost:8080/",
          "height": 34
        },
        "outputId": "818ec18f-c7b1-4349-c20a-b1bdc238665c"
      },
      "source": [
        "data.shape"
      ],
      "execution_count": null,
      "outputs": [
        {
          "output_type": "execute_result",
          "data": {
            "text/plain": [
              "(1797, 64)"
            ]
          },
          "metadata": {
            "tags": []
          },
          "execution_count": 10
        }
      ]
    },
    {
      "cell_type": "markdown",
      "metadata": {
        "id": "8srwHyGFnWml"
      },
      "source": [
        "\n",
        "\n",
        "Split  data into training ,testing  sets. This is done easily with SciKit Learn’s train_test_split function.\n",
        "\n",
        "\n"
      ]
    },
    {
      "cell_type": "code",
      "metadata": {
        "id": "7QyTcVXadQV9"
      },
      "source": [
        "from sklearn.model_selection import train_test_split"
      ],
      "execution_count": null,
      "outputs": []
    },
    {
      "cell_type": "code",
      "metadata": {
        "id": "Rd2caLjnnWml"
      },
      "source": [
        "X_train, X_test, Y_train, Y_test =  train_test_split(data, target, test_size=0.2, random_state=1)\n",
        "\n"
      ],
      "execution_count": null,
      "outputs": []
    },
    {
      "cell_type": "code",
      "metadata": {
        "id": "JUOCABqynWmq"
      },
      "source": [
        "#function to Create MLP classifier object with hyper parameters\n",
        "def mlp(a,s,h,lr):\n",
        "    clf = MLPClassifier(activation= a ,solver= s ,hidden_layer_sizes = h,max_iter = 5000 ,learning_rate = 'constant',learning_rate_init=lr)\n",
        "    return clf \n",
        "#function to calculate the accuracy\n",
        "def accuracy(actual,predicted):\n",
        "    return accuracy_score(actual,predicted)"
      ],
      "execution_count": null,
      "outputs": []
    },
    {
      "cell_type": "markdown",
      "metadata": {
        "id": "N0OwqiyQnWmt"
      },
      "source": [
        "**Let us define the hyper parameters of MLP Classifier**"
      ]
    },
    {
      "cell_type": "code",
      "metadata": {
        "id": "3RGkGdvSnWmv"
      },
      "source": [
        "# activation: Activation functions are critical in introducing non-linearity in MLP (in absence of this all layers of MLP combine into a single layer)\n",
        "activation = [\"identity\",\"logistic\",\"tanh\",\"relu\"]\n",
        "#solvers: The following are the methods by which your weights get updated.\n",
        "solvers = [\"lbfgs\",\"sgd\",\"adam\"]\n",
        "#learning rate\n",
        "learning_rate = [0.0001,0.001,0.01,0.1]\n",
        "#hidden layers\n",
        "hidden_layers = [(5,2),(3,2),(6,3),(7,2)]"
      ],
      "execution_count": null,
      "outputs": []
    },
    {
      "cell_type": "code",
      "metadata": {
        "id": "4olJ-qZq6OBJ"
      },
      "source": [],
      "execution_count": null,
      "outputs": []
    },
    {
      "cell_type": "markdown",
      "metadata": {
        "id": "HDkAAEe60_9-"
      },
      "source": [
        "In the below code cell we are trying to train a MLP classifer with different hyper parameters. Here we choose a random index value based on size of the hyper parameters list which are defined above."
      ]
    },
    {
      "cell_type": "code",
      "metadata": {
        "id": "UoChIOiunWm1",
        "colab": {
          "base_uri": "https://localhost:8080/",
          "height": 1000
        },
        "outputId": "ddb128b7-4568-4f59-b262-689eb7345c8a"
      },
      "source": [
        "test_accuracy = []\n",
        "validation_accuracy = []\n",
        "train_accuracy = []\n",
        "for i in range(10):\n",
        "    k1 = np.random.randint(0,len(activation))\n",
        "    k2 = np.random.randint(0,len(solvers))\n",
        "    k3 = np.random.randint(0,len(learning_rate))\n",
        "    k4 = np.random.randint(0,len(hidden_layers))\n",
        "    print(\"\\nHyper-parameters = \\n activation = \", activation[k1],    \"\\n solver = \", solvers[k2], \"\\n learning_rate_init = \", learning_rate[k3],         \"\\n hidden_layer_sizes = \", hidden_layers[k4])\n",
        "    #calling the mlp function with random hyper paramters\n",
        "    clf = mlp(activation[k1],solvers[k2],hidden_layers[k4],learning_rate[k3])\n",
        "    #Fitting the data into model\n",
        "    clf.fit(X_train,Y_train)\n",
        "    ## Predicting the values on trained model using train data\n",
        "    predTrain = clf.predict((X_train))\n",
        "    #Calculating the train accuracy\n",
        "    train_accuracy.append(accuracy(Y_train,predTrain))\n",
        "    # Predicting the values on trained model using test data\n",
        "    predTest = clf.predict((X_test))\n",
        "    #Calculating the test accuracy\n",
        "    test_accuracy.append(accuracy(Y_test,predTest))\n",
        "  \n",
        "    print(\"(train,  test) accuracy = \",accuracy(Y_train,predTrain),  accuracy(Y_test,predTest))"
      ],
      "execution_count": null,
      "outputs": [
        {
          "output_type": "stream",
          "text": [
            "\n",
            "Hyper-parameters = \n",
            " activation =  identity \n",
            " solver =  adam \n",
            " learning_rate_init =  0.001 \n",
            " hidden_layer_sizes =  (3, 2)\n",
            "(train,  test) accuracy =  0.791231732776618 0.7694444444444445\n",
            "\n",
            "Hyper-parameters = \n",
            " activation =  relu \n",
            " solver =  sgd \n",
            " learning_rate_init =  0.0001 \n",
            " hidden_layer_sizes =  (7, 2)\n"
          ],
          "name": "stdout"
        },
        {
          "output_type": "stream",
          "text": [
            "/usr/local/lib/python3.6/dist-packages/sklearn/neural_network/_multilayer_perceptron.py:571: ConvergenceWarning: Stochastic Optimizer: Maximum iterations (5000) reached and the optimization hasn't converged yet.\n",
            "  % self.max_iter, ConvergenceWarning)\n"
          ],
          "name": "stderr"
        },
        {
          "output_type": "stream",
          "text": [
            "(train,  test) accuracy =  0.8524704244954767 0.7916666666666666\n",
            "\n",
            "Hyper-parameters = \n",
            " activation =  relu \n",
            " solver =  sgd \n",
            " learning_rate_init =  0.0001 \n",
            " hidden_layer_sizes =  (6, 3)\n",
            "(train,  test) accuracy =  0.7160751565762005 0.7027777777777777\n",
            "\n",
            "Hyper-parameters = \n",
            " activation =  identity \n",
            " solver =  sgd \n",
            " learning_rate_init =  0.1 \n",
            " hidden_layer_sizes =  (7, 2)\n"
          ],
          "name": "stdout"
        },
        {
          "output_type": "stream",
          "text": [
            "/usr/local/lib/python3.6/dist-packages/sklearn/utils/extmath.py:151: RuntimeWarning: overflow encountered in matmul\n",
            "  ret = a @ b\n",
            "/usr/local/lib/python3.6/dist-packages/sklearn/neural_network/_base.py:92: RuntimeWarning: invalid value encountered in subtract\n",
            "  tmp = X - X.max(axis=1)[:, np.newaxis]\n",
            "/usr/local/lib/python3.6/dist-packages/sklearn/neural_network/_multilayer_perceptron.py:571: ConvergenceWarning: Stochastic Optimizer: Maximum iterations (5000) reached and the optimization hasn't converged yet.\n",
            "  % self.max_iter, ConvergenceWarning)\n"
          ],
          "name": "stderr"
        },
        {
          "output_type": "stream",
          "text": [
            "(train,  test) accuracy =  0.09394572025052192 0.11944444444444445\n",
            "\n",
            "Hyper-parameters = \n",
            " activation =  tanh \n",
            " solver =  adam \n",
            " learning_rate_init =  0.01 \n",
            " hidden_layer_sizes =  (5, 2)\n",
            "(train,  test) accuracy =  0.6931106471816284 0.6861111111111111\n",
            "\n",
            "Hyper-parameters = \n",
            " activation =  logistic \n",
            " solver =  lbfgs \n",
            " learning_rate_init =  0.001 \n",
            " hidden_layer_sizes =  (5, 2)\n"
          ],
          "name": "stdout"
        },
        {
          "output_type": "stream",
          "text": [
            "/usr/local/lib/python3.6/dist-packages/sklearn/neural_network/_multilayer_perceptron.py:470: ConvergenceWarning: lbfgs failed to converge (status=1):\n",
            "STOP: TOTAL NO. of ITERATIONS REACHED LIMIT.\n",
            "\n",
            "Increase the number of iterations (max_iter) or scale the data as shown in:\n",
            "    https://scikit-learn.org/stable/modules/preprocessing.html\n",
            "  self.n_iter_ = _check_optimize_result(\"lbfgs\", opt_res, self.max_iter)\n"
          ],
          "name": "stderr"
        },
        {
          "output_type": "stream",
          "text": [
            "(train,  test) accuracy =  0.3938761308281141 0.34444444444444444\n",
            "\n",
            "Hyper-parameters = \n",
            " activation =  logistic \n",
            " solver =  lbfgs \n",
            " learning_rate_init =  0.001 \n",
            " hidden_layer_sizes =  (5, 2)\n"
          ],
          "name": "stdout"
        },
        {
          "output_type": "stream",
          "text": [
            "/usr/local/lib/python3.6/dist-packages/sklearn/neural_network/_multilayer_perceptron.py:470: ConvergenceWarning: lbfgs failed to converge (status=1):\n",
            "STOP: TOTAL NO. of ITERATIONS REACHED LIMIT.\n",
            "\n",
            "Increase the number of iterations (max_iter) or scale the data as shown in:\n",
            "    https://scikit-learn.org/stable/modules/preprocessing.html\n",
            "  self.n_iter_ = _check_optimize_result(\"lbfgs\", opt_res, self.max_iter)\n"
          ],
          "name": "stderr"
        },
        {
          "output_type": "stream",
          "text": [
            "(train,  test) accuracy =  0.4022268615170494 0.4\n",
            "\n",
            "Hyper-parameters = \n",
            " activation =  relu \n",
            " solver =  adam \n",
            " learning_rate_init =  0.001 \n",
            " hidden_layer_sizes =  (6, 3)\n",
            "(train,  test) accuracy =  0.9102296450939458 0.8333333333333334\n",
            "\n",
            "Hyper-parameters = \n",
            " activation =  relu \n",
            " solver =  adam \n",
            " learning_rate_init =  0.0001 \n",
            " hidden_layer_sizes =  (3, 2)\n"
          ],
          "name": "stdout"
        },
        {
          "output_type": "stream",
          "text": [
            "/usr/local/lib/python3.6/dist-packages/sklearn/neural_network/_multilayer_perceptron.py:571: ConvergenceWarning: Stochastic Optimizer: Maximum iterations (5000) reached and the optimization hasn't converged yet.\n",
            "  % self.max_iter, ConvergenceWarning)\n"
          ],
          "name": "stderr"
        },
        {
          "output_type": "stream",
          "text": [
            "(train,  test) accuracy =  0.6235212247738344 0.6416666666666667\n",
            "\n",
            "Hyper-parameters = \n",
            " activation =  tanh \n",
            " solver =  sgd \n",
            " learning_rate_init =  0.0001 \n",
            " hidden_layer_sizes =  (5, 2)\n",
            "(train,  test) accuracy =  0.4001391788448156 0.3638888888888889\n"
          ],
          "name": "stdout"
        }
      ]
    },
    {
      "cell_type": "markdown",
      "metadata": {
        "id": "yfGsLoIOnWm4"
      },
      "source": [
        "#### Plotting the accuracies of  train, test  sets; On x-axis in the graph below (once the cell is executed), is the combination of parameters output by the cell above, in sequence."
      ]
    },
    {
      "cell_type": "code",
      "metadata": {
        "id": "zbPs4aACnWm7",
        "colab": {
          "base_uri": "https://localhost:8080/",
          "height": 265
        },
        "outputId": "9fb593ba-9fd1-4065-828d-401ac635c740"
      },
      "source": [
        "## Plotting the data\n",
        "xx = np.array(range(1,11))\n",
        "plt.bar(xx-0.2,train_accuracy,width=0.2)\n",
        "plt.bar(xx,test_accuracy,width=0.2)\n",
        "plt.legend([\"Train\",\"Test\"])\n",
        "plt.show()"
      ],
      "execution_count": null,
      "outputs": [
        {
          "output_type": "display_data",
          "data": {
            "image/png": "[encoded data removed]",
            "text/plain": [
              "<Figure size 432x288 with 1 Axes>"
            ]
          },
          "metadata": {
            "tags": []
          }
        }
      ]
    }
  ]
}