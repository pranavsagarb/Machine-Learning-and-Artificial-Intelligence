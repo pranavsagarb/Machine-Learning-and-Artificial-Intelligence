{
  "nbformat": 4,
  "nbformat_minor": 0,
  "metadata": {
    "colab": {
      "provenance": []
    },
    "kernelspec": {
      "display_name": "Python 3",
      "language": "python",
      "name": "python3"
    }
  },
  "cells": [
    {
      "cell_type": "markdown",
      "metadata": {
        "id": "iijYVnsgMxj3"
      },
      "source": [
        "At the end of the experiment:\n",
        "\n",
        "1. Understand how to deal with the text preprocessing\n",
        "2. Perform dimensionality reduction using an Autoencoder for text\n",
        "3. Create effective semantic representations of variable sized text\n"
      ]
    },
    {
      "cell_type": "markdown",
      "metadata": {
        "id": "rHLqaq2FOXDT"
      },
      "source": [
        "\n",
        "\n",
        "### Description\n",
        "\n",
        "This dataset is a collection of approximately 20,000 newsgroup documents, partitioned nearly evenly across 20 different newsgroups. That is there are approximately one thousand documents taken from each of the following newsgroups:\n",
        "\n",
        "    alt.athesim\n",
        "    comp.graphics   \n",
        "    comp.os.ms-windows.misc\n",
        "    comp.sys.ibm.pc.hardware\n",
        "    comp.sys.mac.hardware\n",
        "    comp.windows.x\n",
        "    misc.forsale\n",
        "    rec.autos\n",
        "    rec.motorcycles\n",
        "    rec.sport.baseball\n",
        "    rec.sport.hockey\n",
        "    sci.crypt\n",
        "    sci.electronics\n",
        "    sci.med\n",
        "    sci.space\n",
        "    soc.religion.christian\n",
        "    talk.politics.guns\n",
        "    talk.politics.mideast\n",
        "    talk.politics.misc\n",
        "    talk.religion.misc\n",
        "\n",
        "The dataset consists **Usenet** posts--essentially an email sent by someone to that newsgroup. They typically contain quotes from previous posts as well as cross posts; that is a few posts may be sent to more than one newsgroup.\n",
        "\n",
        "Each newsgroup is stored in a subdirectory, with each post stored as a separate file.\n",
        "\n",
        "Data source to this experiment : http://archive.ics.uci.edu/ml/datasets/Twenty+Newsgroups"
      ]
    },
    {
      "cell_type": "markdown",
      "metadata": {
        "id": "SZUjWvk_-EKk"
      },
      "source": [
        "#### Importing required packages"
      ]
    },
    {
      "cell_type": "code",
      "metadata": {
        "id": "lkmPNGdN-EKn"
      },
      "source": [
        "import numpy as np \n",
        "import pandas as pd \n",
        "import matplotlib.pyplot as plt\n",
        "### importing pytorch packages\n",
        "import torch\n",
        "from torch.utils.data import Dataset\n",
        "from torch.autograd import Variable\n",
        "from torch.utils.data import DataLoader\n",
        "from torch import nn\n",
        "import torch.autograd as autograd\n",
        "from sklearn import manifold"
      ],
      "execution_count": null,
      "outputs": []
    },
    {
      "cell_type": "code",
      "metadata": {
        "id": "zu5ZDEBVGXAt",
        "colab": {
          "base_uri": "https://localhost:8080/",
          "height": 108
        },
        "outputId": "384db0e3-4dcf-4bbf-d683-5f11b82108be"
      },
      "source": [
        "ls"
      ],
      "execution_count": null,
      "outputs": [
        {
          "output_type": "stream",
          "text": [
            "028_Autoencoder_Word2vec_text_C.ipynb\n",
            "AIML_DS_GOOGLENEWS-VECTORS-NEGATIVE-300_STD.bin\n",
            "AIML_DS_NEWSGROUPS_PICKELFILE.pkl\n",
            "AIML_DS_NEWSGROUPS_PICKELFILE.pkl.zip\n",
            "\u001b[0m\u001b[01;34msample_data\u001b[0m/\n"
          ],
          "name": "stdout"
        }
      ]
    },
    {
      "cell_type": "markdown",
      "metadata": {
        "id": "BQU75ihE-EKs"
      },
      "source": [
        "#### Loading the dataset"
      ]
    },
    {
      "cell_type": "code",
      "metadata": {
        "id": "SNAgKctO-EKt",
        "colab": {
          "base_uri": "https://localhost:8080/",
          "height": 55
        },
        "outputId": "ef0d1feb-7c0e-4ca4-d823-a5c20a5f310c"
      },
      "source": [
        "import pickle\n",
        "dataset = pickle.load(open(\"AIML_DS_NEWSGROUPS_PICKELFILE.pkl\",'rb'))\n",
        "print(dataset.keys())"
      ],
      "execution_count": null,
      "outputs": [
        {
          "output_type": "stream",
          "text": [
            "dict_keys(['talk.politics.mideast', 'rec.autos', 'comp.sys.mac.hardware', 'alt.atheism', 'rec.sport.baseball', 'comp.os.ms-windows.misc', 'rec.sport.hockey', 'sci.crypt', 'sci.med', 'talk.politics.misc', 'rec.motorcycles', 'comp.windows.x', 'comp.graphics', 'comp.sys.ibm.pc.hardware', 'sci.electronics', 'talk.politics.guns', 'sci.space', 'soc.religion.christian', 'misc.forsale', 'talk.religion.misc'])\n"
          ],
          "name": "stdout"
        }
      ]
    },
    {
      "cell_type": "code",
      "metadata": {
        "id": "b7Q4P0BB-EK3"
      },
      "source": [
        "train_set = {}\n",
        "test_set = {}\n",
        "\n",
        "# Clean dataset for text encoding issues :- Very useful when dealing with non-unicode characters\n",
        "for key in dataset:\n",
        "    dataset[key] = [[i.decode('utf-8', errors='replace').lower() for i in f] for f in dataset[key]]\n",
        "    \n",
        "# Break dataset into 95-5 split for training and testing\n",
        "n_train = 0\n",
        "n_test = 0\n",
        "for k in dataset:\n",
        "    split = int(0.95*len(dataset[k]))\n",
        "    train_set[k] = dataset[k][0:split]\n",
        "    test_set[k] = dataset[k][split:-1]\n",
        "    n_train += len(train_set[k])\n",
        "    n_test += len(test_set[k])"
      ],
      "execution_count": null,
      "outputs": []
    },
    {
      "cell_type": "markdown",
      "metadata": {
        "id": "gg4kcLVI-ELA"
      },
      "source": [
        "#### Calculating the frequency of the words"
      ]
    },
    {
      "cell_type": "code",
      "metadata": {
        "id": "3tmv8TOH-ELB"
      },
      "source": [
        "import collections\n",
        "import re\n",
        "import operator\n",
        "frequency = collections.defaultdict(int)\n",
        "    \n",
        "for key in train_set:\n",
        "    for f in train_set[key]:\n",
        "        \n",
        "        # Find all words which consist only of capital and lowercase characters and are between length of 2-9.\n",
        "        # We ignore all special characters such as !.$ and words containing numbers\n",
        "        words = re.findall(r'(\\b[A-Za-z][a-z]{2,9}\\b)', ' '.join(f))\n",
        "    \n",
        "        for word in words:\n",
        "            frequency[word] += 1\n",
        "\n",
        "sorted_words = sorted(frequency.items(), key=operator.itemgetter(1), reverse=True)"
      ],
      "execution_count": null,
      "outputs": []
    },
    {
      "cell_type": "markdown",
      "metadata": {
        "id": "iIQA8ipd-ELF"
      },
      "source": [
        "#### Preprocessing the data"
      ]
    },
    {
      "cell_type": "code",
      "metadata": {
        "id": "zPFI5rVV-ELG",
        "colab": {
          "base_uri": "https://localhost:8080/",
          "height": 54
        },
        "outputId": "b4d41475-3d68-4ee5-d3d0-afd49f00a165"
      },
      "source": [
        "valid_words = collections.defaultdict(int)\n",
        "\n",
        "print('Number of words before preprocessing:', len(sorted_words))\n",
        "\n",
        "# Ignore the 25 most frequent words, and the words which appear less than 100 times\n",
        "ignore_most_frequent = 25\n",
        "freq_thresh = 100\n",
        "feature_number = 0\n",
        "for word, word_frequency in sorted_words[ignore_most_frequent:]:\n",
        "    if word_frequency > freq_thresh:\n",
        "        valid_words[word] = feature_number\n",
        "        feature_number += 1\n",
        "        \n",
        "print('Number of words after preprocessing:', len(valid_words))\n",
        "\n",
        "word_vector_size = len(valid_words)"
      ],
      "execution_count": null,
      "outputs": [
        {
          "output_type": "stream",
          "text": [
            "Number of words before preprocessing: 89599\n",
            "Number of words after preprocessing: 4096\n"
          ],
          "name": "stdout"
        }
      ]
    },
    {
      "cell_type": "markdown",
      "metadata": {
        "id": "Z5C924mf-EK6"
      },
      "source": [
        "#### Loading the predefined word2vec file"
      ]
    },
    {
      "cell_type": "code",
      "metadata": {
        "id": "q-Brrxn8-EK7",
        "colab": {
          "base_uri": "https://localhost:8080/",
          "height": 74
        },
        "outputId": "4e8c351c-337c-4dc9-8f1a-d23682dd026d"
      },
      "source": [
        "import gensim\n",
        "model = gensim.models.KeyedVectors.load_word2vec_format('AIML_DS_GOOGLENEWS-VECTORS-NEGATIVE-300_STD.bin', binary=True, limit=500000)"
      ],
      "execution_count": null,
      "outputs": [
        {
          "output_type": "stream",
          "text": [
            "/usr/local/lib/python3.6/dist-packages/smart_open/smart_open_lib.py:253: UserWarning: This function is deprecated, use smart_open.open instead. See the migration notes for details: https://github.com/RaRe-Technologies/smart_open/blob/master/README.rst#migrating-to-the-new-open-function\n",
            "  'See the migration notes for details: %s' % _MIGRATION_NOTES_URL\n"
          ],
          "name": "stderr"
        }
      ]
    },
    {
      "cell_type": "markdown",
      "metadata": {
        "id": "werGndNl-ELM"
      },
      "source": [
        "#### Function for word2vec"
      ]
    },
    {
      "cell_type": "code",
      "metadata": {
        "id": "Tu5vwIaP-ELN"
      },
      "source": [
        "import numpy as np\n",
        "\n",
        "word2vec_vector_size = 300\n",
        "\n",
        "'''\n",
        " This method converts documents to word vectors. It first checks if the word is valid according to our initial frequency \n",
        " threshold. Next, if it is, we add the precomputed word vectors together. If the word is valid, but we do not have a valid \n",
        " vector to represent the word, we add a random gaussian noise instead. Since we do not want to induce new noise each time,\n",
        " we store the same noise vector for training and test time in substitute_word_vecs variable.\n",
        "'''\n",
        "def convert_to_w2v(dataset, number_of_documents, substitute_word_vecs={}):\n",
        "    d = {}\n",
        "    labels = np.zeros((number_of_documents, 1))\n",
        "    w2v_rep = np.zeros((number_of_documents, word2vec_vector_size))\n",
        "    \n",
        "    # Iterate over the dataset and split into words\n",
        "    i = 0\n",
        "    for label, class_name in enumerate(dataset):\n",
        "        for f in dataset[class_name]:\n",
        "            text = ' '.join(f).split(' ')\n",
        "            valid_count = 1\n",
        "            for word in text:\n",
        "                \n",
        "                # Check if word is valid or not according to original dataset pruning\n",
        "                if word in valid_words:\n",
        "                    try:\n",
        "                        w2v_rep[i] += model[word]\n",
        "                        d[word] = model[word]\n",
        "                    except:\n",
        "                        '''The word isn't in our pretrained word-vectors, hence we add a random gaussian noise\n",
        "                         to account for this. We store the random vector we assigned to the word, and reuse \n",
        "                         the same vector during test time to ensure consistency.'''\n",
        "                        \n",
        "                        if word not in substitute_word_vecs.keys():\n",
        "                            substitute_word_vecs[word] = np.random.normal(-0.25, 0.25, word2vec_vector_size)\n",
        "                            \n",
        "                        w2v_rep[i] += substitute_word_vecs[word]\n",
        "                    \n",
        "                    valid_count += 1\n",
        "            \n",
        "            # Average\n",
        "            w2v_rep[i] = w2v_rep[i] / valid_count\n",
        "            \n",
        "            # Save label\n",
        "            labels[i] = label\n",
        "            \n",
        "            i += 1\n",
        "\n",
        "    return d, w2v_rep, labels, substitute_word_vecs\n"
      ],
      "execution_count": null,
      "outputs": []
    },
    {
      "cell_type": "markdown",
      "metadata": {
        "id": "sHA2QArx-ELR"
      },
      "source": [
        "#### Convert the train and test datasets into their word2vec representations"
      ]
    },
    {
      "cell_type": "code",
      "metadata": {
        "id": "OfC2CyID-ELT"
      },
      "source": [
        "d_train,train_w2v_set, train_w2v_labels, substitute_word_vecs = convert_to_w2v(train_set, n_train)\n",
        "d_test,test_w2v_set, test_w2v_labels,_ = convert_to_w2v(test_set, n_test, substitute_word_vecs)"
      ],
      "execution_count": null,
      "outputs": []
    },
    {
      "cell_type": "code",
      "metadata": {
        "id": "ocL1vHQ_-ELX"
      },
      "source": [
        "class autoencoder(nn.Module):\n",
        "    def __init__(self):\n",
        "        super(autoencoder, self).__init__()\n",
        "        self.encoder = nn.Sequential(\n",
        "            nn.Linear(300,100),\n",
        "            nn.ReLU(True),\n",
        "            nn.Linear(100,30),\n",
        "            nn.ReLU(True))\n",
        "        self.decoder = nn.Sequential(\n",
        "            nn.Linear(30,100),\n",
        "            nn.ReLU(True),\n",
        "            nn.Linear(100,300))\n",
        "\n",
        "    def forward(self, x):\n",
        "        y = self.encoder(x)\n",
        "        z = self.decoder(y)\n",
        "        return y,z\n",
        "    \n",
        "\n",
        "\n",
        "model = autoencoder()\n",
        "criterion = nn.MSELoss()\n",
        "optimizer = torch.optim.Adam(model.parameters(), lr=0.01, weight_decay=1e-5)"
      ],
      "execution_count": null,
      "outputs": []
    },
    {
      "cell_type": "code",
      "metadata": {
        "id": "qwC-MsEAjYX_"
      },
      "source": [
        "EPOCH = 10"
      ],
      "execution_count": null,
      "outputs": []
    },
    {
      "cell_type": "code",
      "metadata": {
        "id": "9uaAhSCcjXoP",
        "colab": {
          "base_uri": "https://localhost:8080/",
          "height": 199
        },
        "outputId": "8e934f2c-77d1-469e-95c0-4f239f96b39c"
      },
      "source": [
        "for epoch in range(EPOCH):\n",
        "    for i, (word, w2v) in enumerate(d_train.items()):\n",
        "        w2v = torch.FloatTensor(np.array(w2v))\n",
        "        #b_x = Variable(w2v)                # batch x, shape (1, 300)\n",
        "        b_x = w2v\n",
        "        encoded, decoded = model(b_x)\n",
        "        loss = criterion(decoded, b_x)      # mean square error\n",
        "        \n",
        "        optimizer.zero_grad()               # clear gradients for this training step\n",
        "        loss.backward()                     # backpropagation, compute gradients\n",
        "        optimizer.step()                    # apply gradients\n",
        "    print(\"Loss:\",float(loss))"
      ],
      "execution_count": null,
      "outputs": [
        {
          "output_type": "stream",
          "text": [
            "Loss: 0.057076919823884964\n",
            "Loss: 0.05689259245991707\n",
            "Loss: 0.05709801986813545\n",
            "Loss: 0.05709708482027054\n",
            "Loss: 0.05706160143017769\n",
            "Loss: 0.05709567293524742\n",
            "Loss: 0.0571005642414093\n",
            "Loss: 0.05709826946258545\n",
            "Loss: 0.056917306035757065\n",
            "Loss: 0.05717156082391739\n"
          ],
          "name": "stdout"
        }
      ]
    },
    {
      "cell_type": "markdown",
      "metadata": {
        "id": "FhsGPDnk-ELc"
      },
      "source": [
        "We will convert training dataset first into a torch tensor, and form a differentiable Variable."
      ]
    },
    {
      "cell_type": "code",
      "metadata": {
        "id": "7NSJxx_m-ELd"
      },
      "source": [
        "## Converting an array to a tensor \n",
        "value = torch.Tensor(np.array(train_w2v_set))\n",
        "## Creating a pytorch variable\n",
        "text = value   \n",
        "## Calling the model\n",
        "encoder_values, decoder_values = model(text)"
      ],
      "execution_count": null,
      "outputs": []
    },
    {
      "cell_type": "code",
      "metadata": {
        "id": "sU0c6r0X-ELj"
      },
      "source": [
        "### Converting pytorch variable into numpy array\n",
        "encode = encoder_values.data.numpy()"
      ],
      "execution_count": null,
      "outputs": []
    },
    {
      "cell_type": "code",
      "metadata": {
        "id": "u4XknZRDO4g_",
        "colab": {
          "base_uri": "https://localhost:8080/",
          "height": 35
        },
        "outputId": "2808699b-3ee7-4a62-b532-c8dacaef7ab7"
      },
      "source": [
        "encode.shape"
      ],
      "execution_count": null,
      "outputs": [
        {
          "output_type": "execute_result",
          "data": {
            "text/plain": [
              "(17878, 30)"
            ]
          },
          "metadata": {
            "tags": []
          },
          "execution_count": 21
        }
      ]
    },
    {
      "cell_type": "code",
      "metadata": {
        "id": "h0_BD-Vx-ELm"
      },
      "source": [
        "### Storing all the words in words list\n",
        "words =[]\n",
        "for key in substitute_word_vecs:\n",
        "    words.append(key)"
      ],
      "execution_count": null,
      "outputs": []
    },
    {
      "cell_type": "markdown",
      "metadata": {
        "id": "2M6IlvFF-ELt"
      },
      "source": [
        "#### Applying T-SNE\n",
        "We will take first 50 values to visualize the data."
      ]
    },
    {
      "cell_type": "code",
      "metadata": {
        "id": "iHGvVyJ4-ELu"
      },
      "source": [
        "X = encode[:50]\n",
        "tsne_data = manifold.TSNE(n_components=2).fit_transform(X)"
      ],
      "execution_count": null,
      "outputs": []
    },
    {
      "cell_type": "code",
      "metadata": {
        "id": "njYYTrSK-ELz",
        "colab": {
          "base_uri": "https://localhost:8080/",
          "height": 265
        },
        "outputId": "10aed7d0-4d72-47e0-c523-bb2c3543cecb"
      },
      "source": [
        "plt.scatter(tsne_data[:,0],tsne_data[:,1])\n",
        "for i in range(len(words[:50]) - 1):\n",
        "    plt.annotate(words[i], xy = (tsne_data[i][0],tsne_data[i][1]))\n",
        "plt.show()"
      ],
      "execution_count": null,
      "outputs": [
        {
          "output_type": "display_data",
          "data": {
            "image/png": "[encoded data removed]",
            "text/plain": [
              "<Figure size 432x288 with 1 Axes>"
            ]
          },
          "metadata": {
            "tags": [],
            "needs_background": "light"
          }
        }
      ]
    }
  ]
}