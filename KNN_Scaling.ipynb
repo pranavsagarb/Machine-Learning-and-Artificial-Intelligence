{
  "nbformat": 4,
  "nbformat_minor": 0,
  "metadata": {
    "colab": {
      "provenance": []
    },
    "language_info": {
      "codemirror_mode": {
        "name": "ipython",
        "version": 3
      },
      "file_extension": ".py",
      "mimetype": "text/x-python",
      "name": "python",
      "nbconvert_exporter": "python",
      "pygments_lexer": "ipython3",
      "version": "3.5.2"
    },
    "kernelspec": {
      "display_name": "Python 3",
      "language": "python",
      "name": "python3"
    }
  },
  "cells": [
    {
      "cell_type": "markdown",
      "metadata": {
        "id": "_o7j8P4uaGwF"
      },
      "source": [
        "At the end of the experiment:\n",
        "* Classify fruits data using KNN"
      ]
    },
    {
      "cell_type": "markdown",
      "metadata": {
        "id": "yHmPVwT2agjw"
      },
      "source": [
        "#### Importing the required packages"
      ]
    },
    {
      "cell_type": "code",
      "metadata": {
        "id": "JsGDWqxJp5Ga"
      },
      "source": [
        "import pandas as pd\n",
        "import matplotlib.pyplot as plt"
      ],
      "execution_count": null,
      "outputs": []
    },
    {
      "cell_type": "code",
      "metadata": {
        "id": "j6Rq_Scnp5GR"
      },
      "source": [
        "def labels_converter(s):\n",
        "    s = s.lower()\n",
        "    if s == \"orange\":\n",
        "        return 0\n",
        "    if s == \"apple\":\n",
        "        return 1\n",
        "    return -1"
      ],
      "execution_count": null,
      "outputs": []
    },
    {
      "cell_type": "markdown",
      "metadata": {
        "id": "2DflERrXalVt"
      },
      "source": [
        "#### Loading the data"
      ]
    },
    {
      "cell_type": "code",
      "metadata": {
        "id": "j7sqf1PPp5Gh"
      },
      "source": [
        "data = pd.read_csv(\"fruits_weight_sphercity.csv\",converters={\"labels\":labels_converter})"
      ],
      "execution_count": null,
      "outputs": []
    },
    {
      "cell_type": "code",
      "metadata": {
        "id": "YpSJjyrXp5Gm",
        "outputId": "e14611b6-fc90-4ea3-8f43-2c338fc92ef3",
        "colab": {
          "base_uri": "https://localhost:8080/",
          "height": 204
        }
      },
      "source": [
        "data.head()"
      ],
      "execution_count": null,
      "outputs": [
        {
          "output_type": "execute_result",
          "data": {
            "text/html": [
              "<div>\n",
              "<style scoped>\n",
              "    .dataframe tbody tr th:only-of-type {\n",
              "        vertical-align: middle;\n",
              "    }\n",
              "\n",
              "    .dataframe tbody tr th {\n",
              "        vertical-align: top;\n",
              "    }\n",
              "\n",
              "    .dataframe thead th {\n",
              "        text-align: right;\n",
              "    }\n",
              "</style>\n",
              "<table border=\"1\" class=\"dataframe\">\n",
              "  <thead>\n",
              "    <tr style=\"text-align: right;\">\n",
              "      <th></th>\n",
              "      <th>Color</th>\n",
              "      <th>Weight</th>\n",
              "      <th>Sphericity</th>\n",
              "      <th>labels</th>\n",
              "    </tr>\n",
              "  </thead>\n",
              "  <tbody>\n",
              "    <tr>\n",
              "      <th>0</th>\n",
              "      <td>Red</td>\n",
              "      <td>200</td>\n",
              "      <td>0.40</td>\n",
              "      <td>1</td>\n",
              "    </tr>\n",
              "    <tr>\n",
              "      <th>1</th>\n",
              "      <td>Orange</td>\n",
              "      <td>320</td>\n",
              "      <td>1.00</td>\n",
              "      <td>0</td>\n",
              "    </tr>\n",
              "    <tr>\n",
              "      <th>2</th>\n",
              "      <td>Orange</td>\n",
              "      <td>310</td>\n",
              "      <td>0.95</td>\n",
              "      <td>0</td>\n",
              "    </tr>\n",
              "    <tr>\n",
              "      <th>3</th>\n",
              "      <td>Red</td>\n",
              "      <td>220</td>\n",
              "      <td>0.45</td>\n",
              "      <td>1</td>\n",
              "    </tr>\n",
              "    <tr>\n",
              "      <th>4</th>\n",
              "      <td>Red</td>\n",
              "      <td>230</td>\n",
              "      <td>0.50</td>\n",
              "      <td>1</td>\n",
              "    </tr>\n",
              "  </tbody>\n",
              "</table>\n",
              "</div>"
            ],
            "text/plain": [
              "    Color  Weight  Sphericity  labels\n",
              "0     Red     200        0.40       1\n",
              "1  Orange     320        1.00       0\n",
              "2  Orange     310        0.95       0\n",
              "3     Red     220        0.45       1\n",
              "4     Red     230        0.50       1"
            ]
          },
          "metadata": {
            "tags": []
          },
          "execution_count": 28
        }
      ]
    },
    {
      "cell_type": "code",
      "metadata": {
        "id": "T3ri3w-P-Zei",
        "outputId": "cd5ca0f4-a243-4a99-b442-1f934a216b0a",
        "colab": {
          "base_uri": "https://localhost:8080/",
          "height": 204
        }
      },
      "source": [
        "data1 = data[0:60:3] # Considering only 20 samples\n",
        "#data1= data\n",
        "data1.head()"
      ],
      "execution_count": null,
      "outputs": [
        {
          "output_type": "execute_result",
          "data": {
            "text/html": [
              "<div>\n",
              "<style scoped>\n",
              "    .dataframe tbody tr th:only-of-type {\n",
              "        vertical-align: middle;\n",
              "    }\n",
              "\n",
              "    .dataframe tbody tr th {\n",
              "        vertical-align: top;\n",
              "    }\n",
              "\n",
              "    .dataframe thead th {\n",
              "        text-align: right;\n",
              "    }\n",
              "</style>\n",
              "<table border=\"1\" class=\"dataframe\">\n",
              "  <thead>\n",
              "    <tr style=\"text-align: right;\">\n",
              "      <th></th>\n",
              "      <th>Color</th>\n",
              "      <th>Weight</th>\n",
              "      <th>Sphericity</th>\n",
              "      <th>labels</th>\n",
              "    </tr>\n",
              "  </thead>\n",
              "  <tbody>\n",
              "    <tr>\n",
              "      <th>0</th>\n",
              "      <td>Red</td>\n",
              "      <td>200</td>\n",
              "      <td>0.40</td>\n",
              "      <td>1</td>\n",
              "    </tr>\n",
              "    <tr>\n",
              "      <th>3</th>\n",
              "      <td>Red</td>\n",
              "      <td>220</td>\n",
              "      <td>0.45</td>\n",
              "      <td>1</td>\n",
              "    </tr>\n",
              "    <tr>\n",
              "      <th>6</th>\n",
              "      <td>Red</td>\n",
              "      <td>240</td>\n",
              "      <td>0.35</td>\n",
              "      <td>1</td>\n",
              "    </tr>\n",
              "    <tr>\n",
              "      <th>9</th>\n",
              "      <td>Red</td>\n",
              "      <td>243</td>\n",
              "      <td>0.53</td>\n",
              "      <td>1</td>\n",
              "    </tr>\n",
              "    <tr>\n",
              "      <th>12</th>\n",
              "      <td>Green</td>\n",
              "      <td>259</td>\n",
              "      <td>0.42</td>\n",
              "      <td>1</td>\n",
              "    </tr>\n",
              "  </tbody>\n",
              "</table>\n",
              "</div>"
            ],
            "text/plain": [
              "    Color  Weight  Sphericity  labels\n",
              "0     Red     200        0.40       1\n",
              "3     Red     220        0.45       1\n",
              "6     Red     240        0.35       1\n",
              "9     Red     243        0.53       1\n",
              "12  Green     259        0.42       1"
            ]
          },
          "metadata": {
            "tags": []
          },
          "execution_count": 29
        }
      ]
    },
    {
      "cell_type": "markdown",
      "metadata": {
        "id": "aPCwN68VbCe_"
      },
      "source": [
        "#### Checking for length of the dataset"
      ]
    },
    {
      "cell_type": "code",
      "metadata": {
        "id": "RAX-BtAVxdQ4",
        "outputId": "ff0a741c-ff54-4140-b402-4255c74ed724",
        "colab": {
          "base_uri": "https://localhost:8080/",
          "height": 51
        }
      },
      "source": [
        "print(len(data))\n",
        "print(len(data1))"
      ],
      "execution_count": null,
      "outputs": [
        {
          "output_type": "stream",
          "text": [
            "69\n",
            "20\n"
          ],
          "name": "stdout"
        }
      ]
    },
    {
      "cell_type": "code",
      "metadata": {
        "id": "AgpKiq0DKhwM",
        "outputId": "87ec7a62-42f3-4732-b59c-c696f72e4253",
        "colab": {
          "base_uri": "https://localhost:8080/",
          "height": 153
        }
      },
      "source": [
        "train = data1 # Considering 20 samples as train set\n",
        "print(type(train))\n",
        "test = data[1:50:10] # Considering 5 samples for testing\n",
        "print(test) \n",
        "print(len(test))"
      ],
      "execution_count": null,
      "outputs": [
        {
          "output_type": "stream",
          "text": [
            "<class 'pandas.core.frame.DataFrame'>\n",
            "     Color  Weight  Sphericity  labels\n",
            "1   Orange     320        1.00       0\n",
            "11   Green     255        0.60       1\n",
            "21   Green     220        0.33       1\n",
            "31   Green     255        0.69       0\n",
            "41     Red     200        0.48       1\n",
            "5\n"
          ],
          "name": "stdout"
        }
      ]
    },
    {
      "cell_type": "code",
      "metadata": {
        "id": "XpRd2k7MmdOk"
      },
      "source": [],
      "execution_count": null,
      "outputs": []
    },
    {
      "cell_type": "markdown",
      "metadata": {
        "id": "M4ujaf0XcEkL"
      },
      "source": [
        "### Applying KNN Classifier on the data"
      ]
    },
    {
      "cell_type": "code",
      "metadata": {
        "id": "xxKqhCGwKwQC"
      },
      "source": [
        "from sklearn.neighbors import KNeighborsClassifier\n",
        "k = 3\n",
        "neigh = KNeighborsClassifier(n_neighbors=k,metric=\"euclidean\", algorithm=\"brute\")"
      ],
      "execution_count": null,
      "outputs": []
    },
    {
      "cell_type": "code",
      "metadata": {
        "id": "ZjWt42NlKxL-"
      },
      "source": [
        "traindata = train.values[:,1:3] # Converting dataframe to array"
      ],
      "execution_count": null,
      "outputs": []
    },
    {
      "cell_type": "code",
      "metadata": {
        "id": "1XK1bDD9Limo",
        "outputId": "c27b81f1-5da8-46f2-eed0-c836c405ec4e",
        "colab": {
          "base_uri": "https://localhost:8080/",
          "height": 68
        }
      },
      "source": [
        "# Training or fitting the model with the train data\n",
        "neigh.fit(traindata,train.labels)"
      ],
      "execution_count": null,
      "outputs": [
        {
          "output_type": "execute_result",
          "data": {
            "text/plain": [
              "KNeighborsClassifier(algorithm='brute', leaf_size=30, metric='euclidean',\n",
              "                     metric_params=None, n_jobs=None, n_neighbors=3, p=2,\n",
              "                     weights='uniform')"
            ]
          },
          "metadata": {
            "tags": []
          },
          "execution_count": 42
        }
      ]
    },
    {
      "cell_type": "code",
      "metadata": {
        "id": "C25Fk2TCKxI8"
      },
      "source": [
        "test1 = test.values[:,1:3] # Converting dataframe to array"
      ],
      "execution_count": null,
      "outputs": []
    },
    {
      "cell_type": "code",
      "metadata": {
        "id": "ZfJ5q6DzK_e8"
      },
      "source": [
        "# Testing the trained model\n",
        "pred1 = neigh.predict(test1)"
      ],
      "execution_count": null,
      "outputs": []
    },
    {
      "cell_type": "code",
      "metadata": {
        "id": "rCTiZxd8LFF1",
        "outputId": "089109b5-0c8a-4f9e-a49e-7c143b68a6e6",
        "colab": {
          "base_uri": "https://localhost:8080/",
          "height": 51
        }
      },
      "source": [
        "print(pred1,\"predictions\") #Predictions\n",
        "print(test.values[:,3],\"labels\") #labels"
      ],
      "execution_count": null,
      "outputs": [
        {
          "output_type": "stream",
          "text": [
            "[0 1 1 1 1] predictions\n",
            "[0 1 1 0 1] labels\n"
          ],
          "name": "stdout"
        }
      ]
    },
    {
      "cell_type": "code",
      "metadata": {
        "id": "J7Virt1SMBUh",
        "outputId": "53f5fce1-79b1-4348-b983-dee695465d03",
        "colab": {
          "base_uri": "https://localhost:8080/",
          "height": 472
        }
      },
      "source": [
        "plt.style.use('default')\n",
        "oranges = train[train.labels == 0]\n",
        "apples = train[train.labels == 1]\n",
        "plt.scatter(oranges.Sphericity, oranges.Weight,color=\"green\",marker=\"o\") # Training data\n",
        "plt.scatter(apples.Sphericity, apples.Weight,color=\"red\",marker=\"o\") # Training data\n",
        "oranges = test[test.labels == 0]  \n",
        "apples = test[test.labels == 1]\n",
        "plt.scatter(oranges.Sphericity, oranges.Weight,color=\"green\",marker=\"*\",s=200) # Testing data\n",
        "plt.scatter(apples.Sphericity, apples.Weight,color=\"red\",marker=\"*\",s=200) #Testing data\n",
        "plt.xlabel(\"Sperificity\")\n",
        "plt.ylabel(\"Weight\")\n",
        "plt.legend([\"Oranges\", \"Apples\"])\n",
        "plt.title(\"The train and test points before scaling\")\n",
        "plt.show()"
      ],
      "execution_count": null,
      "outputs": [
        {
          "output_type": "display_data",
          "data": {
            "image/png": "[encoded data removed]",
            "text/plain": [
              "<Figure size 640x480 with 1 Axes>"
            ]
          },
          "metadata": {
            "tags": []
          }
        }
      ]
    },
    {
      "cell_type": "code",
      "metadata": {
        "id": "P6OfD2A6c6VI",
        "outputId": "c23596e0-5068-4782-e6c7-8167149b0fae",
        "colab": {
          "base_uri": "https://localhost:8080/",
          "height": 669
        }
      },
      "source": [
        "train"
      ],
      "execution_count": null,
      "outputs": [
        {
          "output_type": "execute_result",
          "data": {
            "text/html": [
              "<div>\n",
              "<style scoped>\n",
              "    .dataframe tbody tr th:only-of-type {\n",
              "        vertical-align: middle;\n",
              "    }\n",
              "\n",
              "    .dataframe tbody tr th {\n",
              "        vertical-align: top;\n",
              "    }\n",
              "\n",
              "    .dataframe thead th {\n",
              "        text-align: right;\n",
              "    }\n",
              "</style>\n",
              "<table border=\"1\" class=\"dataframe\">\n",
              "  <thead>\n",
              "    <tr style=\"text-align: right;\">\n",
              "      <th></th>\n",
              "      <th>Color</th>\n",
              "      <th>Weight</th>\n",
              "      <th>Sphericity</th>\n",
              "      <th>labels</th>\n",
              "    </tr>\n",
              "  </thead>\n",
              "  <tbody>\n",
              "    <tr>\n",
              "      <th>0</th>\n",
              "      <td>Red</td>\n",
              "      <td>200</td>\n",
              "      <td>0.400</td>\n",
              "      <td>1</td>\n",
              "    </tr>\n",
              "    <tr>\n",
              "      <th>3</th>\n",
              "      <td>Red</td>\n",
              "      <td>220</td>\n",
              "      <td>0.450</td>\n",
              "      <td>1</td>\n",
              "    </tr>\n",
              "    <tr>\n",
              "      <th>6</th>\n",
              "      <td>Red</td>\n",
              "      <td>240</td>\n",
              "      <td>0.350</td>\n",
              "      <td>1</td>\n",
              "    </tr>\n",
              "    <tr>\n",
              "      <th>9</th>\n",
              "      <td>Red</td>\n",
              "      <td>243</td>\n",
              "      <td>0.530</td>\n",
              "      <td>1</td>\n",
              "    </tr>\n",
              "    <tr>\n",
              "      <th>12</th>\n",
              "      <td>Green</td>\n",
              "      <td>259</td>\n",
              "      <td>0.420</td>\n",
              "      <td>1</td>\n",
              "    </tr>\n",
              "    <tr>\n",
              "      <th>15</th>\n",
              "      <td>Greenish yellow</td>\n",
              "      <td>260</td>\n",
              "      <td>0.750</td>\n",
              "      <td>0</td>\n",
              "    </tr>\n",
              "    <tr>\n",
              "      <th>18</th>\n",
              "      <td>Green</td>\n",
              "      <td>266</td>\n",
              "      <td>0.680</td>\n",
              "      <td>0</td>\n",
              "    </tr>\n",
              "    <tr>\n",
              "      <th>21</th>\n",
              "      <td>Green</td>\n",
              "      <td>220</td>\n",
              "      <td>0.330</td>\n",
              "      <td>1</td>\n",
              "    </tr>\n",
              "    <tr>\n",
              "      <th>24</th>\n",
              "      <td>Red</td>\n",
              "      <td>210</td>\n",
              "      <td>0.390</td>\n",
              "      <td>1</td>\n",
              "    </tr>\n",
              "    <tr>\n",
              "      <th>27</th>\n",
              "      <td>Reddish yellow</td>\n",
              "      <td>270</td>\n",
              "      <td>0.333</td>\n",
              "      <td>1</td>\n",
              "    </tr>\n",
              "    <tr>\n",
              "      <th>30</th>\n",
              "      <td>Green</td>\n",
              "      <td>269</td>\n",
              "      <td>0.670</td>\n",
              "      <td>0</td>\n",
              "    </tr>\n",
              "    <tr>\n",
              "      <th>33</th>\n",
              "      <td>Green</td>\n",
              "      <td>271</td>\n",
              "      <td>0.550</td>\n",
              "      <td>1</td>\n",
              "    </tr>\n",
              "    <tr>\n",
              "      <th>36</th>\n",
              "      <td>Green</td>\n",
              "      <td>270</td>\n",
              "      <td>0.370</td>\n",
              "      <td>1</td>\n",
              "    </tr>\n",
              "    <tr>\n",
              "      <th>39</th>\n",
              "      <td>Red</td>\n",
              "      <td>200</td>\n",
              "      <td>0.470</td>\n",
              "      <td>1</td>\n",
              "    </tr>\n",
              "    <tr>\n",
              "      <th>42</th>\n",
              "      <td>Red</td>\n",
              "      <td>210</td>\n",
              "      <td>0.420</td>\n",
              "      <td>1</td>\n",
              "    </tr>\n",
              "    <tr>\n",
              "      <th>45</th>\n",
              "      <td>Orange</td>\n",
              "      <td>348</td>\n",
              "      <td>0.950</td>\n",
              "      <td>0</td>\n",
              "    </tr>\n",
              "    <tr>\n",
              "      <th>48</th>\n",
              "      <td>Red</td>\n",
              "      <td>240</td>\n",
              "      <td>0.500</td>\n",
              "      <td>1</td>\n",
              "    </tr>\n",
              "    <tr>\n",
              "      <th>51</th>\n",
              "      <td>Red</td>\n",
              "      <td>260</td>\n",
              "      <td>0.500</td>\n",
              "      <td>1</td>\n",
              "    </tr>\n",
              "    <tr>\n",
              "      <th>54</th>\n",
              "      <td>Red</td>\n",
              "      <td>320</td>\n",
              "      <td>0.800</td>\n",
              "      <td>0</td>\n",
              "    </tr>\n",
              "    <tr>\n",
              "      <th>57</th>\n",
              "      <td>Reddish yellow</td>\n",
              "      <td>201</td>\n",
              "      <td>0.700</td>\n",
              "      <td>1</td>\n",
              "    </tr>\n",
              "  </tbody>\n",
              "</table>\n",
              "</div>"
            ],
            "text/plain": [
              "              Color  Weight  Sphericity  labels\n",
              "0               Red     200       0.400       1\n",
              "3               Red     220       0.450       1\n",
              "6               Red     240       0.350       1\n",
              "9               Red     243       0.530       1\n",
              "12            Green     259       0.420       1\n",
              "15  Greenish yellow     260       0.750       0\n",
              "18            Green     266       0.680       0\n",
              "21            Green     220       0.330       1\n",
              "24              Red     210       0.390       1\n",
              "27   Reddish yellow     270       0.333       1\n",
              "30            Green     269       0.670       0\n",
              "33            Green     271       0.550       1\n",
              "36            Green     270       0.370       1\n",
              "39              Red     200       0.470       1\n",
              "42              Red     210       0.420       1\n",
              "45           Orange     348       0.950       0\n",
              "48              Red     240       0.500       1\n",
              "51              Red     260       0.500       1\n",
              "54              Red     320       0.800       0\n",
              "57   Reddish yellow     201       0.700       1"
            ]
          },
          "metadata": {
            "tags": []
          },
          "execution_count": 47
        }
      ]
    },
    {
      "cell_type": "code",
      "metadata": {
        "id": "HMNaQe9aMYhn",
        "outputId": "ec12707d-00da-448d-e2fb-42fac8c34e4f",
        "colab": {
          "base_uri": "https://localhost:8080/",
          "height": 102
        }
      },
      "source": [
        "import numpy as np\n",
        "pred2 = np.column_stack((test1,pred1.T))\n",
        "print(pred2)"
      ],
      "execution_count": null,
      "outputs": [
        {
          "output_type": "stream",
          "text": [
            "[[320 1.0 0]\n",
            " [255 0.6 1]\n",
            " [220 0.33 1]\n",
            " [255 0.69 1]\n",
            " [200 0.48 1]]\n"
          ],
          "name": "stdout"
        }
      ]
    },
    {
      "cell_type": "code",
      "metadata": {
        "id": "RXhPA104MaZh",
        "outputId": "41624f82-d56f-4847-9174-bc57585b5c63",
        "colab": {
          "base_uri": "https://localhost:8080/",
          "height": 472
        }
      },
      "source": [
        "plt.style.use('default')\n",
        "oranges = train[train.labels == 0]\n",
        "apples = train[train.labels == 1]\n",
        "oranges1 = pred2[pred2[:,2]==0]\n",
        "apples1 = pred2[pred2[:,2]==1]\n",
        "plt.scatter(oranges.Sphericity, oranges.Weight,color=\"green\",marker=\"o\")\n",
        "plt.scatter(apples.Sphericity, apples.Weight,color=\"red\",marker=\"o\")\n",
        "plt.scatter(oranges1[:,0], oranges1[:,1], color=\"green\",marker=\"*\",s=200)\n",
        "plt.scatter(apples1[:,0], apples1[:,1], color=\"red\",marker=\"*\",s=200)\n",
        "plt.xlabel(\"Sperificity\")\n",
        "plt.ylabel(\"Weight\")\n",
        "plt.legend([\"Oranges\",\"Apples\"])\n",
        "plt.title(\"Predictions before scaling\")\n",
        "plt.show()"
      ],
      "execution_count": null,
      "outputs": [
        {
          "output_type": "display_data",
          "data": {
            "image/png": "[encoded data removed]",
            "text/plain": [
              "<Figure size 640x480 with 1 Axes>"
            ]
          },
          "metadata": {
            "tags": []
          }
        }
      ]
    },
    {
      "cell_type": "markdown",
      "metadata": {
        "id": "1388cKOqMgAY"
      },
      "source": [
        "## After Scaling the data"
      ]
    },
    {
      "cell_type": "code",
      "metadata": {
        "id": "PmsKSruAMj7W"
      },
      "source": [
        "from sklearn.preprocessing import MinMaxScaler\n",
        "scaler = MinMaxScaler()"
      ],
      "execution_count": null,
      "outputs": []
    },
    {
      "cell_type": "code",
      "metadata": {
        "id": "PSUpcm4_M4Ow",
        "outputId": "363b86b8-8e75-4788-9666-1f94ae383af4",
        "colab": {
          "base_uri": "https://localhost:8080/",
          "height": 204
        }
      },
      "source": [
        "data.head()"
      ],
      "execution_count": null,
      "outputs": [
        {
          "output_type": "execute_result",
          "data": {
            "text/html": [
              "<div>\n",
              "<style scoped>\n",
              "    .dataframe tbody tr th:only-of-type {\n",
              "        vertical-align: middle;\n",
              "    }\n",
              "\n",
              "    .dataframe tbody tr th {\n",
              "        vertical-align: top;\n",
              "    }\n",
              "\n",
              "    .dataframe thead th {\n",
              "        text-align: right;\n",
              "    }\n",
              "</style>\n",
              "<table border=\"1\" class=\"dataframe\">\n",
              "  <thead>\n",
              "    <tr style=\"text-align: right;\">\n",
              "      <th></th>\n",
              "      <th>Color</th>\n",
              "      <th>Weight</th>\n",
              "      <th>Sphericity</th>\n",
              "      <th>labels</th>\n",
              "    </tr>\n",
              "  </thead>\n",
              "  <tbody>\n",
              "    <tr>\n",
              "      <th>0</th>\n",
              "      <td>Red</td>\n",
              "      <td>200</td>\n",
              "      <td>0.40</td>\n",
              "      <td>1</td>\n",
              "    </tr>\n",
              "    <tr>\n",
              "      <th>1</th>\n",
              "      <td>Orange</td>\n",
              "      <td>320</td>\n",
              "      <td>1.00</td>\n",
              "      <td>0</td>\n",
              "    </tr>\n",
              "    <tr>\n",
              "      <th>2</th>\n",
              "      <td>Orange</td>\n",
              "      <td>310</td>\n",
              "      <td>0.95</td>\n",
              "      <td>0</td>\n",
              "    </tr>\n",
              "    <tr>\n",
              "      <th>3</th>\n",
              "      <td>Red</td>\n",
              "      <td>220</td>\n",
              "      <td>0.45</td>\n",
              "      <td>1</td>\n",
              "    </tr>\n",
              "    <tr>\n",
              "      <th>4</th>\n",
              "      <td>Red</td>\n",
              "      <td>230</td>\n",
              "      <td>0.50</td>\n",
              "      <td>1</td>\n",
              "    </tr>\n",
              "  </tbody>\n",
              "</table>\n",
              "</div>"
            ],
            "text/plain": [
              "    Color  Weight  Sphericity  labels\n",
              "0     Red     200        0.40       1\n",
              "1  Orange     320        1.00       0\n",
              "2  Orange     310        0.95       0\n",
              "3     Red     220        0.45       1\n",
              "4     Red     230        0.50       1"
            ]
          },
          "metadata": {
            "tags": []
          },
          "execution_count": 51
        }
      ]
    },
    {
      "cell_type": "code",
      "metadata": {
        "id": "1Z-DQzldMkAF"
      },
      "source": [
        "data[['Sphericity', 'Weight']] = scaler.fit_transform(data[['Sphericity', 'Weight']])"
      ],
      "execution_count": null,
      "outputs": []
    },
    {
      "cell_type": "code",
      "metadata": {
        "id": "PrF6-wc1MkEx",
        "outputId": "7a4a75bf-60a9-4cd8-9461-59c875aecfad",
        "colab": {
          "base_uri": "https://localhost:8080/",
          "height": 204
        }
      },
      "source": [
        "data.head()"
      ],
      "execution_count": null,
      "outputs": [
        {
          "output_type": "execute_result",
          "data": {
            "text/html": [
              "<div>\n",
              "<style scoped>\n",
              "    .dataframe tbody tr th:only-of-type {\n",
              "        vertical-align: middle;\n",
              "    }\n",
              "\n",
              "    .dataframe tbody tr th {\n",
              "        vertical-align: top;\n",
              "    }\n",
              "\n",
              "    .dataframe thead th {\n",
              "        text-align: right;\n",
              "    }\n",
              "</style>\n",
              "<table border=\"1\" class=\"dataframe\">\n",
              "  <thead>\n",
              "    <tr style=\"text-align: right;\">\n",
              "      <th></th>\n",
              "      <th>Color</th>\n",
              "      <th>Weight</th>\n",
              "      <th>Sphericity</th>\n",
              "      <th>labels</th>\n",
              "    </tr>\n",
              "  </thead>\n",
              "  <tbody>\n",
              "    <tr>\n",
              "      <th>0</th>\n",
              "      <td>Red</td>\n",
              "      <td>0.000000</td>\n",
              "      <td>0.333333</td>\n",
              "      <td>1</td>\n",
              "    </tr>\n",
              "    <tr>\n",
              "      <th>1</th>\n",
              "      <td>Orange</td>\n",
              "      <td>0.774194</td>\n",
              "      <td>1.000000</td>\n",
              "      <td>0</td>\n",
              "    </tr>\n",
              "    <tr>\n",
              "      <th>2</th>\n",
              "      <td>Orange</td>\n",
              "      <td>0.709677</td>\n",
              "      <td>0.944444</td>\n",
              "      <td>0</td>\n",
              "    </tr>\n",
              "    <tr>\n",
              "      <th>3</th>\n",
              "      <td>Red</td>\n",
              "      <td>0.129032</td>\n",
              "      <td>0.388889</td>\n",
              "      <td>1</td>\n",
              "    </tr>\n",
              "    <tr>\n",
              "      <th>4</th>\n",
              "      <td>Red</td>\n",
              "      <td>0.193548</td>\n",
              "      <td>0.444444</td>\n",
              "      <td>1</td>\n",
              "    </tr>\n",
              "  </tbody>\n",
              "</table>\n",
              "</div>"
            ],
            "text/plain": [
              "    Color    Weight  Sphericity  labels\n",
              "0     Red  0.000000    0.333333       1\n",
              "1  Orange  0.774194    1.000000       0\n",
              "2  Orange  0.709677    0.944444       0\n",
              "3     Red  0.129032    0.388889       1\n",
              "4     Red  0.193548    0.444444       1"
            ]
          },
          "metadata": {
            "tags": []
          },
          "execution_count": 53
        }
      ]
    },
    {
      "cell_type": "markdown",
      "metadata": {
        "id": "5_9PtiXGjxaJ"
      },
      "source": [
        "### Taking the data samples for training after the interval of  3"
      ]
    },
    {
      "cell_type": "code",
      "metadata": {
        "id": "io_zmoo0NKja",
        "outputId": "867ef1b6-4b69-4ed0-ca72-212687957811",
        "colab": {
          "base_uri": "https://localhost:8080/",
          "height": 374
        }
      },
      "source": [
        "train = data[0:60:3]\n",
        "print(train)"
      ],
      "execution_count": null,
      "outputs": [
        {
          "output_type": "stream",
          "text": [
            "              Color    Weight  Sphericity  labels\n",
            "0               Red  0.000000    0.333333       1\n",
            "3               Red  0.129032    0.388889       1\n",
            "6               Red  0.258065    0.277778       1\n",
            "9               Red  0.277419    0.477778       1\n",
            "12            Green  0.380645    0.355556       1\n",
            "15  Greenish yellow  0.387097    0.722222       0\n",
            "18            Green  0.425806    0.644444       0\n",
            "21            Green  0.129032    0.255556       1\n",
            "24              Red  0.064516    0.322222       1\n",
            "27   Reddish yellow  0.451613    0.258889       1\n",
            "30            Green  0.445161    0.633333       0\n",
            "33            Green  0.458065    0.500000       1\n",
            "36            Green  0.451613    0.300000       1\n",
            "39              Red  0.000000    0.411111       1\n",
            "42              Red  0.064516    0.355556       1\n",
            "45           Orange  0.954839    0.944444       0\n",
            "48              Red  0.258065    0.444444       1\n",
            "51              Red  0.387097    0.444444       1\n",
            "54              Red  0.774194    0.777778       0\n",
            "57   Reddish yellow  0.006452    0.666667       1\n"
          ],
          "name": "stdout"
        }
      ]
    },
    {
      "cell_type": "code",
      "metadata": {
        "id": "yrpDVtTPNKoV",
        "outputId": "960d88ac-1097-4e03-f080-c32da393c764",
        "colab": {
          "base_uri": "https://localhost:8080/",
          "height": 136
        }
      },
      "source": [
        "#test = data.iloc[[5,15,31,49,57]]\n",
        "test = data[1:50:10]\n",
        "print(test)\n",
        "#print(train)\n",
        "print(len(test))"
      ],
      "execution_count": null,
      "outputs": [
        {
          "output_type": "stream",
          "text": [
            "     Color    Weight  Sphericity  labels\n",
            "1   Orange  0.774194    1.000000       0\n",
            "11   Green  0.354839    0.555556       1\n",
            "21   Green  0.129032    0.255556       1\n",
            "31   Green  0.354839    0.655556       0\n",
            "41     Red  0.000000    0.422222       1\n",
            "5\n"
          ],
          "name": "stdout"
        }
      ]
    },
    {
      "cell_type": "markdown",
      "metadata": {
        "id": "Pf3dyoEpcodM"
      },
      "source": [
        "#### Apply KNN Classifier on the data"
      ]
    },
    {
      "cell_type": "code",
      "metadata": {
        "id": "yW-rVBrcNKtg"
      },
      "source": [
        "from sklearn.neighbors import KNeighborsClassifier\n",
        "k = 3\n",
        "neigh = KNeighborsClassifier(n_neighbors=k,metric=\"euclidean\", algorithm=\"brute\")"
      ],
      "execution_count": null,
      "outputs": []
    },
    {
      "cell_type": "code",
      "metadata": {
        "id": "o-RgMjIrNKx5"
      },
      "source": [
        "traindata = train.values[:,1:3]# Converting dataframe into array"
      ],
      "execution_count": null,
      "outputs": []
    },
    {
      "cell_type": "code",
      "metadata": {
        "id": "0YIr3MfkNK3H",
        "outputId": "b77b6ff3-7190-45cf-9451-c7bd94be8281",
        "colab": {
          "base_uri": "https://localhost:8080/",
          "height": 68
        }
      },
      "source": [
        "# Training or fitting the model with the train data\n",
        "neigh.fit(traindata,train.labels)"
      ],
      "execution_count": null,
      "outputs": [
        {
          "output_type": "execute_result",
          "data": {
            "text/plain": [
              "KNeighborsClassifier(algorithm='brute', leaf_size=30, metric='euclidean',\n",
              "                     metric_params=None, n_jobs=None, n_neighbors=3, p=2,\n",
              "                     weights='uniform')"
            ]
          },
          "metadata": {
            "tags": []
          },
          "execution_count": 58
        }
      ]
    },
    {
      "cell_type": "code",
      "metadata": {
        "id": "o-ziCHO2OEiM"
      },
      "source": [
        "test1 = test.values[:,1:3] # Converting dataframe into array"
      ],
      "execution_count": null,
      "outputs": []
    },
    {
      "cell_type": "code",
      "metadata": {
        "id": "OwLqbHY3OEmM"
      },
      "source": [
        "# Testing the trained model\n",
        "pred1 = neigh.predict(test1)"
      ],
      "execution_count": null,
      "outputs": []
    },
    {
      "cell_type": "code",
      "metadata": {
        "id": "bUgvF3lGOEqj",
        "outputId": "4520751d-9bd6-4462-a6fa-1fe8d9c1f8db",
        "colab": {
          "base_uri": "https://localhost:8080/",
          "height": 51
        }
      },
      "source": [
        "print(pred1,\"predictions\") #Predictions\n",
        "print(test.values[:,3],\"labels\") #labels"
      ],
      "execution_count": null,
      "outputs": [
        {
          "output_type": "stream",
          "text": [
            "[0 1 1 0 1] predictions\n",
            "[0 1 1 0 1] labels\n"
          ],
          "name": "stdout"
        }
      ]
    },
    {
      "cell_type": "code",
      "metadata": {
        "id": "dRYB9_WTNK8Z",
        "outputId": "1f15446b-a96e-4cb3-88a4-d58725010c4b",
        "colab": {
          "base_uri": "https://localhost:8080/",
          "height": 472
        }
      },
      "source": [
        "plt.style.use('default')\n",
        "oranges = train[train.labels == 0]\n",
        "apples = train[train.labels == 1]\n",
        "# Plotting Training data\n",
        "plt.scatter(oranges.Sphericity, oranges.Weight,color=\"green\",marker=\"o\") \n",
        "plt.scatter(apples.Sphericity, apples.Weight,color=\"red\",marker=\"o\")\n",
        "oranges = test[test.labels == 0]\n",
        "apples = test[test.labels == 1]\n",
        "\n",
        "# Plotting Testing data\n",
        "plt.scatter(oranges.Sphericity, oranges.Weight,color=\"green\",marker=\"*\",s=200)\n",
        "plt.scatter(apples.Sphericity, apples.Weight,color=\"red\",marker=\"*\",s=200)\n",
        "plt.xlabel(\"Sperificity\")\n",
        "plt.ylabel(\"Weight\")\n",
        "plt.legend([\"Oranges\", \"Apples\"])\n",
        "plt.title(\"The train and test points after scaling\")\n",
        "plt.show()"
      ],
      "execution_count": null,
      "outputs": [
        {
          "output_type": "display_data",
          "data": {
            "image/png": "[encoded data removed]",
            "text/plain": [
              "<Figure size 640x480 with 1 Axes>"
            ]
          },
          "metadata": {
            "tags": []
          }
        }
      ]
    },
    {
      "cell_type": "code",
      "metadata": {
        "id": "2QAGcnQCOi55",
        "outputId": "03e543c4-dea2-437a-9af7-2109338ffa61",
        "colab": {
          "base_uri": "https://localhost:8080/",
          "height": 102
        }
      },
      "source": [
        "pred2 = np.column_stack((test1,pred1.T))\n",
        "print(pred2)"
      ],
      "execution_count": null,
      "outputs": [
        {
          "output_type": "stream",
          "text": [
            "[[0.7741935483870968 1.0 0]\n",
            " [0.3548387096774195 0.5555555555555555 1]\n",
            " [0.12903225806451624 0.2555555555555556 1]\n",
            " [0.3548387096774195 0.6555555555555554 0]\n",
            " [0.0 0.4222222222222222 1]]\n"
          ],
          "name": "stdout"
        }
      ]
    },
    {
      "cell_type": "code",
      "metadata": {
        "id": "DiXU0fD6Oi2T",
        "outputId": "debac00b-0f9a-4016-90df-9b3399eef6e9",
        "colab": {
          "base_uri": "https://localhost:8080/",
          "height": 472
        }
      },
      "source": [
        "plt.style.use('default')\n",
        "oranges = train[train.labels == 0]\n",
        "apples = train[train.labels == 1]\n",
        "oranges1 = pred2[pred2[:,2]==0]\n",
        "apples1 = pred2[pred2[:,2]==1]\n",
        "plt.scatter(oranges.Sphericity, oranges.Weight,color=\"green\",marker=\"o\")\n",
        "plt.scatter(apples.Sphericity, apples.Weight,color=\"red\",marker=\"o\")\n",
        "plt.scatter(oranges1[:,0], oranges1[:,1], color=\"green\",marker=\"*\",s=200)\n",
        "plt.scatter(apples1[:,0], apples1[:,1], color=\"red\",marker=\"*\",s=200)\n",
        "plt.xlabel(\"Sperificity\")\n",
        "plt.ylabel(\"Weight\")\n",
        "plt.legend([\"Oranges\",\"Apples\"])\n",
        "plt.title(\"Predictions after scaling\")\n",
        "plt.show()"
      ],
      "execution_count": null,
      "outputs": [
        {
          "output_type": "display_data",
          "data": {
            "image/png": "[encoded data removed]",
            "text/plain": [
              "<Figure size 640x480 with 1 Axes>"
            ]
          },
          "metadata": {
            "tags": []
          }
        }
      ]
    }
  ]
}