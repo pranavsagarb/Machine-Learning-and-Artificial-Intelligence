{
  "nbformat": 4,
  "nbformat_minor": 0,
  "metadata": {
    "colab": {
      "provenance": []
    },
    "kernelspec": {
      "display_name": "Python 3",
      "language": "python",
      "name": "python3"
    }
  },
  "cells": [
    {
      "cell_type": "markdown",
      "metadata": {
        "id": "Q8a1fbkpD3h3"
      },
      "source": [
        "At the end of the experiment:\n",
        "\n",
        "1. Perform dimensionality reduction using Autoencoder\n",
        "2. Understand the relationship between Autoencoder and PCA\n"
      ]
    },
    {
      "cell_type": "markdown",
      "metadata": {
        "id": "DDU1l4gpIfh9"
      },
      "source": [
        "Let us start by importing all the required packages to perform this experiment:"
      ]
    },
    {
      "cell_type": "code",
      "metadata": {
        "id": "_f-PPleO89Tc"
      },
      "source": [
        "import torch\n",
        "import torch.nn as nn\n",
        "from torch.autograd import Variable\n",
        "import torch.utils.data as Data\n",
        "import torchvision.datasets as dsets\n",
        "import torchvision\n",
        "import torchvision.transforms as transforms\n",
        "import matplotlib.pyplot as plt\n",
        "import numpy as np\n",
        "%matplotlib inline"
      ],
      "execution_count": null,
      "outputs": []
    },
    {
      "cell_type": "markdown",
      "metadata": {
        "id": "7_gcTQxT89Th"
      },
      "source": [
        "### Defining the Parameters"
      ]
    },
    {
      "cell_type": "code",
      "metadata": {
        "id": "KPcD-sfa89Ti"
      },
      "source": [
        "EPOCH = 10\n",
        "batch_size = 64\n",
        "LR = 0.005      \n",
        "DOWNLOAD_MNIST = False\n",
        "### Number of images we want to test on\n",
        "N_TEST_IMG = 10"
      ],
      "execution_count": null,
      "outputs": []
    },
    {
      "cell_type": "markdown",
      "metadata": {
        "id": "tLIJVmFa89Tm"
      },
      "source": [
        "### Loading MNIST Dataset from Torchvision Datasets"
      ]
    },
    {
      "cell_type": "code",
      "metadata": {
        "id": "BL2xr9pu89Tn"
      },
      "source": [
        "#Loading the train set file\n",
        "train_data = dsets.MNIST(root='../data', \n",
        "                            train=True, \n",
        "                            transform=transforms.ToTensor(),  \n",
        "                            download=True)\n",
        "#Loading the test set file\n",
        "test_data = dsets.MNIST(root='../data', \n",
        "                           train=False, \n",
        "                           transform=transforms.ToTensor())"
      ],
      "execution_count": null,
      "outputs": []
    },
    {
      "cell_type": "markdown",
      "metadata": {
        "id": "yYwrpEAj89Tq"
      },
      "source": [
        "### Visulaizing one of the Training Data"
      ]
    },
    {
      "cell_type": "code",
      "metadata": {
        "id": "J2IQxwsp89Ts",
        "colab": {
          "base_uri": "https://localhost:8080/",
          "height": 383
        },
        "outputId": "e04b3c5c-f85c-4f7e-9474-e48634fb4f54"
      },
      "source": [
        "print(train_data.train_data.size())     # (60000, 28, 28)\n",
        "print(train_data.train_labels.size())   # (60000)\n",
        "plt.imshow(train_data.train_data[2].numpy(), cmap='gray')\n",
        "plt.title('%i' % train_data.train_labels[2])\n",
        "plt.show()"
      ],
      "execution_count": null,
      "outputs": [
        {
          "output_type": "stream",
          "text": [
            "torch.Size([60000, 28, 28])\n",
            "torch.Size([60000])\n"
          ],
          "name": "stdout"
        },
        {
          "output_type": "stream",
          "text": [
            "/usr/local/lib/python3.6/dist-packages/torchvision/datasets/mnist.py:55: UserWarning: train_data has been renamed data\n",
            "  warnings.warn(\"train_data has been renamed data\")\n",
            "/usr/local/lib/python3.6/dist-packages/torchvision/datasets/mnist.py:45: UserWarning: train_labels has been renamed targets\n",
            "  warnings.warn(\"train_labels has been renamed targets\")\n"
          ],
          "name": "stderr"
        },
        {
          "output_type": "display_data",
          "data": {
            "image/png": "[encoded data removed]",
            "text/plain": [
              "<Figure size 432x288 with 1 Axes>"
            ]
          },
          "metadata": {
            "tags": [],
            "needs_background": "light"
          }
        }
      ]
    },
    {
      "cell_type": "code",
      "metadata": {
        "id": "9LSB3YEb89Tz"
      },
      "source": [
        "#loading the train dataset\n",
        "train_loader = torch.utils.data.DataLoader(dataset=train_data, \n",
        "                                           batch_size=batch_size, \n",
        "                                           shuffle=True)\n",
        "\n",
        "# loading the test dataset\n",
        "\n",
        "test_loader = torch.utils.data.DataLoader(dataset=test_data, \n",
        "                                          batch_size=batch_size, \n",
        "                                          shuffle=True)"
      ],
      "execution_count": null,
      "outputs": []
    },
    {
      "cell_type": "markdown",
      "metadata": {
        "id": "Wvd8Xs5a89T3"
      },
      "source": [
        "### Building the Model"
      ]
    },
    {
      "cell_type": "markdown",
      "metadata": {
        "id": "KkfkhjUfJAPo"
      },
      "source": [
        "Here we are constructing an autoencoder model where the encoding network component is made up of four layers with 128, 64,12, 3 nodes. We we are trying to compress the data into 3 features which can be easily visualized. Decoding network component is made up of four layers with 3, 12, 64, 128 nodes. Each layer output in encoding and decoding network are passed through Tanh activation function.\n",
        "\n"
      ]
    },
    {
      "cell_type": "code",
      "metadata": {
        "id": "RyoJFOTZ89T5"
      },
      "source": [
        "class AutoEncoder(nn.Module):\n",
        "    def __init__(self):\n",
        "        super(AutoEncoder, self).__init__()\n",
        "\n",
        "        self.encoder = nn.Sequential(\n",
        "            # activation functions\n",
        "            nn.Linear(28*28, 128),\n",
        "            nn.Tanh(),\n",
        "            nn.Linear(128, 64),\n",
        "            nn.Tanh(),\n",
        "            nn.Linear(64, 12),\n",
        "            nn.Tanh(),\n",
        "            nn.Linear(12, 3),   # compress to 3 features which can be visualized in plt\n",
        "        )\n",
        "        self.decoder = nn.Sequential(\n",
        "            #activation functionsisualize the kernels and output of each filter at given layer\n",
        "\n",
        "#Understanding deep image representation\n",
        "\n",
        "#Visualize learned representations of layes\n",
        "            nn.Linear(3, 12),\n",
        "            nn.Tanh(),\n",
        "            nn.Linear(12, 64),\n",
        "            nn.Tanh(),\n",
        "            nn.Linear(64, 128),\n",
        "            nn.Tanh(),\n",
        "            nn.Linear(128, 28*28),\n",
        "            nn.Sigmoid(),       # compress to a range (0, 1)\n",
        "        )\n",
        "\n",
        "    def forward(self, x):\n",
        "        encoded = self.encoder(x)\n",
        "        decoded = self.decoder(encoded)\n",
        "        return encoded, decoded"
      ],
      "execution_count": null,
      "outputs": []
    },
    {
      "cell_type": "markdown",
      "metadata": {
        "id": "5-txDYHX89T8"
      },
      "source": [
        "To get the feel of how an autoencoder works, let us first try to plot the original and decoded image at every iteration. In the initial stage of iteration the decoded images contains more noise. As the iteration increases the noise get decreased and we will be able to see that the decoded images are similar to the original images.\n"
      ]
    },
    {
      "cell_type": "code",
      "metadata": {
        "id": "BwrKgl31K-ag"
      },
      "source": [
        "k = []\n",
        "for i in range(10):\n",
        "  k.append(i)"
      ],
      "execution_count": null,
      "outputs": []
    },
    {
      "cell_type": "code",
      "metadata": {
        "id": "jVteMERaLJNC",
        "colab": {
          "base_uri": "https://localhost:8080/",
          "height": 34
        },
        "outputId": "f6b5e214-d052-4656-edc0-88c204c73ae8"
      },
      "source": [
        "k"
      ],
      "execution_count": null,
      "outputs": [
        {
          "output_type": "execute_result",
          "data": {
            "text/plain": [
              "[0, 1, 2, 3, 4, 5, 6, 7, 8, 9]"
            ]
          },
          "metadata": {
            "tags": []
          },
          "execution_count": 16
        }
      ]
    },
    {
      "cell_type": "code",
      "metadata": {
        "id": "W-WQQi-i89T9",
        "colab": {
          "base_uri": "https://localhost:8080/",
          "height": 1000
        },
        "outputId": "b30e997a-621d-45d9-dc26-8fa7eb900284"
      },
      "source": [
        "autoencoder = AutoEncoder()\n",
        "print(autoencoder)\n",
        "\n",
        "# Initialization of Optimizer\n",
        "optimizer = torch.optim.Adam(autoencoder.parameters(), lr=LR)\n",
        "## Initialization of Mean Square Error\n",
        "loss_func = nn.MSELoss()\n",
        "all_train_data = np.empty((0,784))\n",
        "# original data (first row) for viewing\n",
        "view_data = train_data.train_data[:N_TEST_IMG].view(-1, 28*28).type(torch.FloatTensor)/255.\n",
        "for epoch in range(EPOCH):\n",
        "    for step, (x, y) in enumerate(train_loader):\n",
        "\n",
        "\n",
        "\n",
        "        b_x = x.view(-1, 28*28)   # batch x, shape (batch, 28*28)\n",
        "        b_y = x.view(-1, 28*28)   # batch y, shape (batch, 28*28)\n",
        "        b_label = y               # batch label. We don't however use this label here since the label is the image itself i.e. b_y\n",
        "        if  epoch == 0: #This is used later for PCA fit\n",
        "          all_train_data = np.concatenate([all_train_data,b_x])\n",
        "\n",
        "        encoded, decoded = autoencoder(b_x)\n",
        "        loss = loss_func(decoded, b_y)      # mean square error\n",
        "        optimizer.zero_grad()               # clear gradients for this training step\n",
        "        loss.backward()                     # backpropagation, compute gradients\n",
        "        optimizer.step()                    # apply gradients\n",
        "\n",
        "        if step % 500 == 0 and epoch in [0, 5, EPOCH-1]:\n",
        "            print('Epoch: ', epoch, '| train loss: %.4f' % loss.item())\n",
        "            # plotting decoded image (second row)\n",
        "            encoded_data, decoded_data = autoencoder(view_data)\n",
        "            # initialize figure\n",
        "            f, a = plt.subplots(2, N_TEST_IMG, figsize=(5, 2))\n",
        "            #Plotting orginal images\n",
        "            for i in range(N_TEST_IMG):\n",
        "                a[0][i].imshow(np.reshape(view_data.data.numpy()[i], (28, 28)), cmap='gray'); a[0][i].set_xticks(()); a[0][i].set_yticks(())\n",
        "            # Plotting the decoded images\n",
        "            for i in range(N_TEST_IMG):\n",
        "                a[1][i].clear()\n",
        "                a[1][i].imshow(np.reshape(decoded_data.data.numpy()[i], (28, 28)), cmap='gray')\n",
        "                a[1][i].set_xticks(()); a[1][i].set_yticks(())\n",
        "            plt.show(); "
      ],
      "execution_count": null,
      "outputs": [
        {
          "output_type": "stream",
          "text": [
            "AutoEncoder(\n",
            "  (encoder): Sequential(\n",
            "    (0): Linear(in_features=784, out_features=128, bias=True)\n",
            "    (1): Tanh()\n",
            "    (2): Linear(in_features=128, out_features=64, bias=True)\n",
            "    (3): Tanh()\n",
            "    (4): Linear(in_features=64, out_features=12, bias=True)\n",
            "    (5): Tanh()\n",
            "    (6): Linear(in_features=12, out_features=3, bias=True)\n",
            "  )\n",
            "  (decoder): Sequential(\n",
            "    (0): Linear(in_features=3, out_features=12, bias=True)\n",
            "    (1): Tanh()\n",
            "    (2): Linear(in_features=12, out_features=64, bias=True)\n",
            "    (3): Tanh()\n",
            "    (4): Linear(in_features=64, out_features=128, bias=True)\n",
            "    (5): Tanh()\n",
            "    (6): Linear(in_features=128, out_features=784, bias=True)\n",
            "    (7): Sigmoid()\n",
            "  )\n",
            ")\n"
          ],
          "name": "stdout"
        },
        {
          "output_type": "stream",
          "text": [
            "/usr/local/lib/python3.6/dist-packages/torchvision/datasets/mnist.py:55: UserWarning: train_data has been renamed data\n",
            "  warnings.warn(\"train_data has been renamed data\")\n"
          ],
          "name": "stderr"
        },
        {
          "output_type": "stream",
          "text": [
            "Epoch:  0 | train loss: 0.2329\n"
          ],
          "name": "stdout"
        },
        {
          "output_type": "display_data",
          "data": {
            "image/png": "[encoded data removed]",
            "text/plain": [
              "<Figure size 360x144 with 20 Axes>"
            ]
          },
          "metadata": {
            "tags": []
          }
        },
        {
          "output_type": "stream",
          "text": [
            "Epoch:  0 | train loss: 0.0593\n"
          ],
          "name": "stdout"
        },
        {
          "output_type": "display_data",
          "data": {
            "image/png": "[encoded data removed]",
            "text/plain": [
              "<Figure size 360x144 with 20 Axes>"
            ]
          },
          "metadata": {
            "tags": []
          }
        },
        {
          "output_type": "stream",
          "text": [
            "Epoch:  5 | train loss: 0.0396\n"
          ],
          "name": "stdout"
        },
        {
          "output_type": "display_data",
          "data": {
            "image/png": "[encoded data removed]",
            "text/plain": [
              "<Figure size 360x144 with 20 Axes>"
            ]
          },
          "metadata": {
            "tags": []
          }
        },
        {
          "output_type": "stream",
          "text": [
            "Epoch:  5 | train loss: 0.0341\n"
          ],
          "name": "stdout"
        },
        {
          "output_type": "display_data",
          "data": {
            "image/png": "[encoded data removed]",
            "text/plain": [
              "<Figure size 360x144 with 20 Axes>"
            ]
          },
          "metadata": {
            "tags": []
          }
        },
        {
          "output_type": "stream",
          "text": [
            "Epoch:  9 | train loss: 0.0387\n"
          ],
          "name": "stdout"
        },
        {
          "output_type": "display_data",
          "data": {
            "image/png": "[encoded data removed]",
            "text/plain": [
              "<Figure size 360x144 with 20 Axes>"
            ]
          },
          "metadata": {
            "tags": []
          }
        },
        {
          "output_type": "stream",
          "text": [
            "Epoch:  9 | train loss: 0.0335\n"
          ],
          "name": "stdout"
        },
        {
          "output_type": "display_data",
          "data": {
            "image/png": "[encoded data removed]",
            "text/plain": [
              "<Figure size 360x144 with 20 Axes>"
            ]
          },
          "metadata": {
            "tags": []
          }
        }
      ]
    },
    {
      "cell_type": "markdown",
      "metadata": {
        "id": "9-258Eb089UD"
      },
      "source": [
        "Applying Autoencoders on the test data and finding the loss on the test dataset"
      ]
    },
    {
      "cell_type": "code",
      "metadata": {
        "id": "VoNJcP4m89UE",
        "colab": {
          "base_uri": "https://localhost:8080/",
          "height": 68
        },
        "outputId": "2fcb8be6-cd82-4510-8a2a-2ec6fe8d3cdf"
      },
      "source": [
        "# Initialization of Optimizer\n",
        "optimizer = torch.optim.Adam(autoencoder.parameters(), lr=LR)\n",
        "## Initialization of Mean Square Error\n",
        "loss_func = nn.MSELoss()\n",
        "\n",
        "# original data (first row) for viewing\n",
        "view_data = test_data.test_data[:N_TEST_IMG].view(-1, 28*28).type(torch.FloatTensor)/255.\n",
        "all_test_data = np.empty((0,784))\n",
        "loss = 0\n",
        "\n",
        "for step, (x, y) in enumerate(test_loader):\n",
        "    b_x = x.view(-1, 28*28)   # batch x, shape (batch, 28*28)\n",
        "    b_y = x.view(-1, 28*28)   # batch y, shape (batch, 28*28)\n",
        "    b_label = y               # batch label.We don't however use this label here since the label is the image itself i.e. b_y\n",
        "    all_test_data = np.concatenate([all_test_data,b_x])\n",
        "\n",
        "    encoded, decoded = autoencoder(b_x)\n",
        "    loss += loss_func(decoded, b_y)\n",
        "\n",
        "print(loss)"
      ],
      "execution_count": null,
      "outputs": [
        {
          "output_type": "stream",
          "text": [
            "/usr/local/lib/python3.6/dist-packages/torchvision/datasets/mnist.py:60: UserWarning: test_data has been renamed data\n",
            "  warnings.warn(\"test_data has been renamed data\")\n"
          ],
          "name": "stderr"
        },
        {
          "output_type": "stream",
          "text": [
            "tensor(5.7722, grad_fn=<AddBackward0>)\n"
          ],
          "name": "stdout"
        }
      ]
    },
    {
      "cell_type": "code",
      "metadata": {
        "id": "ZUTnz6yWDUFq",
        "colab": {
          "base_uri": "https://localhost:8080/",
          "height": 34
        },
        "outputId": "d1343a6f-95d0-4722-d915-7fcf9d97bc8d"
      },
      "source": [
        "all_train_data.shape, all_test_data.shape"
      ],
      "execution_count": null,
      "outputs": [
        {
          "output_type": "execute_result",
          "data": {
            "text/plain": [
              "((60000, 784), (10000, 784))"
            ]
          },
          "metadata": {
            "tags": []
          },
          "execution_count": 19
        }
      ]
    },
    {
      "cell_type": "code",
      "metadata": {
        "id": "kRlZvLqiDZzi"
      },
      "source": [
        "all_data = np.concatenate([all_train_data,all_test_data])"
      ],
      "execution_count": null,
      "outputs": []
    },
    {
      "cell_type": "code",
      "metadata": {
        "id": "w6ZqoP7YEPMV",
        "colab": {
          "base_uri": "https://localhost:8080/",
          "height": 34
        },
        "outputId": "6bcd01e7-1f9b-4343-a82d-ae47fc4bd829"
      },
      "source": [
        "all_data.shape"
      ],
      "execution_count": null,
      "outputs": [
        {
          "output_type": "execute_result",
          "data": {
            "text/plain": [
              "(70000, 784)"
            ]
          },
          "metadata": {
            "tags": []
          },
          "execution_count": 21
        }
      ]
    },
    {
      "cell_type": "markdown",
      "metadata": {
        "id": "d5bb-Fh7nbna"
      },
      "source": [
        "Applying PCA on the data:"
      ]
    },
    {
      "cell_type": "code",
      "metadata": {
        "id": "sP2Krot089UM",
        "colab": {
          "base_uri": "https://localhost:8080/",
          "height": 34
        },
        "outputId": "3c00a66c-0098-4fd8-f4ee-2a68e75e62bc"
      },
      "source": [
        "from sklearn.decomposition import PCA\n",
        "import numpy as np\n",
        "# Reconstruct original data\n",
        "# Perform PCA for three components\n",
        "pca = PCA(3)\n",
        "pca.fit(all_train_data)\n",
        "loss = 0\n",
        "for step, (x, y) in enumerate(test_loader):\n",
        "        b_x = (x.view(-1, 28*28))   # batch x, shape (batch, 28*28)\n",
        "        b_y = (x.view(-1, 28*28))\n",
        "        b_x = np.array(b_x)\n",
        "        b_y = np.array(b_y)\n",
        "        #data_reduced = pca.fit_transform(b_x)\n",
        "        data_reduced = pca.transform(b_x)\n",
        "        data_reconstructed = pca.inverse_transform(data_reduced)\n",
        "        loss += ((abs(data_reconstructed) - (b_x)) ** 2).mean()\n",
        "print(loss)"
      ],
      "execution_count": null,
      "outputs": [
        {
          "output_type": "stream",
          "text": [
            "8.09331632424655\n"
          ],
          "name": "stdout"
        }
      ]
    }
  ]
}