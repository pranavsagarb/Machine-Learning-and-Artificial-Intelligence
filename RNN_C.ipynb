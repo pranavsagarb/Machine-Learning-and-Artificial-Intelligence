{
  "nbformat": 4,
  "nbformat_minor": 0,
  "metadata": {
    "colab": {
      "provenance": []
    },
    "kernelspec": {
      "display_name": "Python 3",
      "language": "python",
      "name": "python3"
    }
  },
  "cells": [
    {
      "cell_type": "markdown",
      "metadata": {
        "id": "sqK4U4dRP1H7"
      },
      "source": [
        "At the end of the experiment:\n",
        "\n",
        "1.   Generate text which is similar to the writing style of William Shakespeare\n",
        "2.   Understand how to adapt or tune the trained network"
      ]
    },
    {
      "cell_type": "markdown",
      "metadata": {
        "id": "3rXIJFmjoBdi"
      },
      "source": [
        "###  Description\n",
        "\n",
        "The dataset used in this experiment has partial content of different plays of Shakespeare concatenated into a single plain text file. \n",
        "\n",
        "Shakespeare is a famous English poet , play writer and actor. He is regarded as the greatest writer in the English language and the world's greatest dramatist. He is often called a England's national poet and the Bard of Avon. \n",
        "\n",
        "We have chosen plays of Shakespeare as our dataset mainly for two reasons : \n",
        "\n",
        "1. His work is widely recognized as standard for poetry and language.\n",
        "2. The result of combining of his work provides a sizeable corpus for our model to learn.\n",
        "\n",
        "The plays of Shakespeare are taken from the following url:\n",
        "\n",
        "www.opensourceshakespeare.org/views/plays/plays.php\n"
      ]
    },
    {
      "cell_type": "markdown",
      "metadata": {
        "id": "Wj_Bik_GtTml"
      },
      "source": [
        "In this experiment we will follow below steps:\n",
        "\n",
        "1.   Preparing the data\n",
        "2.   Building the model\n",
        "3.   Defining helper functions\n",
        "4.   Training the model\n",
        "5.    Adapting or Fine-tuning for text generation\n",
        "\n",
        "\n"
      ]
    },
    {
      "cell_type": "markdown",
      "metadata": {
        "id": "56VkvpnlvicS"
      },
      "source": [
        "Let us start by importing all the required packages to perform this experiment:"
      ]
    },
    {
      "cell_type": "code",
      "metadata": {
        "id": "11e72PpPZ6Ca"
      },
      "source": [
        "## Importing required packages\n",
        "import unidecode\n",
        "import string\n",
        "import random\n",
        "import re\n",
        "import torch\n",
        "import torch.nn as nn\n",
        "from torch.autograd import Variable"
      ],
      "execution_count": null,
      "outputs": []
    },
    {
      "cell_type": "code",
      "metadata": {
        "id": "sE5njLNJZ6Cg",
        "colab": {
          "base_uri": "https://localhost:8080/",
          "height": 35
        },
        "outputId": "2d37b713-24a3-4413-b7af-f28d91101be6"
      },
      "source": [
        "all_characters = string.printable\n",
        "## code to find length of all_characters and storing the value in n_characters\n",
        "n_characters = len(all_characters)\n",
        "## code to convert unicode characters into plain ASCII.\n",
        "file = unidecode.unidecode(open('shakespeare.txt').read())\n",
        "## code to find length of the file\n",
        "file_len = len(file)\n",
        "## printing the length of the file\n",
        "print('file_len =', file_len)"
      ],
      "execution_count": null,
      "outputs": [
        {
          "output_type": "stream",
          "text": [
            "file_len = 1115393\n"
          ],
          "name": "stdout"
        }
      ]
    },
    {
      "cell_type": "code",
      "metadata": {
        "id": "gM3NTD74Z6Cp",
        "colab": {
          "base_uri": "https://localhost:8080/",
          "height": 55
        },
        "outputId": "ba4f6606-70b2-43a1-afb9-0ddbad66e137"
      },
      "source": [
        "file[:1000]"
      ],
      "execution_count": null,
      "outputs": [
        {
          "output_type": "execute_result",
          "data": {
            "text/plain": [
              "\"First Citizen:\\nBefore we proceed any further, hear me speak.\\n\\nAll:\\nSpeak, speak.\\n\\nFirst Citizen:\\nYou are all resolved rather to die than to famish?\\n\\nAll:\\nResolved. resolved.\\n\\nFirst Citizen:\\nFirst, you know Caius Marcius is chief enemy to the people.\\n\\nAll:\\nWe know't, we know't.\\n\\nFirst Citizen:\\nLet us kill him, and we'll have corn at our own price.\\nIs't a verdict?\\n\\nAll:\\nNo more talking on't; let it be done: away, away!\\n\\nSecond Citizen:\\nOne word, good citizens.\\n\\nFirst Citizen:\\nWe are accounted poor citizens, the patricians good.\\nWhat authority surfeits on would relieve us: if they\\nwould yield us but the superfluity, while it were\\nwholesome, we might guess they relieved us humanely;\\nbut they think we are too dear: the leanness that\\nafflicts us, the object of our misery, is as an\\ninventory to particularise their abundance; our\\nsufferance is a gain to them Let us revenge this with\\nour pikes, ere we become rakes: for the gods know I\\nspeak this in hunger for bread, not in thirst for revenge.\\n\\n\""
            ]
          },
          "metadata": {
            "tags": []
          },
          "execution_count": 9
        }
      ]
    },
    {
      "cell_type": "code",
      "metadata": {
        "id": "1TffxtFCZ6Cz",
        "colab": {
          "base_uri": "https://localhost:8080/",
          "height": 163
        },
        "outputId": "4726e06f-ba96-452f-e2a0-4f57b4788786"
      },
      "source": [
        "## Initializing the length of chunk\n",
        "chunk_len = 200\n",
        "## Function to split the string into chunks\n",
        "def random_chunk():\n",
        "    ## Initializing the starting index value of the big string \n",
        "    start_index = random.randint(0, file_len - chunk_len)\n",
        "    ## Initializing the ending index of the string \n",
        "    end_index = start_index + chunk_len + 1\n",
        "    ## returning the chunk\n",
        "    return file[start_index:end_index]\n",
        "\n",
        "print((random_chunk()))"
      ],
      "execution_count": null,
      "outputs": [
        {
          "output_type": "stream",
          "text": [
            "hing-while,\n",
            "But you must trouble him with lewd complaints.\n",
            "\n",
            "QUEEN ELIZABETH:\n",
            "Brother of Gloucester, you mistake the matter.\n",
            "The king, of his own royal disposition,\n",
            "And not provoked by any suitor else;\n",
            "\n"
          ],
          "name": "stdout"
        }
      ]
    },
    {
      "cell_type": "code",
      "metadata": {
        "id": "3h1GIrjHZ6C9"
      },
      "source": [
        "### Creating recurrent neural network\n",
        "class RNN(nn.Module):\n",
        "    \n",
        "    def __init__(self, input_size, hidden_size, output_size, n_layers=1):\n",
        "        super(RNN, self).__init__()\n",
        "        self.input_size = input_size\n",
        "        self.hidden_size = hidden_size\n",
        "        self.output_size = output_size\n",
        "        self.n_layers = n_layers\n",
        "        self.encoder = nn.Embedding(input_size, hidden_size)\n",
        "        self.rnn = nn.RNN(hidden_size, hidden_size, n_layers)\n",
        "        self.decoder = nn.Linear(hidden_size, output_size)\n",
        "    \n",
        "    def forward(self, input, hidden):\n",
        "        input = self.encoder(input.view(1, -1))\n",
        "        output, hidden = self.rnn(input.view(1, 1, -1), hidden)\n",
        "        output = self.decoder(output.view(1, -1))\n",
        "        return output, hidden\n",
        "\n",
        "    def init_hidden(self):\n",
        "        return Variable(torch.zeros(self.n_layers, 1, self.hidden_size))"
      ],
      "execution_count": null,
      "outputs": []
    },
    {
      "cell_type": "code",
      "metadata": {
        "id": "_j2hxN7QZ6DF",
        "colab": {
          "base_uri": "https://localhost:8080/",
          "height": 35
        },
        "outputId": "f123f728-51d8-4793-b245-8b624f4a773e"
      },
      "source": [
        "# Turn string into list of longs\n",
        "def char_tensor(string):\n",
        "    ## tensor is a array\n",
        "    tensor = torch.zeros(len(string)).long()\n",
        "    for c in range(len(string)):\n",
        "        tensor[c] = all_characters.index(string[c])\n",
        "    return Variable(tensor)\n",
        "\n",
        "print(char_tensor('abcDEF'))"
      ],
      "execution_count": null,
      "outputs": [
        {
          "output_type": "stream",
          "text": [
            "tensor([10, 11, 12, 39, 40, 41])\n"
          ],
          "name": "stdout"
        }
      ]
    },
    {
      "cell_type": "code",
      "metadata": {
        "id": "siN-Z8X_Z6DN"
      },
      "source": [
        "def random_training_set():    \n",
        "    chunk = random_chunk()\n",
        "    inp = char_tensor(chunk[:-1])\n",
        "    target = char_tensor(chunk[1:])\n",
        "    return inp, target"
      ],
      "execution_count": null,
      "outputs": []
    },
    {
      "cell_type": "markdown",
      "metadata": {
        "id": "c4QPs5BqZ6DS"
      },
      "source": [
        "#### Evaluating"
      ]
    },
    {
      "cell_type": "code",
      "metadata": {
        "id": "v2m-JfwXZ6DW"
      },
      "source": [
        "def evaluate(prime_str='A', predict_len=100, temperature=0.8):\n",
        "    hidden = decoder.init_hidden()\n",
        "    prime_input = char_tensor(prime_str)\n",
        "    predicted = prime_str\n",
        "\n",
        "    # Use priming string to \"build up\" hidden state\n",
        "    for p in range(len(prime_str) - 1):\n",
        "        _, hidden = decoder(prime_input[p], hidden)\n",
        "    inp = prime_input[-1]\n",
        "    \n",
        "    for p in range(predict_len):\n",
        "        output, hidden = decoder(inp, hidden)\n",
        "        \n",
        "        # Sample from the network as a multinomial distribution\n",
        "        output_dist = output.data.view(-1).div(temperature).exp()\n",
        "        top_i = torch.multinomial(output_dist, 1)[0]\n",
        "        \n",
        "        # Add predicted character to string and use as next input\n",
        "        predicted_char = all_characters[top_i]\n",
        "        predicted += predicted_char\n",
        "        inp = char_tensor(predicted_char)\n",
        "\n",
        "    return predicted"
      ],
      "execution_count": null,
      "outputs": []
    },
    {
      "cell_type": "markdown",
      "metadata": {
        "id": "yZVmbuZ4Z6De"
      },
      "source": [
        "### 4. Training the Model"
      ]
    },
    {
      "cell_type": "code",
      "metadata": {
        "id": "rFevLn43Z6Dh"
      },
      "source": [
        "## Importing required packages\n",
        "import time, math\n",
        "## function to print amount of time passed\n",
        "def time_since(since):\n",
        "    s = time.time() - since\n",
        "    m = math.floor(s / 60)\n",
        "    s -= m * 60\n",
        "    return '%dm %ds' % (m, s)"
      ],
      "execution_count": null,
      "outputs": []
    },
    {
      "cell_type": "markdown",
      "metadata": {
        "id": "QXqylIRyZ6Dn"
      },
      "source": [
        "#### The main training function"
      ]
    },
    {
      "cell_type": "code",
      "metadata": {
        "id": "n3vWoTsxZ6Dp"
      },
      "source": [
        "def train(inp, target):\n",
        "    hidden = decoder.init_hidden()\n",
        "    decoder.zero_grad()\n",
        "    loss = 0\n",
        "\n",
        "    for c in range(chunk_len):\n",
        "        output, hidden = decoder(inp[c], hidden)\n",
        "        '''unsqueeze() is used to add dimension to the tensor'''\n",
        "        loss += criterion(output, target[c].unsqueeze(dim=0))\n",
        "    # Back propagation\n",
        "    loss.backward()\n",
        "    decoder_optimizer.step()\n",
        "\n",
        "    return loss.item() / chunk_len"
      ],
      "execution_count": null,
      "outputs": []
    },
    {
      "cell_type": "code",
      "metadata": {
        "id": "OPG6aUEeZ6Du",
        "colab": {
          "base_uri": "https://localhost:8080/",
          "height": 1000
        },
        "outputId": "47d318ec-ac31-45d1-b823-a299778b3099"
      },
      "source": [
        "n_epochs = 2000 #Number of epochs\n",
        "print_every = 50\n",
        "plot_every = 20\n",
        "hidden_size = 100\n",
        "n_layers = 1\n",
        "lr = 0.005\n",
        "\n",
        "decoder = RNN(n_characters, hidden_size, n_characters, n_layers)\n",
        "## Optimizer\n",
        "decoder_optimizer = torch.optim.Adam(decoder.parameters(), lr=lr)\n",
        "## Loss function\n",
        "criterion = nn.CrossEntropyLoss()\n",
        "\n",
        "start = time.time()\n",
        "all_losses = []\n",
        "loss_avg = 0\n",
        "\n",
        "for epoch in range(1, n_epochs + 1):\n",
        "    loss = train(*random_training_set())       \n",
        "    loss_avg += loss\n",
        "\n",
        "    if epoch % print_every == 0:\n",
        "        print('[%s (%d %d%%) %.4f]' % (time_since(start), epoch, epoch / n_epochs * 100, loss))\n",
        "        print(evaluate('Wh', 100), '\\n')\n",
        "\n",
        "    if epoch % plot_every == 0:\n",
        "        all_losses.append(loss_avg / plot_every)\n",
        "        loss_avg = 0"
      ],
      "execution_count": null,
      "outputs": [
        {
          "output_type": "stream",
          "text": [
            "[0m 4s (50 2%) 2.6452]\n",
            "Whes I lhoms nerr, wand the ure therhich ss ar, fou latd:\n",
            "Le dree:\n",
            "A:\n",
            "This freath ch le louhek, Iig, l \n",
            "\n",
            "[0m 8s (100 5%) 2.3658]\n",
            "Whe ag wee the sakos oure thoun: agce sow thest of tae iour my noter thing in the an this angedst oter \n",
            "\n",
            "[0m 13s (150 7%) 2.5844]\n",
            "Whourt.\n",
            "\n",
            "LUS:\n",
            "What that thow,\n",
            "Is ver?\n",
            "Bodow, thy wa fard of firtipt\n",
            "O, I wil speer theroundy he er cov \n",
            "\n",
            "[0m 17s (200 10%) 2.1372]\n",
            "Why, whost bomqus by theal afle onted oure sord hat thav arouth that you theage shongmeall woul amace  \n",
            "\n",
            "[0m 22s (250 12%) 2.0028]\n",
            "Whoubllass beaked\n",
            "I pe nall to the trith he stre tore hare, ge low, he, thy he lall hich wesfiar,\n",
            "Ward \n",
            "\n",
            "[0m 26s (300 15%) 2.2574]\n",
            "Whan: that nov to to shere blighthe are me day haren to they my it to thy the arak,\n",
            "wran wing'd\n",
            "Foon,\n",
            " \n",
            "\n",
            "[0m 30s (350 17%) 2.2111]\n",
            "Wher it in in thou forrs.\n",
            "Titill hall sstond pagnous hang.\n",
            "\n",
            "Slors forsht hall the ther norne. wand the \n",
            "\n",
            "[0m 34s (400 20%) 2.0980]\n",
            "Whert iver, hald ther the groonous ave the cones to now, sumes, herory thar bear, and\n",
            "you be give soce \n",
            "\n",
            "[0m 39s (450 22%) 2.0003]\n",
            "Whive you, leather not you lava, in oor man loved be you me thein thihed I sook: shall in!\n",
            "Ant aglers. \n",
            "\n",
            "[0m 43s (500 25%) 1.9096]\n",
            "What and ming morrongws that the mord me;\n",
            "What thy the nath withone a knas. what cout you buther brast \n",
            "\n",
            "[0m 48s (550 27%) 1.9292]\n",
            "Whis. I ance as to that istel stome and be to being a sentort of thy Lates but my put to have sto, bet \n",
            "\n",
            "[0m 52s (600 30%) 1.9136]\n",
            "Why me the the sereest preit that evert the purjull of your brie be and sond sterome\n",
            "The knot worgheed \n",
            "\n",
            "[0m 56s (650 32%) 2.1027]\n",
            "Wham make his preas mor potent wher chenour body by sorishe noble the waring for met, chither him shou \n",
            "\n",
            "[1m 1s (700 35%) 1.9630]\n",
            "Whan's, food call's from look;\n",
            "I strisure tin thim freat retious live my in of you as tho I for the li \n",
            "\n",
            "[1m 5s (750 37%) 2.1572]\n",
            "Whe knous the why camade\n",
            "We mar this thou and thou me othige, in a me to quight; Rode my eak's his mid \n",
            "\n",
            "[1m 9s (800 40%) 1.8095]\n",
            "Where whed a commores it beir,\n",
            "That thisgef returtertep this, withes, thou ming the streing a faren wi \n",
            "\n",
            "[1m 14s (850 42%) 1.9806]\n",
            "Whing hiont in is ell iver, wor fith is a lace,\n",
            "This bese me we prish is hear'd ohe dith an being worg \n",
            "\n",
            "[1m 18s (900 45%) 1.9132]\n",
            "Wh then this; a in I and distardy, him lorming the gore be be meat.\n",
            "\n",
            "VING ROMEO:\n",
            "Lan, sirnt for I a he \n",
            "\n",
            "[1m 22s (950 47%) 2.3082]\n",
            "What the! I am dows, a wordo thim trueting noter.\n",
            "\n",
            "The esarive the sunturst. Heartingars.\n",
            "\n",
            "Prot are wi \n",
            "\n",
            "[1m 27s (1000 50%) 1.9699]\n",
            "Whard: grave hercier cortent well\n",
            "and him teave,\n",
            "Ond phents, Ence, that ogent if thou Lead in ket, not \n",
            "\n",
            "[1m 31s (1050 52%) 1.9082]\n",
            "Whe my in theme of confill truttontand.\n",
            "\n",
            "SHENVE:\n",
            "And\n",
            "Of speather hink reathed freath,\n",
            "Oldoom the dubed \n",
            "\n",
            "[1m 36s (1100 55%) 1.9228]\n",
            "Where same the sleaces this the, welk yey as that that and I wase the than thib abroast for to met I h \n",
            "\n",
            "[1m 40s (1150 57%) 1.9486]\n",
            "What wapkingeme.\n",
            "\n",
            "POLUS:\n",
            "What crom to he'll thyse\n",
            "With, that lorst Nast the so it, Kall hold tindsher  \n",
            "\n",
            "[1m 44s (1200 60%) 1.9462]\n",
            "What ploded a neve so,\n",
            "Tertence.\n",
            "\n",
            "DUCHET:\n",
            "Segone cour.\n",
            "\n",
            "GRUMIO:\n",
            "Were the neld tean that not ervare am  \n",
            "\n",
            "[1m 49s (1250 62%) 2.1386]\n",
            "Whe I\n",
            "Srow\n",
            "Of be prewt must themps ar. her real me the tand unpeeen lintion ought the growed viste,--\n",
            " \n",
            "\n",
            "[1m 53s (1300 65%) 1.9665]\n",
            "Wher's so.\n",
            "\n",
            "AUTIO:\n",
            "Full here let me sens:\n",
            "And I inder goods, thery of thy enst and the man, prien,\n",
            "Thi \n",
            "\n",
            "[1m 57s (1350 67%) 1.8417]\n",
            "When and do love hape I well of as the becven it elf you loves; en spears, our Aup and and hou hore be \n",
            "\n",
            "[2m 2s (1400 70%) 1.9078]\n",
            "What poin I afficios; the praves,\n",
            "Whinful your hay,\n",
            "The to ailser, housits: in of my and it chold bo h \n",
            "\n",
            "[2m 6s (1450 72%) 2.0925]\n",
            "Whiled thoughup nos a ballo from to the bod brated forst him thiI hit a was a ansurrionty kill, to cri \n",
            "\n",
            "[2m 10s (1500 75%) 2.0076]\n",
            "What the the sules that the way hattred to the stome that were waster, faint concile he the you to tha \n",
            "\n",
            "[2m 15s (1550 77%) 2.1233]\n",
            "Whow me mora mean, and is sent more thing not blood, here me merie! nothery horge but motet from mosel \n",
            "\n",
            "[2m 19s (1600 80%) 1.7406]\n",
            "Whander.\n",
            "Thou you soo my fallemblo bid dorse my to muste of the sear pread thou Iwire, that'd bad, the \n",
            "\n",
            "[2m 23s (1650 82%) 1.9460]\n",
            "Whoumon lits that whou was whome with to long it, my whem man most is the sen them to to this that and \n",
            "\n",
            "[2m 28s (1700 85%) 1.6888]\n",
            "What feath you mith's a hall a dwer of is be nath lidste was have the main in is hare dight not all th \n",
            "\n",
            "[2m 32s (1750 87%) 1.7192]\n",
            "Whease, should the kne: speak not shack!\n",
            "\n",
            "Preak herson:\n",
            "Lown te hathation all the here he here,\n",
            "To ale \n",
            "\n",
            "[2m 36s (1800 90%) 2.2945]\n",
            "Whor her not and my jall lord shade my my sersand!\n",
            "\n",
            "HENENIUS:\n",
            "He the prasselk intersungs.\n",
            "This sticl r \n",
            "\n",
            "[2m 41s (1850 92%) 1.7422]\n",
            "Why lore as I did sired conjurde you angman of I off hear the here more a purcess;\n",
            "To the sulser the b \n",
            "\n",
            "[2m 45s (1900 95%) 1.6872]\n",
            "What herefore thy sance, ture, fiters,\n",
            "Onter oo live thy not thee,\n",
            "But our neto his but dison of in sa \n",
            "\n",
            "[2m 49s (1950 97%) 1.9732]\n",
            "What you with speecains.\n",
            "\n",
            "CLAUDIOL:\n",
            "And you have like fardedfer, heat: most\n",
            "The king make menperself h \n",
            "\n",
            "[2m 54s (2000 100%) 1.8086]\n",
            "Whous to be they the welcalus to the dayeanes matity of caust's, first my lords,\n",
            "And a done as blome,  \n",
            "\n"
          ],
          "name": "stdout"
        }
      ]
    },
    {
      "cell_type": "markdown",
      "metadata": {
        "id": "xWhQGN73Z6D4"
      },
      "source": [
        "#### Plotting the Training Losses"
      ]
    },
    {
      "cell_type": "code",
      "metadata": {
        "id": "aRMgqaJoZ6D8",
        "colab": {
          "base_uri": "https://localhost:8080/",
          "height": 299
        },
        "outputId": "9fc47418-a3e8-448a-effd-7616f2be26b9"
      },
      "source": [
        "import matplotlib.pyplot as plt\n",
        "import matplotlib.ticker as ticker\n",
        "%matplotlib inline\n",
        "\n",
        "plt.figure()\n",
        "plt.plot(all_losses)\n",
        "plt.xlabel(\"epoch\")\n",
        "plt.ylabel(\"loss\")"
      ],
      "execution_count": null,
      "outputs": [
        {
          "output_type": "execute_result",
          "data": {
            "text/plain": [
              "Text(0, 0.5, 'loss')"
            ]
          },
          "metadata": {
            "tags": []
          },
          "execution_count": 19
        },
        {
          "output_type": "display_data",
          "data": {
            "image/png": "[encoded data removed]",
            "text/plain": [
              "<Figure size 432x288 with 1 Axes>"
            ]
          },
          "metadata": {
            "tags": [],
            "needs_background": "light"
          }
        }
      ]
    },
    {
      "cell_type": "markdown",
      "metadata": {
        "id": "-hkcqnIlZ6EI"
      },
      "source": [
        "We can see the effects of this by adjusting the temperature argument:"
      ]
    },
    {
      "cell_type": "code",
      "metadata": {
        "id": "cSwY7UOEZ6EK",
        "colab": {
          "base_uri": "https://localhost:8080/",
          "height": 108
        },
        "outputId": "527cc59f-0d00-4b8a-bca0-db120f906bff"
      },
      "source": [
        "print(evaluate('u', 200, temperature=0.8))"
      ],
      "execution_count": null,
      "outputs": [
        {
          "output_type": "stream",
          "text": [
            "ur the sour yough,\n",
            "And what nawn a toe it\n",
            "Wears,\n",
            "To And he but make with of and leabrack,\n",
            "Beptake that awake ur, and make that with to man sirk love the like make this the lord, a where be the own we i\n"
          ],
          "name": "stdout"
        }
      ]
    },
    {
      "cell_type": "markdown",
      "metadata": {
        "id": "WIjNrZNSZ6ER"
      },
      "source": [
        "Lower temperatures are less varied, choosing only the more probable outputs:"
      ]
    },
    {
      "cell_type": "code",
      "metadata": {
        "id": "MB_ntU41a74t",
        "colab": {
          "base_uri": "https://localhost:8080/",
          "height": 55
        },
        "outputId": "55361b46-c7f7-4134-ad2d-1556b696d019"
      },
      "source": [
        "print(evaluate('Th', 200, temperature=0.2))"
      ],
      "execution_count": null,
      "outputs": [
        {
          "output_type": "stream",
          "text": [
            "The like the with the be the last the make the king the stalt the be a do the known the state a love the make the state, a with of the with a the lord, and the with the make the love the love the state \n"
          ],
          "name": "stdout"
        }
      ]
    },
    {
      "cell_type": "markdown",
      "metadata": {
        "id": "80cSDcEXZ6EU"
      },
      "source": [
        "\n",
        "Higher temperatures more varied, choosing less probable outputs:"
      ]
    },
    {
      "cell_type": "code",
      "metadata": {
        "id": "NXusqAsCZ6EV",
        "colab": {
          "base_uri": "https://localhost:8080/",
          "height": 217
        },
        "outputId": "7a57b5c7-ff8e-4101-8836-dd1779a3b0d4"
      },
      "source": [
        "print(evaluate('how', 200, temperature=1.4))"
      ],
      "execution_count": null,
      "outputs": [
        {
          "output_type": "stream",
          "text": [
            "howneds? Go-condcupatierple knows, no ot:\n",
            "Aptles, the lustlend oftakiak,\n",
            "A't\n",
            "Ully caste, thou\n",
            "tathan taBus-thee Hisetoqut!\n",
            "In af;\n",
            "And letoor:\n",
            "Bud dosted than throes!\n",
            "Ands jear thee-k, wrofe; che'd,\n",
            "\n",
            "TISF\n"
          ],
          "name": "stdout"
        }
      ]
    }
  ]
}